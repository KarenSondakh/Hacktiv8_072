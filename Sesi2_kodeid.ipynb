{
 "cells": [
  {
   "cell_type": "markdown",
   "metadata": {},
   "source": [
    "## Introduction to the if Statement\n",
    "## Conditional"
   ]
  },
  {
   "cell_type": "code",
   "execution_count": 2,
   "metadata": {},
   "outputs": [
    {
     "name": "stdout",
     "output_type": "stream",
     "text": [
      "Yes\n",
      "Yes\n",
      "Yes\n"
     ]
    }
   ],
   "source": [
    "x=0\n",
    "y=5\n",
    "\n",
    "if x<y:\n",
    "    print('Yes')\n",
    "\n",
    "if y<x:\n",
    "    print('Yes')\n",
    "\n",
    "if x:\n",
    "    print('Yes')\n",
    "\n",
    "if y:\n",
    "    print('Yes')\n",
    "\n",
    "if 'aul' in 'grault':\n",
    "    print('Yes')\n",
    "\n",
    "if 'quux' in ['foo','bar','baz']:\n",
    "    print('Yes')"
   ]
  },
  {
   "cell_type": "code",
   "execution_count": 3,
   "metadata": {},
   "outputs": [
    {
     "name": "stdout",
     "output_type": "stream",
     "text": [
      "After conditional\n"
     ]
    }
   ],
   "source": [
    "if 'foo' in ['bar','baz','qux']:\n",
    "    print('Expression was true')\n",
    "    print('Executing statement in suite')\n",
    "    print('...')\n",
    "    print('Done.')\n",
    "\n",
    "print('After conditional')"
   ]
  },
  {
   "cell_type": "code",
   "execution_count": 6,
   "metadata": {},
   "outputs": [
    {
     "name": "stdout",
     "output_type": "stream",
     "text": [
      "Outer condition is true\n",
      "Between inner conditions\n",
      "Inner condition 2\n",
      "End of outer condition\n",
      "After outer condition\n"
     ]
    }
   ],
   "source": [
    "if 'foo' in ['foo','bar','baz']:\n",
    "    print('Outer condition is true')\n",
    "\n",
    "    if 10>20:\n",
    "        print('Inner condition 2')\n",
    "    print('Between inner conditions')\n",
    "\n",
    "    if 10<20:\n",
    "        print('Inner condition 2')\n",
    "    print('End of outer condition')\n",
    "print ('After outer condition')\n"
   ]
  },
  {
   "cell_type": "markdown",
   "metadata": {},
   "source": [
    "## The Else and Elif Clauses"
   ]
  },
  {
   "cell_type": "code",
   "execution_count": 11,
   "metadata": {},
   "outputs": [
    {
     "name": "stdout",
     "output_type": "stream",
     "text": [
      "(first suite)\n",
      "x is small\n"
     ]
    }
   ],
   "source": [
    "x=20\n",
    "\n",
    "if x<50:\n",
    "    print('(first suite)')\n",
    "    print('x is small')\n",
    "else:\n",
    "    print('(second suite)')\n",
    "    print('x is large')"
   ]
  },
  {
   "cell_type": "code",
   "execution_count": 13,
   "metadata": {},
   "outputs": [
    {
     "name": "stdout",
     "output_type": "stream",
     "text": [
      "uang tidak cukup\n"
     ]
    }
   ],
   "source": [
    "#ELSE\n",
    "hargaBuku=20000\n",
    "hargaMajalah=5000\n",
    "uang=2000\n",
    "\n",
    "if uang> hargaBuku:\n",
    "    print('beli buku')\n",
    "else:\n",
    "    print('uang tidak cukup')"
   ]
  },
  {
   "cell_type": "code",
   "execution_count": 14,
   "metadata": {},
   "outputs": [
    {
     "name": "stdout",
     "output_type": "stream",
     "text": [
      "uang tidak cukup\n"
     ]
    }
   ],
   "source": [
    "#ELIF\n",
    "hargaBuku=20000\n",
    "hargaMajalah=5000\n",
    "uang=2000\n",
    "\n",
    "if uang> hargaBuku:\n",
    "    print('beli buku')\n",
    "elif uang> hargaMajalah:\n",
    "    print('beli Majalah')\n",
    "else:\n",
    "    print('uang tidak cukup')"
   ]
  },
  {
   "cell_type": "code",
   "execution_count": 17,
   "metadata": {},
   "outputs": [
    {
     "name": "stdout",
     "output_type": "stream",
     "text": [
      "Hello Hacktiv8\n"
     ]
    }
   ],
   "source": [
    "name='Hacktiv8'\n",
    "if name =='Fred':\n",
    "    print('Hello Fred')\n",
    "elif name=='Xander':\n",
    "    print('Hello Xander')\n",
    "elif name=='Hacktiv8':\n",
    "    print('Hello Hacktiv8')\n",
    "elif name=='Arnold':\n",
    "    print('Hello Arnold')\n",
    "else:\n",
    "    print(\"I don't know who you are!\")"
   ]
  },
  {
   "cell_type": "markdown",
   "metadata": {},
   "source": [
    "## One-Line if Statements\n",
    "\n",
    "umumnya tidak disarankan karena menyebabkan readibiity yang buruk, terutamta untuk pernyataan if yang kompleks."
   ]
  },
  {
   "cell_type": "code",
   "execution_count": 1,
   "metadata": {},
   "outputs": [
    {
     "name": "stdout",
     "output_type": "stream",
     "text": [
      "1\n",
      "2\n",
      "3\n"
     ]
    }
   ],
   "source": [
    "if 'f' in 'foo': print('1'); print('2'); print('3')"
   ]
  },
  {
   "cell_type": "code",
   "execution_count": 5,
   "metadata": {},
   "outputs": [
    {
     "name": "stdout",
     "output_type": "stream",
     "text": [
      "qux\n",
      "quux\n"
     ]
    }
   ],
   "source": [
    "x=2\n",
    "\n",
    "if x==1: print('foo'); print('bar'); print('baz')\n",
    "elif x==2: print('qux'); print('quux')\n",
    "else: print('corge'); print('grault')"
   ]
  },
  {
   "cell_type": "markdown",
   "metadata": {},
   "source": [
    "## Conditional Expressions"
   ]
  },
  {
   "cell_type": "code",
   "execution_count": 6,
   "metadata": {},
   "outputs": [
    {
     "name": "stdout",
     "output_type": "stream",
     "text": [
      "let's go to the beach\n"
     ]
    }
   ],
   "source": [
    "raining=False\n",
    "print(\"let's go to the\", 'beach' if not raining else 'library')"
   ]
  },
  {
   "cell_type": "code",
   "execution_count": 8,
   "metadata": {},
   "outputs": [
    {
     "name": "stdout",
     "output_type": "stream",
     "text": [
      "let's go to the library\n"
     ]
    }
   ],
   "source": [
    "raining=True\n",
    "print(\"let's go to the\", 'beach' if not raining else 'library')"
   ]
  },
  {
   "cell_type": "code",
   "execution_count": 10,
   "metadata": {},
   "outputs": [
    {
     "data": {
      "text/plain": [
       "'teen'"
      ]
     },
     "execution_count": 10,
     "metadata": {},
     "output_type": "execute_result"
    }
   ],
   "source": [
    "age=12\n",
    "s='teen' if age<21 else 'adult'\n",
    "s"
   ]
  },
  {
   "cell_type": "code",
   "execution_count": 11,
   "metadata": {},
   "outputs": [
    {
     "data": {
      "text/plain": [
       "'no'"
      ]
     },
     "execution_count": 11,
     "metadata": {},
     "output_type": "execute_result"
    }
   ],
   "source": [
    "'yes' if ('qux' in ['foo','bar','baz']) else 'no'"
   ]
  },
  {
   "cell_type": "markdown",
   "metadata": {},
   "source": [
    "## Python WHILE Loops\n",
    "Untuk membuat loop"
   ]
  },
  {
   "cell_type": "code",
   "execution_count": 14,
   "metadata": {},
   "outputs": [
    {
     "name": "stdout",
     "output_type": "stream",
     "text": [
      "4\n",
      "3\n",
      "2\n",
      "1\n",
      "0\n"
     ]
    }
   ],
   "source": [
    "n=5\n",
    "while n>0:\n",
    "    n-=1 #artinya selama n>0 maka n akan dikurangi dengan angka 1, dan berulang seterusnya hingga n=0 dan loop berhenti\n",
    "    print (n)"
   ]
  },
  {
   "cell_type": "code",
   "execution_count": 15,
   "metadata": {},
   "outputs": [
    {
     "name": "stdout",
     "output_type": "stream",
     "text": [
      "1\n",
      "2\n",
      "3\n",
      "4\n",
      "5\n"
     ]
    }
   ],
   "source": [
    "i=1\n",
    "while i<6:\n",
    "    print(i)\n",
    "    i+=1"
   ]
  },
  {
   "cell_type": "markdown",
   "metadata": {},
   "source": [
    "## Break and Continue Statement\n",
    "Break = menghentikan loop seluruhnya. Eksekusi program dilanjutkan ke pernyataan pertama setelah badan loop.\n",
    "Continue = menghentikan iterasi loop saat dijalankan. Eksekusi melompat ke atas loop, dan controlling expression dievaluasi ulang untuk menentukan apakah loop akan dieksekusi lagi atau dihentikan."
   ]
  },
  {
   "cell_type": "code",
   "execution_count": 17,
   "metadata": {},
   "outputs": [
    {
     "name": "stdout",
     "output_type": "stream",
     "text": [
      "4\n",
      "3\n",
      "Loop ended.\n"
     ]
    }
   ],
   "source": [
    "#Break\n",
    "n=5\n",
    "while n>0:\n",
    "    n-=1\n",
    "    if n==2:\n",
    "        break #langsung menyelesaikan loop ke 'Loop ended.'\n",
    "    print(n)\n",
    "print('Loop ended.')\n"
   ]
  },
  {
   "cell_type": "code",
   "execution_count": 19,
   "metadata": {},
   "outputs": [
    {
     "name": "stdout",
     "output_type": "stream",
     "text": [
      "4\n",
      "3\n",
      "1\n",
      "0\n",
      "Loop ended.\n"
     ]
    }
   ],
   "source": [
    "#Continue\n",
    "n=5\n",
    "while n>0:\n",
    "    n-=1\n",
    "    if n==2:\n",
    "        continue #saat n=2, iterasi terhenti dan tidak tercetak. kemudian iterasi dievaluasi ulang dari awal.\n",
    "    print(n)\n",
    "print('Loop ended.')"
   ]
  },
  {
   "cell_type": "code",
   "execution_count": 21,
   "metadata": {},
   "outputs": [
    {
     "name": "stdout",
     "output_type": "stream",
     "text": [
      "4\n",
      "3\n",
      "2\n",
      "1\n",
      "0\n",
      "Loop done.\n"
     ]
    }
   ],
   "source": [
    "#Else\n",
    "n=5\n",
    "while n>0:\n",
    "    n-=1\n",
    "    print(n)\n",
    "else:\n",
    "    print('Loop done.')"
   ]
  },
  {
   "cell_type": "code",
   "execution_count": 23,
   "metadata": {},
   "outputs": [
    {
     "name": "stdout",
     "output_type": "stream",
     "text": [
      "4\n",
      "3\n",
      "2\n"
     ]
    }
   ],
   "source": [
    "#Else and break\n",
    "n=5\n",
    "while n>0:\n",
    "    n-=1\n",
    "    print(n)\n",
    "    if n==2:\n",
    "        break\n",
    "else:\n",
    "    print('Loop done.')"
   ]
  },
  {
   "cell_type": "code",
   "execution_count": 26,
   "metadata": {},
   "outputs": [
    {
     "name": "stdout",
     "output_type": "stream",
     "text": [
      "daughter\n"
     ]
    }
   ],
   "source": [
    "#Nested while Loops\n",
    "age=15\n",
    "gender='F'\n",
    "if age<18:\n",
    "    if gender=='M':\n",
    "        print('son')\n",
    "    else:\n",
    "        print('daughter')\n",
    "elif age>=18 and age <65:\n",
    "    if gender=='M':\n",
    "        print('father')\n",
    "    else:\n",
    "        print('mother')\n",
    "else:\n",
    "    if gender=='M':\n",
    "        print('grandfather')\n",
    "    else:\n",
    "        print('grandmother')"
   ]
  },
  {
   "cell_type": "code",
   "execution_count": 27,
   "metadata": {},
   "outputs": [
    {
     "name": "stdout",
     "output_type": "stream",
     "text": [
      "foo\n",
      "> baz\n",
      "> qux\n",
      "bar\n",
      "> baz\n",
      "> qux\n"
     ]
    }
   ],
   "source": [
    "a=['foo','bar']\n",
    "while len(a):\n",
    "    print(a.pop(0))\n",
    "\n",
    "    b=['baz','qux']\n",
    "\n",
    "    while len(b):\n",
    "        print('>', b.pop(0))"
   ]
  },
  {
   "cell_type": "code",
   "execution_count": 49,
   "metadata": {},
   "outputs": [
    {
     "name": "stdout",
     "output_type": "stream",
     "text": [
      "foo\n",
      "bar\n",
      "baz\n"
     ]
    }
   ],
   "source": [
    "a=['foo','bar','baz']\n",
    "for i in a:\n",
    "    print(i)"
   ]
  },
  {
   "cell_type": "code",
   "execution_count": null,
   "metadata": {},
   "outputs": [],
   "source": []
  }
 ],
 "metadata": {
  "interpreter": {
   "hash": "fbef7dcae0d704a86a71542a44f0bbbde23672c402c6784b41197cb209f6f152"
  },
  "kernelspec": {
   "display_name": "Python 3.7.4 64-bit",
   "language": "python",
   "name": "python3"
  },
  "language_info": {
   "codemirror_mode": {
    "name": "ipython",
    "version": 3
   },
   "file_extension": ".py",
   "mimetype": "text/x-python",
   "name": "python",
   "nbconvert_exporter": "python",
   "pygments_lexer": "ipython3",
   "version": "3.7.4"
  },
  "orig_nbformat": 4
 },
 "nbformat": 4,
 "nbformat_minor": 2
}
