{
 "cells": [
  {
   "cell_type": "code",
   "execution_count": 4,
   "id": "81986d20",
   "metadata": {},
   "outputs": [
    {
     "name": "stdout",
     "output_type": "stream",
     "text": [
      "0.6944444444444445\n"
     ]
    }
   ],
   "source": [
    "#Soal1\n",
    "x=4\n",
    "y=3\n",
    "z=2\n",
    "\n",
    "w=((x+y*z)/(x*y))**z\n",
    "print(w)"
   ]
  },
  {
   "cell_type": "code",
   "execution_count": 36,
   "id": "dff30a71",
   "metadata": {},
   "outputs": [
    {
     "name": "stdout",
     "output_type": "stream",
     "text": [
      "Silahkan masukkan angka berapapun: 5\n",
      "Kuadrat dari 5 adalah 25\n"
     ]
    }
   ],
   "source": [
    "#Soal2\n",
    "import math\n",
    "x=int(input('Silahkan masukkan angka berapapun: '))\n",
    "y=2\n",
    "z=math.pow(x,y)\n",
    "print('Kuadrat dari {} adalah {}'.format (x, x**2))"
   ]
  },
  {
   "cell_type": "code",
   "execution_count": 39,
   "id": "c9c6996f",
   "metadata": {},
   "outputs": [
    {
     "name": "stdout",
     "output_type": "stream",
     "text": [
      "Jumlah hari: 488\n",
      "1 Tahun, 4 Bulan, 1 Minggu, 1 Hari\n"
     ]
    }
   ],
   "source": [
    "#Soal3\n",
    "bulan=30\n",
    "tahun=360\n",
    "minggu=7\n",
    "hari=1\n",
    "\n",
    "x=int(input('Jumlah hari: '))\n",
    "a=x//tahun\n",
    "b=(x%tahun)//bulan\n",
    "c= (x%tahun%bulan)//minggu\n",
    "d= (x%tahun%bulan%minggu)\n",
    "summary= (\"{} Tahun, {} Bulan, {} Minggu, {} Hari\").format(a,b,c,d)\n",
    "print(summary)"
   ]
  },
  {
   "cell_type": "code",
   "execution_count": 13,
   "id": "94cd1e8d",
   "metadata": {},
   "outputs": [
    {
     "name": "stdout",
     "output_type": "stream",
     "text": [
      "Usia Andi sekarang= 14 tahun\n",
      "Usia Budi sekarang= 35 tahun\n",
      "Berapa tahun dari sekarang= 2\n",
      "Usia Andi 2 tahun kemudian= 16 tahun\n",
      "Usia Budi 2 tahun kemudian= 37 tahun\n"
     ]
    }
   ],
   "source": [
    "#Soal4\n",
    "#Jumlah usia Andi and Budi =49th\n",
    "#Ratio usia Andi and Budi = 0.4 = 4:10=2:5\n",
    "#Berapa usia Andi and Budi dua tahun lagi?\n",
    "\n",
    "totalUmur=49\n",
    "ratioAndi=2\n",
    "ratioBudi=5\n",
    "totalRatio= ratioAndi+ratioBudi\n",
    "\n",
    "usiaAndi= totalUmur*(ratioAndi/totalRatio)\n",
    "usiaBudi= totalUmur-usiaAndi\n",
    "\n",
    "print('Usia Andi sekarang= {} tahun'.format(int(usiaAndi)))\n",
    "print('Usia Budi sekarang= {} tahun'.format(int(usiaBudi)))\n",
    "\n",
    "x=int(input('Berapa tahun dari sekarang= '))\n",
    "print('Usia Andi {} tahun kemudian= {} tahun'.format(int(x),int(usiaAndi+x)))\n",
    "print('Usia Budi {} tahun kemudian= {} tahun'.format(int(x),int(usiaBudi+x)))\n"
   ]
  },
  {
   "cell_type": "code",
   "execution_count": 15,
   "id": "cdf0b9fc",
   "metadata": {},
   "outputs": [
    {
     "name": "stdout",
     "output_type": "stream",
     "text": [
      "Lama waktu 1 jam, 12 menit, 0 detik\n",
      "Tabraknya pukul 10:12:0\n"
     ]
    }
   ],
   "source": [
    "#Soal6\n",
    "# 60 km/h + 40 km/h = 100 km/h\n",
    "# Dengan kecepatan 100 km/h. Berapa waktu yang dibutuhkan untuk menempuh jarak 120 km?\n",
    "# 120 / 100 = 1.2 jam\n",
    "# 1.2 * 60 = 72 menit => 60 menit + 12 menit\n",
    "# 9:00 => 10:12\n",
    "# waktu bertemu jam 10 menit ke 12\n",
    "import math \n",
    "\n",
    "jamAwal = 9\n",
    "jarakKM = 120\n",
    "kecepatanTotalKMperJam = 100\n",
    "kecepatanTotalKMperDetik = kecepatanTotalKMperJam/3600\n",
    "\n",
    "DetikTotal = jarakKM / kecepatanTotalKMperDetik\n",
    "lamaJam = math.floor(DetikTotal / 3600)\n",
    "lamaMenit = math.floor((DetikTotal%3600)/60)\n",
    "lamaDetik = math.floor((DetikTotal%3600)%60)\n",
    "\n",
    "print('Lama waktu ' +  str(lamaJam) + ' jam, ' + str(lamaMenit) + ' menit, ' + str(lamaDetik) + ' detik')\n",
    "print('Tabraknya pukul {}:{}:{}'.format(jamAwal + lamaJam,lamaMenit,lamaDetik))"
   ]
  },
  {
   "cell_type": "code",
   "execution_count": 3,
   "id": "ca16f066",
   "metadata": {},
   "outputs": [
    {
     "name": "stdin",
     "output_type": "stream",
     "text": [
      "Berapa Apel:  1\n",
      "Berapa Jeruk:  1\n",
      "Berapa Anggur:  1\n"
     ]
    },
    {
     "name": "stdout",
     "output_type": "stream",
     "text": [
      "45000\n",
      "\n",
      "Detail Belanja\n",
      "\n",
      "Apel: 1 x 10000 = 10000\n",
      "Jeruk: 1 x 15000 = 15000 \n",
      "Anggur: 1 x 20000 = 20000\n",
      "\n",
      "Total: 45000\n",
      "\n"
     ]
    }
   ],
   "source": [
    "#Soal6\n",
    "hargaApel=10000\n",
    "hargaJeruk=15000\n",
    "hargaAnggur=20000\n",
    "\n",
    "jumlahApel= int(input('Berapa Apel: '))\n",
    "jumlahJeruk= int(input('Berapa Jeruk: '))\n",
    "jumlahAnggur= int(input('Berapa Anggur: '))\n",
    "\n",
    "totalHargaApel= hargaApel*jumlahApel\n",
    "totalHargaJeruk= hargaJeruk*jumlahJeruk\n",
    "totalHargaAnggur= hargaAnggur*jumlahAnggur\n",
    "\n",
    "totalBelanja= totalHargaApel+totalHargaJeruk+totalHargaAnggur\n",
    "print(totalBelanja)\n",
    "\n",
    "print ('''\n",
    "Detail Belanja\n",
    "\n",
    "Apel: {jmlApel} x {hrgApel} = {totalHrgApel}\n",
    "Jeruk: {jmlJeruk} x {hrgJeruk} = {totalHrgJeruk} \n",
    "Anggur: {jmlAnggur} x {hrgAnggur} = {totalHrgAnggur}\n",
    "\n",
    "Total: {totalHarga}\n",
    "'''.format(jmlApel=jumlahApel, hrgApel=hargaApel, totalHrgApel=totalHargaApel,\n",
    "          jmlJeruk=jumlahJeruk, hrgJeruk=hargaJeruk, totalHrgJeruk=totalHargaJeruk,\n",
    "          jmlAnggur=jumlahAnggur, hrgAnggur=hargaAnggur, totalHrgAnggur=totalHargaAnggur,\n",
    "          totalHarga=totalBelanja))"
   ]
  },
  {
   "cell_type": "code",
   "execution_count": 2,
   "id": "cab3f55c",
   "metadata": {},
   "outputs": [],
   "source": [
    "x=10\n",
    "if x>=17:\n",
    "    print ('OK')"
   ]
  },
  {
   "cell_type": "code",
   "execution_count": null,
   "id": "8e8c8cd2-5f89-4711-a0df-08613dd8f674",
   "metadata": {},
   "outputs": [],
   "source": []
  }
 ],
 "metadata": {
  "kernelspec": {
   "display_name": "Python 3 (ipykernel)",
   "language": "python",
   "name": "python3"
  },
  "language_info": {
   "codemirror_mode": {
    "name": "ipython",
    "version": 3
   },
   "file_extension": ".py",
   "mimetype": "text/x-python",
   "name": "python",
   "nbconvert_exporter": "python",
   "pygments_lexer": "ipython3",
   "version": "3.9.7"
  }
 },
 "nbformat": 4,
 "nbformat_minor": 5
}
