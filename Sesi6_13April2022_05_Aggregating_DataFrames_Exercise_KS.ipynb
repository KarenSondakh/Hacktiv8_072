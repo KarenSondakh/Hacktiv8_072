{
  "cells": [
    {
      "cell_type": "code",
      "execution_count": 1,
      "metadata": {
        "id": "N2VQrzx2LXdE"
      },
      "outputs": [],
      "source": [
        "# import pandas, numpy, and load dataset\n",
        "import pandas as pd\n",
        "import numpy as np\n",
        "import matplotlib.pyplot as plt\n",
        "import seaborn as sns"
      ]
    },
    {
      "cell_type": "code",
      "execution_count": 2,
      "metadata": {
        "colab": {
          "base_uri": "https://localhost:8080/",
          "height": 73,
          "resources": {
            "http://localhost:8080/nbextensions/google.colab/files.js": {
              "data": "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",
              "headers": [
                [
                  "content-type",
                  "application/javascript"
                ]
              ],
              "ok": true,
              "status": 200,
              "status_text": ""
            }
          }
        },
        "id": "90q6XikZOPSe",
        "outputId": "a17a3dfb-aba3-418c-cfa1-71f376c26319"
      },
      "outputs": [
        {
          "data": {
            "text/html": [
              "\n",
              "     <input type=\"file\" id=\"files-7af8dfa2-efbb-4d52-8a32-31d0e6c469de\" name=\"files[]\" multiple disabled\n",
              "        style=\"border:none\" />\n",
              "     <output id=\"result-7af8dfa2-efbb-4d52-8a32-31d0e6c469de\">\n",
              "      Upload widget is only available when the cell has been executed in the\n",
              "      current browser session. Please rerun this cell to enable.\n",
              "      </output>\n",
              "      <script src=\"/nbextensions/google.colab/files.js\"></script> "
            ],
            "text/plain": [
              "<IPython.core.display.HTML object>"
            ]
          },
          "metadata": {},
          "output_type": "display_data"
        },
        {
          "name": "stdout",
          "output_type": "stream",
          "text": [
            "Saving 03. sales_subset.csv to 03. sales_subset.csv\n"
          ]
        }
      ],
      "source": [
        "from google.colab import files\n",
        "uploaded = files.upload()"
      ]
    },
    {
      "cell_type": "code",
      "execution_count": 2,
      "metadata": {
        "colab": {
          "base_uri": "https://localhost:8080/",
          "height": 423
        },
        "id": "UDQBN_EJOXlw",
        "outputId": "29eb9e53-2758-447a-e3bf-69a93fc95bb5"
      },
      "outputs": [
        {
          "data": {
            "text/html": [
              "<div>\n",
              "<style scoped>\n",
              "    .dataframe tbody tr th:only-of-type {\n",
              "        vertical-align: middle;\n",
              "    }\n",
              "\n",
              "    .dataframe tbody tr th {\n",
              "        vertical-align: top;\n",
              "    }\n",
              "\n",
              "    .dataframe thead th {\n",
              "        text-align: right;\n",
              "    }\n",
              "</style>\n",
              "<table border=\"1\" class=\"dataframe\">\n",
              "  <thead>\n",
              "    <tr style=\"text-align: right;\">\n",
              "      <th></th>\n",
              "      <th>Unnamed: 0</th>\n",
              "      <th>store</th>\n",
              "      <th>type</th>\n",
              "      <th>department</th>\n",
              "      <th>date</th>\n",
              "      <th>weekly_sales</th>\n",
              "      <th>is_holiday</th>\n",
              "      <th>temperature_c</th>\n",
              "      <th>fuel_price_usd_per_l</th>\n",
              "      <th>unemployment</th>\n",
              "    </tr>\n",
              "  </thead>\n",
              "  <tbody>\n",
              "    <tr>\n",
              "      <td>0</td>\n",
              "      <td>0</td>\n",
              "      <td>1</td>\n",
              "      <td>A</td>\n",
              "      <td>1</td>\n",
              "      <td>2/5/2010</td>\n",
              "      <td>24924.50</td>\n",
              "      <td>False</td>\n",
              "      <td>5.727778</td>\n",
              "      <td>0.679451</td>\n",
              "      <td>8.106</td>\n",
              "    </tr>\n",
              "    <tr>\n",
              "      <td>1</td>\n",
              "      <td>1</td>\n",
              "      <td>1</td>\n",
              "      <td>A</td>\n",
              "      <td>1</td>\n",
              "      <td>3/5/2010</td>\n",
              "      <td>21827.90</td>\n",
              "      <td>False</td>\n",
              "      <td>8.055556</td>\n",
              "      <td>0.693452</td>\n",
              "      <td>8.106</td>\n",
              "    </tr>\n",
              "    <tr>\n",
              "      <td>2</td>\n",
              "      <td>2</td>\n",
              "      <td>1</td>\n",
              "      <td>A</td>\n",
              "      <td>1</td>\n",
              "      <td>4/2/2010</td>\n",
              "      <td>57258.43</td>\n",
              "      <td>False</td>\n",
              "      <td>16.816667</td>\n",
              "      <td>0.718284</td>\n",
              "      <td>7.808</td>\n",
              "    </tr>\n",
              "    <tr>\n",
              "      <td>3</td>\n",
              "      <td>3</td>\n",
              "      <td>1</td>\n",
              "      <td>A</td>\n",
              "      <td>1</td>\n",
              "      <td>5/7/2010</td>\n",
              "      <td>17413.94</td>\n",
              "      <td>False</td>\n",
              "      <td>22.527778</td>\n",
              "      <td>0.748928</td>\n",
              "      <td>7.808</td>\n",
              "    </tr>\n",
              "    <tr>\n",
              "      <td>4</td>\n",
              "      <td>4</td>\n",
              "      <td>1</td>\n",
              "      <td>A</td>\n",
              "      <td>1</td>\n",
              "      <td>6/4/2010</td>\n",
              "      <td>17558.09</td>\n",
              "      <td>False</td>\n",
              "      <td>27.050000</td>\n",
              "      <td>0.714586</td>\n",
              "      <td>7.808</td>\n",
              "    </tr>\n",
              "    <tr>\n",
              "      <td>...</td>\n",
              "      <td>...</td>\n",
              "      <td>...</td>\n",
              "      <td>...</td>\n",
              "      <td>...</td>\n",
              "      <td>...</td>\n",
              "      <td>...</td>\n",
              "      <td>...</td>\n",
              "      <td>...</td>\n",
              "      <td>...</td>\n",
              "      <td>...</td>\n",
              "    </tr>\n",
              "    <tr>\n",
              "      <td>8794</td>\n",
              "      <td>8794</td>\n",
              "      <td>27</td>\n",
              "      <td>A</td>\n",
              "      <td>77</td>\n",
              "      <td>11/25/2011</td>\n",
              "      <td>477.00</td>\n",
              "      <td>True</td>\n",
              "      <td>8.822222</td>\n",
              "      <td>0.974531</td>\n",
              "      <td>7.906</td>\n",
              "    </tr>\n",
              "    <tr>\n",
              "      <td>8795</td>\n",
              "      <td>8795</td>\n",
              "      <td>27</td>\n",
              "      <td>A</td>\n",
              "      <td>77</td>\n",
              "      <td>2/24/2012</td>\n",
              "      <td>-8.27</td>\n",
              "      <td>False</td>\n",
              "      <td>5.411111</td>\n",
              "      <td>1.034762</td>\n",
              "      <td>8.009</td>\n",
              "    </tr>\n",
              "    <tr>\n",
              "      <td>8796</td>\n",
              "      <td>8796</td>\n",
              "      <td>27</td>\n",
              "      <td>A</td>\n",
              "      <td>77</td>\n",
              "      <td>3/2/2012</td>\n",
              "      <td>350.00</td>\n",
              "      <td>False</td>\n",
              "      <td>4.483333</td>\n",
              "      <td>1.052198</td>\n",
              "      <td>8.009</td>\n",
              "    </tr>\n",
              "    <tr>\n",
              "      <td>8797</td>\n",
              "      <td>8797</td>\n",
              "      <td>27</td>\n",
              "      <td>A</td>\n",
              "      <td>77</td>\n",
              "      <td>4/13/2012</td>\n",
              "      <td>175.00</td>\n",
              "      <td>False</td>\n",
              "      <td>11.233333</td>\n",
              "      <td>1.106089</td>\n",
              "      <td>8.253</td>\n",
              "    </tr>\n",
              "    <tr>\n",
              "      <td>8798</td>\n",
              "      <td>8798</td>\n",
              "      <td>27</td>\n",
              "      <td>A</td>\n",
              "      <td>77</td>\n",
              "      <td>5/18/2012</td>\n",
              "      <td>175.00</td>\n",
              "      <td>False</td>\n",
              "      <td>18.416667</td>\n",
              "      <td>1.064350</td>\n",
              "      <td>8.253</td>\n",
              "    </tr>\n",
              "  </tbody>\n",
              "</table>\n",
              "<p>8799 rows × 10 columns</p>\n",
              "</div>"
            ],
            "text/plain": [
              "      Unnamed: 0  store type  department        date  weekly_sales  \\\n",
              "0              0      1    A           1    2/5/2010      24924.50   \n",
              "1              1      1    A           1    3/5/2010      21827.90   \n",
              "2              2      1    A           1    4/2/2010      57258.43   \n",
              "3              3      1    A           1    5/7/2010      17413.94   \n",
              "4              4      1    A           1    6/4/2010      17558.09   \n",
              "...          ...    ...  ...         ...         ...           ...   \n",
              "8794        8794     27    A          77  11/25/2011        477.00   \n",
              "8795        8795     27    A          77   2/24/2012         -8.27   \n",
              "8796        8796     27    A          77    3/2/2012        350.00   \n",
              "8797        8797     27    A          77   4/13/2012        175.00   \n",
              "8798        8798     27    A          77   5/18/2012        175.00   \n",
              "\n",
              "      is_holiday  temperature_c  fuel_price_usd_per_l  unemployment  \n",
              "0          False       5.727778              0.679451         8.106  \n",
              "1          False       8.055556              0.693452         8.106  \n",
              "2          False      16.816667              0.718284         7.808  \n",
              "3          False      22.527778              0.748928         7.808  \n",
              "4          False      27.050000              0.714586         7.808  \n",
              "...          ...            ...                   ...           ...  \n",
              "8794        True       8.822222              0.974531         7.906  \n",
              "8795       False       5.411111              1.034762         8.009  \n",
              "8796       False       4.483333              1.052198         8.009  \n",
              "8797       False      11.233333              1.106089         8.253  \n",
              "8798       False      18.416667              1.064350         8.253  \n",
              "\n",
              "[8799 rows x 10 columns]"
            ]
          },
          "execution_count": 2,
          "metadata": {},
          "output_type": "execute_result"
        }
      ],
      "source": [
        "sales = pd.read_csv('03. sales_subset.csv')\n",
        "sales"
      ]
    },
    {
      "cell_type": "markdown",
      "metadata": {
        "id": "fb9Byb4iLOfL"
      },
      "source": [
        "1. Explore your new DataFrame first by printing the first few rows of the sales DataFrame.\n",
        "2. Print information about the columns in sales.\n",
        "3. Print the mean of the weekly_sales column.\n",
        "4. Print the median of the weekly_sales column."
      ]
    },
    {
      "cell_type": "code",
      "execution_count": 6,
      "metadata": {
        "colab": {
          "base_uri": "https://localhost:8080/"
        },
        "id": "FKIhkZ-8LNkV",
        "outputId": "868c8ffd-1303-4d76-98af-d4999f9e7cbf"
      },
      "outputs": [
        {
          "name": "stdout",
          "output_type": "stream",
          "text": [
            "   Unnamed: 0  store type  department      date  weekly_sales  is_holiday  \\\n",
            "0           0      1    A           1  2/5/2010      24924.50       False   \n",
            "1           1      1    A           1  3/5/2010      21827.90       False   \n",
            "2           2      1    A           1  4/2/2010      57258.43       False   \n",
            "3           3      1    A           1  5/7/2010      17413.94       False   \n",
            "4           4      1    A           1  6/4/2010      17558.09       False   \n",
            "\n",
            "   temperature_c  fuel_price_usd_per_l  unemployment  \n",
            "0       5.727778              0.679451         8.106  \n",
            "1       8.055556              0.693452         8.106  \n",
            "2      16.816667              0.718284         7.808  \n",
            "3      22.527778              0.748928         7.808  \n",
            "4      27.050000              0.714586         7.808  \n",
            "<class 'pandas.core.frame.DataFrame'>\n",
            "RangeIndex: 8799 entries, 0 to 8798\n",
            "Data columns (total 10 columns):\n",
            "Unnamed: 0              8799 non-null int64\n",
            "store                   8799 non-null int64\n",
            "type                    8799 non-null object\n",
            "department              8799 non-null int64\n",
            "date                    8799 non-null object\n",
            "weekly_sales            8799 non-null float64\n",
            "is_holiday              8799 non-null bool\n",
            "temperature_c           8799 non-null float64\n",
            "fuel_price_usd_per_l    8799 non-null float64\n",
            "unemployment            8799 non-null float64\n",
            "dtypes: bool(1), float64(4), int64(3), object(2)\n",
            "memory usage: 627.4+ KB\n",
            "None\n",
            "24473.506343902704\n",
            "12620.85\n"
          ]
        }
      ],
      "source": [
        "# Print the head of the sales DataFrame\n",
        "print(sales.head())\n",
        "\n",
        "# Print the info about the sales DataFrame\n",
        "print(sales.info())\n",
        "\n",
        "# Print the mean of weekly_sales\n",
        "print(sales['weekly_sales'].mean())\n",
        "\n",
        "# Print the median of weekly_sales\n",
        "print(sales['weekly_sales'].median())"
      ]
    },
    {
      "cell_type": "markdown",
      "metadata": {
        "id": "iu5cKK7KLc0_"
      },
      "source": [
        "1. Print the maximum of the date column.\n",
        "2. Print the minimum of the date column."
      ]
    },
    {
      "cell_type": "code",
      "execution_count": 8,
      "metadata": {
        "colab": {
          "base_uri": "https://localhost:8080/"
        },
        "id": "jjQKIu6RLfBS",
        "outputId": "9490de4a-9d6a-433d-ddcd-bde366916cc9"
      },
      "outputs": [
        {
          "name": "stdout",
          "output_type": "stream",
          "text": [
            "9/9/2011\n",
            "1/13/2012\n"
          ]
        }
      ],
      "source": [
        "# Print the maximum of the date column\n",
        "print(sales['date'].max())\n",
        "\n",
        "# Print the minimum of the date column\n",
        "print(sales['date'].min())"
      ]
    },
    {
      "cell_type": "markdown",
      "metadata": {
        "id": "jPIBtKj4Lgca"
      },
      "source": [
        "Use the custom iqr function defined for you along with .agg() to print the IQR of the temperature_c column of sales."
      ]
    },
    {
      "cell_type": "code",
      "execution_count": 13,
      "metadata": {
        "colab": {
          "base_uri": "https://localhost:8080/"
        },
        "id": "uhDYCkEaL716",
        "outputId": "c9a21ba6-308a-4875-9c05-f66383b183ae"
      },
      "outputs": [
        {
          "name": "stdout",
          "output_type": "stream",
          "text": [
            "16.75\n"
          ]
        }
      ],
      "source": [
        "# A custom IQR function\n",
        "def iqr(column):\n",
        "    return column.quantile(0.75) - column.quantile(0.25)\n",
        "    \n",
        "# Print IQR of the temperature_c column\n",
        "print(sales['temperature_c'].agg(iqr))"
      ]
    },
    {
      "cell_type": "markdown",
      "metadata": {
        "id": "O93qUiVPMB9d"
      },
      "source": [
        "Update the column selection to use the custom iqr function with .agg() to print the IQR of temperature_c, fuel_price_usd_per_l, and unemployment, in that order."
      ]
    },
    {
      "cell_type": "code",
      "execution_count": 15,
      "metadata": {
        "colab": {
          "base_uri": "https://localhost:8080/"
        },
        "id": "aQpo-JEzMCyT",
        "outputId": "5b5547c6-9665-4428-a4df-9b908d1962ce"
      },
      "outputs": [
        {
          "name": "stdout",
          "output_type": "stream",
          "text": [
            "temperature_c           16.750000\n",
            "fuel_price_usd_per_l     0.070006\n",
            "unemployment             0.553000\n",
            "dtype: float64\n"
          ]
        }
      ],
      "source": [
        "# A custom IQR function\n",
        "def iqr(column):\n",
        "    return column.quantile(0.75) - column.quantile(0.25)\n",
        "\n",
        "# Update to print IQR of temperature_c, fuel_price_usd_per_l, & unemployment\n",
        "print(sales[[\"temperature_c\", 'fuel_price_usd_per_l', 'unemployment']].agg(iqr))"
      ]
    },
    {
      "cell_type": "markdown",
      "metadata": {
        "id": "GB_quOGLMG8p"
      },
      "source": [
        "1. Sort the rows of sales_1_1 by the date column in ascending order.\n",
        "2. Get the cumulative sum of weekly_sales and add it as a new column of sales_1_1 called cum_weekly_sales.\n",
        "3. Get the cumulative maximum of weekly_sales, and add it as a column called cum_max_sales.\n",
        "4. Print the date, weekly_sales, cum_weekly_sales, and cum_max_sales columns."
      ]
    },
    {
      "cell_type": "code",
      "execution_count": 16,
      "metadata": {
        "colab": {
          "base_uri": "https://localhost:8080/"
        },
        "id": "SEZY2TYzMSIz",
        "outputId": "5fb14e04-4de1-4d5e-c489-b26a70895512"
      },
      "outputs": [
        {
          "name": "stdout",
          "output_type": "stream",
          "text": [
            "          date  weekly_sales  cum_weekly_sales  cum_max_sales\n",
            "693  1/20/2012        396.00        9908447.16      115564.35\n",
            "59    1/7/2011      22699.69        1751146.14       57258.43\n",
            "582   1/7/2011         51.84        8764538.83      115564.35\n",
            "769   1/7/2011       4121.22       11291160.85      115564.35\n",
            "202   1/7/2011       5180.76        4860620.16       57258.43\n",
            "..         ...           ...               ...            ...\n",
            "686   9/3/2010      11691.33        9861348.21      115564.35\n",
            "557   9/3/2010         22.24        8727851.78      115564.35\n",
            "837   9/3/2010      64285.98       16341036.18      140504.41\n",
            "19    9/3/2010      49015.05         671136.79       57258.43\n",
            "79    9/3/2010      18005.65        1997283.88       57258.43\n",
            "\n",
            "[901 rows x 4 columns]\n"
          ]
        }
      ],
      "source": [
        "sales_1 = sales[sales['department'] == 1]\n",
        "sales_1_1 = sales[sales['store'] == 1]\n",
        "\n",
        "# Sort sales_1_1 by date\n",
        "sales_1_1 = sales_1_1.sort_values('date')\n",
        "\n",
        "# Get the cumulative sum of weekly_sales, add as cum_weekly_sales col\n",
        "sales_1_1['cum_weekly_sales'] = sales['weekly_sales'].cumsum()\n",
        "\n",
        "# Get the cumulative max of weekly_sales, add as cum_max_sales col\n",
        "sales_1_1['cum_max_sales'] = sales['weekly_sales'].cummax()\n",
        "\n",
        "# See the columns you calculated\n",
        "print(sales_1_1[[\"date\", \"weekly_sales\", \"cum_weekly_sales\", \"cum_max_sales\"]])"
      ]
    },
    {
      "cell_type": "markdown",
      "metadata": {
        "id": "KwAUl0s4MXHU"
      },
      "source": [
        "1. Remove rows of sales with duplicate pairs of store and type and save as store_types and print the head.\n",
        "2. Remove rows of sales with duplicate pairs of store and department and save as store_depts and print the head.\n",
        "3. Subset the rows that are holiday weeks using the is_holiday column, and drop the duplicate dates, saving as holiday_dates.\n",
        "4. Select the date column of holiday_dates, and print."
      ]
    },
    {
      "cell_type": "code",
      "execution_count": 23,
      "metadata": {
        "colab": {
          "base_uri": "https://localhost:8080/"
        },
        "id": "yqLJaYHdMT6z",
        "outputId": "ebd57656-66db-421d-c95e-9cf13267a716"
      },
      "outputs": [
        {
          "name": "stdout",
          "output_type": "stream",
          "text": [
            "      Unnamed: 0  store type  ...  temperature_c fuel_price_usd_per_l  unemployment\n",
            "0              0      1    A  ...       5.727778             0.679451         8.106\n",
            "901          901      2    A  ...       4.550000             0.679451         8.324\n",
            "1798        1798      4    A  ...       6.533333             0.686319         8.623\n",
            "2699        2699      6    A  ...       4.683333             0.679451         7.259\n",
            "3593        3593     10    B  ...      12.411111             0.782478         9.765\n",
            "\n",
            "[5 rows x 10 columns]\n",
            "    Unnamed: 0  store type  ...  temperature_c fuel_price_usd_per_l  unemployment\n",
            "0            0      1    A  ...       5.727778             0.679451         8.106\n",
            "12          12      1    A  ...       5.727778             0.679451         8.106\n",
            "24          24      1    A  ...       5.727778             0.679451         8.106\n",
            "36          36      1    A  ...       5.727778             0.679451         8.106\n",
            "48          48      1    A  ...       5.727778             0.679451         8.106\n",
            "\n",
            "[5 rows x 10 columns]\n",
            "498     2010-09-10\n",
            "691     2011-11-25\n",
            "2315    2010-02-12\n",
            "6735    2012-09-07\n",
            "6810    2010-12-31\n",
            "6815    2012-02-10\n",
            "6820    2011-09-09\n",
            "Name: date, dtype: object\n"
          ]
        }
      ],
      "source": [
        "# Drop duplicate store/type combinations\n",
        "store_types = ____\n",
        "print(store_types.head())\n",
        "\n",
        "# Drop duplicate store/department combinations\n",
        "store_depts = ____\n",
        "print(store_depts.head())\n",
        "\n",
        "# Subset the rows where is_holiday is True and drop duplicate dates\n",
        "holiday_dates = sales[sales[____]].drop_duplicates(____)\n",
        "\n",
        "# Print date col of holiday_dates\n",
        "print(____)"
      ]
    },
    {
      "cell_type": "markdown",
      "metadata": {
        "id": "GFTjWCLSMccw"
      },
      "source": [
        "1. Count the number of stores of each store type in store_types.\n",
        "2. Count the proportion of stores of each store type in store_types.\n",
        "3. Count the number of different departments in store_depts, sorting the counts in descending order.\n",
        "4. Count the proportion of different departments in store_depts, sorting the proportions in descending order."
      ]
    },
    {
      "cell_type": "code",
      "execution_count": 19,
      "metadata": {
        "colab": {
          "base_uri": "https://localhost:8080/"
        },
        "id": "AmEmI2hEMiFA",
        "outputId": "ab3dc1d6-0534-4d51-c32b-0e10d7801267"
      },
      "outputs": [
        {
          "name": "stdout",
          "output_type": "stream",
          "text": [
            "      Unnamed: 0  store type  department      date  weekly_sales  is_holiday  \\\n",
            "0              0      1    A           1  2/5/2010      24924.50       False   \n",
            "901          901      2    A           1  2/5/2010      35034.06       False   \n",
            "1798        1798      4    A           1  2/5/2010      38724.42       False   \n",
            "2699        2699      6    A           1  2/5/2010      25619.00       False   \n",
            "3593        3593     10    B           1  2/5/2010      40212.84       False   \n",
            "\n",
            "      temperature_c  fuel_price_usd_per_l  unemployment  \n",
            "0          5.727778              0.679451         8.106  \n",
            "901        4.550000              0.679451         8.324  \n",
            "1798       6.533333              0.686319         8.623  \n",
            "2699       4.683333              0.679451         7.259  \n",
            "3593      12.411111              0.782478         9.765  \n",
            "    Unnamed: 0  store type  department      date  weekly_sales  is_holiday  \\\n",
            "0            0      1    A           1  2/5/2010      24924.50       False   \n",
            "12          12      1    A           2  2/5/2010      50605.27       False   \n",
            "24          24      1    A           3  2/5/2010      13740.12       False   \n",
            "36          36      1    A           4  2/5/2010      39954.04       False   \n",
            "48          48      1    A           5  2/5/2010      32229.38       False   \n",
            "\n",
            "    temperature_c  fuel_price_usd_per_l  unemployment  \n",
            "0        5.727778              0.679451         8.106  \n",
            "12       5.727778              0.679451         8.106  \n",
            "24       5.727778              0.679451         8.106  \n",
            "36       5.727778              0.679451         8.106  \n",
            "48       5.727778              0.679451         8.106  \n",
            "498      9/10/2010\n",
            "691     11/25/2011\n",
            "2315     2/12/2010\n",
            "6735      9/7/2012\n",
            "6810    12/31/2010\n",
            "6815     2/10/2012\n",
            "6820      9/9/2011\n",
            "Name: date, dtype: object\n"
          ]
        }
      ],
      "source": [
        "# Drop duplicate store/type combinations\n",
        "store_types = sales.drop_duplicates(['store', 'type'])\n",
        "print(store_types.head())\n",
        "\n",
        "# Drop duplicate store/department combinations\n",
        "store_depts = sales.drop_duplicates(['store', 'department'])\n",
        "print(store_depts.head())\n",
        "\n",
        "# Subset the rows where is_holiday is True and drop duplicate dates\n",
        "holiday_dates = sales[sales['is_holiday']].drop_duplicates('date')\n",
        "\n",
        "# Print date col of holiday_dates\n",
        "print(holiday_dates['date'])"
      ]
    },
    {
      "cell_type": "markdown",
      "metadata": {
        "id": "2HVl5811Mj-o"
      },
      "source": [
        "1. Calculate the total weekly_sales over the whole dataset.\n",
        "2. Subset for type \"A\" stores, and calculate their total weekly sales.\n",
        "3. Do the same for type \"B\" and type \"C\" stores.\n",
        "4. Combine the A/B/C results into a list, and divide by sales_all to get the proportion of sales by type."
      ]
    },
    {
      "cell_type": "code",
      "execution_count": 20,
      "metadata": {
        "colab": {
          "base_uri": "https://localhost:8080/"
        },
        "id": "ocAIoTO2Mpyu",
        "outputId": "8d8ba80c-3f42-44ff-f183-813391de2d68"
      },
      "outputs": [
        {
          "name": "stdout",
          "output_type": "stream",
          "text": [
            "[0.89236488 0.10763512 0.        ]\n"
          ]
        }
      ],
      "source": [
        "# Calc total weekly sales\n",
        "sales_all = sales[\"weekly_sales\"].sum()\n",
        "\n",
        "# Subset for type A stores, calc total weekly sales\n",
        "sales_A = sales[sales[\"type\"] == \"A\"][\"weekly_sales\"].sum()\n",
        "\n",
        "# Subset for type B stores, calc total weekly sales\n",
        "sales_B = sales[sales[\"type\"] == \"B\"][\"weekly_sales\"].sum()\n",
        "\n",
        "# Subset for type C stores, calc total weekly sales\n",
        "sales_C = sales[sales[\"type\"] == \"C\"][\"weekly_sales\"].sum()\n",
        "\n",
        "# Get proportion for each type\n",
        "sales_propn_by_type = [sales_A, sales_B, sales_C] / sales_all\n",
        "print(sales_propn_by_type)"
      ]
    },
    {
      "cell_type": "markdown",
      "metadata": {
        "id": "LQR3DTg7MqfP"
      },
      "source": [
        "1. Group sales by \"type\", take the sum of \"weekly_sales\", and store as sales_by_type.\n",
        "2. Calculate the proportion of sales at each store type by dividing by the sum of sales_by_type. Assign to sales_propn_by_type"
      ]
    },
    {
      "cell_type": "code",
      "execution_count": 21,
      "metadata": {
        "colab": {
          "base_uri": "https://localhost:8080/"
        },
        "id": "XAScBzEXMwG1",
        "outputId": "45d98f0e-0bc4-4fa3-82e2-a43fe17b3b17"
      },
      "outputs": [
        {
          "name": "stdout",
          "output_type": "stream",
          "text": [
            "type\n",
            "A    0.892365\n",
            "B    0.107635\n",
            "Name: weekly_sales, dtype: float64\n"
          ]
        }
      ],
      "source": [
        "# Group by type; calc total weekly sales\n",
        "sales_by_type = sales.groupby(\"type\")[\"weekly_sales\"].sum()\n",
        "\n",
        "# Get proportion for each type\n",
        "sales_propn_by_type = sales.groupby('type')[\"weekly_sales\"].sum() / sum(sales_by_type)\n",
        "print(sales_propn_by_type)"
      ]
    },
    {
      "cell_type": "markdown",
      "metadata": {
        "id": "EN8bPOYFMyJt"
      },
      "source": [
        "Group sales by \"type\" and \"is_holiday\", take the sum of weekly_sales, and store as sales_by_type_is_holiday."
      ]
    },
    {
      "cell_type": "code",
      "execution_count": 22,
      "metadata": {
        "colab": {
          "base_uri": "https://localhost:8080/"
        },
        "id": "6O50v6bvM0NZ",
        "outputId": "8083567a-42f7-4559-ae62-3978c3b472ac"
      },
      "outputs": [
        {
          "name": "stdout",
          "output_type": "stream",
          "text": [
            "type  is_holiday\n",
            "A     False         1.921472e+08\n",
            "      True          1.673938e+04\n",
            "B     False         2.317678e+07\n",
            "      True          1.621410e+03\n",
            "Name: weekly_sales, dtype: float64\n"
          ]
        }
      ],
      "source": [
        "# From previous step\n",
        "sales_by_type = sales.groupby(\"type\")[\"weekly_sales\"].sum()\n",
        "\n",
        "# Group by type and is_holiday; calc total weekly sales\n",
        "sales_by_type_is_holiday = sales.groupby(['type', 'is_holiday'])['weekly_sales'].sum()\n",
        "print(sales_by_type_is_holiday)"
      ]
    },
    {
      "cell_type": "markdown",
      "metadata": {
        "id": "rXyPIg8sM39h"
      },
      "source": [
        "1. Import numpy with the alias np.\n",
        "2. Get the min, max, mean, and median of weekly_sales for each store type using .groupby() and .agg(). Store this as sales_stats. Make sure to use numpy functions!\n",
        "3. Get the min, max, mean, and median of unemployment and fuel_price_usd_per_l for each store type. Store this as unemp_fuel_stats."
      ]
    },
    {
      "cell_type": "code",
      "execution_count": 23,
      "metadata": {
        "colab": {
          "base_uri": "https://localhost:8080/"
        },
        "id": "Lycytt0aM8SW",
        "outputId": "95bda7af-d1cc-4c9c-c187-fdbcffadd56b"
      },
      "outputs": [
        {
          "name": "stdout",
          "output_type": "stream",
          "text": [
            "        amin       amax          mean    median\n",
            "type                                           \n",
            "A    -1098.0  293966.05  24333.794913  12500.75\n",
            "B     -798.0  232558.51  25696.678370  13336.08\n",
            "     unemployment                         fuel_price_usd_per_l            \\\n",
            "             amin   amax      mean median                 amin      amax   \n",
            "type                                                                       \n",
            "A           3.879  8.992  7.899938  7.982             0.664129  1.107410   \n",
            "B           7.170  9.765  9.279323  9.199             0.760023  1.107674   \n",
            "\n",
            "                          \n",
            "          mean    median  \n",
            "type                      \n",
            "A     0.749172  0.743381  \n",
            "B     0.805858  0.803348  \n"
          ]
        }
      ],
      "source": [
        "# Import numpy with the alias np\n",
        "import numpy as np\n",
        "\n",
        "# For each store type, aggregate weekly_sales: get min, max, mean, and median\n",
        "sales_stats = sales.groupby('type')['weekly_sales'].agg([np.min, np.max, np.mean,  np.median])\n",
        "\n",
        "# Print sales_stats\n",
        "print(sales_stats)\n",
        "\n",
        "# For each store type, aggregate unemployment and fuel_price_usd_per_l: get min, max, mean, and median\n",
        "unemp_fuel_stats = sales.groupby('type')[['unemployment', 'fuel_price_usd_per_l']].agg([np.min, np.max, np.mean, np.median])\n",
        "\n",
        "# Print unemp_fuel_stats\n",
        "print(unemp_fuel_stats)"
      ]
    },
    {
      "cell_type": "markdown",
      "metadata": {
        "id": "Vag_lG1QNGvA"
      },
      "source": [
        "Get the mean weekly_sales by type using .pivot_table() and store as mean_sales_by_type."
      ]
    },
    {
      "cell_type": "code",
      "execution_count": 24,
      "metadata": {
        "colab": {
          "base_uri": "https://localhost:8080/"
        },
        "id": "MNfcK6-lNHb9",
        "outputId": "070ab529-e4a8-4c50-db10-a32f9ba5a83f"
      },
      "outputs": [
        {
          "name": "stdout",
          "output_type": "stream",
          "text": [
            "      weekly_sales\n",
            "type              \n",
            "A     24333.794913\n",
            "B     25696.678370\n"
          ]
        }
      ],
      "source": [
        "# Pivot for mean weekly_sales for each store type\n",
        "mean_sales_by_type = sales.pivot_table(values='weekly_sales', index='type')\n",
        "\n",
        "# Print mean_sales_by_type\n",
        "print(mean_sales_by_type)"
      ]
    },
    {
      "cell_type": "markdown",
      "metadata": {
        "id": "66VlpxihNJHb"
      },
      "source": [
        "Get the mean and median (using NumPy functions) of weekly_sales by type using .pivot_table() and store as mean_med_sales_by_type."
      ]
    },
    {
      "cell_type": "code",
      "execution_count": 26,
      "metadata": {
        "colab": {
          "base_uri": "https://localhost:8080/"
        },
        "id": "XtkLx_QlNLaf",
        "outputId": "16ea8361-efc7-47c1-f1d9-dd342afd7163"
      },
      "outputs": [
        {
          "name": "stdout",
          "output_type": "stream",
          "text": [
            "              mean       median\n",
            "      weekly_sales weekly_sales\n",
            "type                           \n",
            "A     24333.794913     12500.75\n",
            "B     25696.678370     13336.08\n"
          ]
        }
      ],
      "source": [
        "# Pivot for mean and median weekly_sales for each store type\n",
        "mean_med_sales_by_type = sales.pivot_table(values = 'weekly_sales', index='type', aggfunc=[np.mean, np.median])\n",
        "\n",
        "# Print mean_med_sales_by_type\n",
        "print(mean_med_sales_by_type)"
      ]
    },
    {
      "cell_type": "markdown",
      "metadata": {
        "id": "v-HMu9nRNNoy"
      },
      "source": [
        "Get the mean of weekly_sales by type and is_holiday using .pivot_table() and store as mean_sales_by_type_holiday."
      ]
    },
    {
      "cell_type": "code",
      "execution_count": 27,
      "metadata": {
        "colab": {
          "base_uri": "https://localhost:8080/"
        },
        "id": "bYmSdPffNSgJ",
        "outputId": "3cf757cf-ab4e-4a36-cf8c-a08362f41e97"
      },
      "outputs": [
        {
          "name": "stdout",
          "output_type": "stream",
          "text": [
            "is_holiday         False       True \n",
            "type                                \n",
            "A           24433.779126  507.253939\n",
            "B           25751.980533  810.705000\n"
          ]
        }
      ],
      "source": [
        "# Pivot for mean weekly_sales by store type and holiday \n",
        "mean_sales_by_type_holiday = sales.pivot_table(values = 'weekly_sales', index = 'type', columns = 'is_holiday', aggfunc = np.mean)\n",
        "\n",
        "# Print mean_sales_by_type_holiday\n",
        "print(mean_sales_by_type_holiday)"
      ]
    },
    {
      "cell_type": "markdown",
      "metadata": {
        "id": "0cxKQAWANT_G"
      },
      "source": [
        "Print the mean weekly_sales by department and type, filling in any missing values with 0."
      ]
    },
    {
      "cell_type": "code",
      "execution_count": 28,
      "metadata": {
        "colab": {
          "base_uri": "https://localhost:8080/"
        },
        "id": "MaO8UUv_NXTM",
        "outputId": "2468ad74-5337-4c18-903c-7c05d7155e7c"
      },
      "outputs": [
        {
          "name": "stdout",
          "output_type": "stream",
          "text": [
            "type                    A              B\n",
            "department                              \n",
            "1            33514.681019   44050.626667\n",
            "2            69614.386852  112958.526667\n",
            "3            18033.250833   30580.655000\n",
            "4            45839.196204   51219.654167\n",
            "5            37997.298889   63236.875000\n",
            "...                   ...            ...\n",
            "95          129969.181042   77082.102500\n",
            "96           19876.540667    9528.538333\n",
            "97           29705.815729    5828.873333\n",
            "98           13982.159167     217.428333\n",
            "99             374.786742       0.000000\n",
            "\n",
            "[80 rows x 2 columns]\n"
          ]
        }
      ],
      "source": [
        "# Print mean weekly_sales by department and type; fill missing values with 0\n",
        "print(sales.pivot_table(values = 'weekly_sales', index = 'department', columns = 'type', fill_value = 0))"
      ]
    },
    {
      "cell_type": "markdown",
      "metadata": {
        "id": "5nhIgRHWNafU"
      },
      "source": [
        "Print the mean weekly_sales by department and type, filling in any missing values with 0 and summing all rows and columns."
      ]
    },
    {
      "cell_type": "code",
      "execution_count": 29,
      "metadata": {
        "colab": {
          "base_uri": "https://localhost:8080/"
        },
        "id": "BCPXSlXnNY6h",
        "outputId": "d5f699a9-962e-4e93-824e-fe8153c6c80f"
      },
      "outputs": [
        {
          "name": "stdout",
          "output_type": "stream",
          "text": [
            "type                   A              B           All\n",
            "department                                           \n",
            "1           33514.681019   44050.626667  34568.275583\n",
            "2           69614.386852  112958.526667  73948.800833\n",
            "3           18033.250833   30580.655000  19287.991250\n",
            "4           45839.196204   51219.654167  46377.242000\n",
            "5           37997.298889   63236.875000  40521.256500\n",
            "...                  ...            ...           ...\n",
            "96          19876.540667    9528.538333  18659.128627\n",
            "97          29705.815729    5828.873333  27052.822130\n",
            "98          13982.159167     217.428333  12452.744630\n",
            "99            374.786742       0.000000    374.786742\n",
            "All         24333.794913   25696.678370  24473.506344\n",
            "\n",
            "[81 rows x 3 columns]\n"
          ]
        }
      ],
      "source": [
        "# Print the mean weekly_sales by department and type; fill missing values with 0s; sum all rows and cols\n",
        "print(sales.pivot_table(values=\"weekly_sales\", index=\"department\", columns=\"type\", fill_value = 0, margins = True))"
      ]
    },
    {
      "cell_type": "code",
      "execution_count": null,
      "metadata": {},
      "outputs": [],
      "source": []
    }
  ],
  "metadata": {
    "colab": {
      "name": "05. Aggregating DataFrames Exercise.ipynb",
      "provenance": []
    },
    "kernelspec": {
      "display_name": "Python 3",
      "name": "python3"
    },
    "language_info": {
      "name": "python",
      "version": "3.7.4"
    }
  },
  "nbformat": 4,
  "nbformat_minor": 0
}
