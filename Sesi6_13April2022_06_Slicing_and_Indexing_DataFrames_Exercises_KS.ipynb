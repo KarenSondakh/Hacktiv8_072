{
  "cells": [
    {
      "cell_type": "code",
      "execution_count": 1,
      "metadata": {
        "id": "yGVTVPZ8jvKX"
      },
      "outputs": [],
      "source": [
        "# import pandas, numpy, and load dataset\n",
        "import pandas as pd\n",
        "import numpy as np\n",
        "import matplotlib.pyplot as plt\n",
        "import seaborn as sns"
      ]
    },
    {
      "cell_type": "code",
      "execution_count": 2,
      "metadata": {
        "colab": {
          "base_uri": "https://localhost:8080/",
          "height": 73,
          "resources": {
            "http://localhost:8080/nbextensions/google.colab/files.js": {
              "data": "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",
              "headers": [
                [
                  "content-type",
                  "application/javascript"
                ]
              ],
              "ok": true,
              "status": 200,
              "status_text": ""
            }
          }
        },
        "id": "OV2bvLSGj5pD",
        "outputId": "c7110f7f-c74e-4799-f1fb-a8d10279c71a"
      },
      "outputs": [
        {
          "data": {
            "text/html": [
              "\n",
              "     <input type=\"file\" id=\"files-0941c5ca-12cc-412b-bf3f-aa0fdd8d8ee0\" name=\"files[]\" multiple disabled\n",
              "        style=\"border:none\" />\n",
              "     <output id=\"result-0941c5ca-12cc-412b-bf3f-aa0fdd8d8ee0\">\n",
              "      Upload widget is only available when the cell has been executed in the\n",
              "      current browser session. Please rerun this cell to enable.\n",
              "      </output>\n",
              "      <script src=\"/nbextensions/google.colab/files.js\"></script> "
            ],
            "text/plain": [
              "<IPython.core.display.HTML object>"
            ]
          },
          "metadata": {},
          "output_type": "display_data"
        },
        {
          "name": "stdout",
          "output_type": "stream",
          "text": [
            "Saving 04. temperatures.csv to 04. temperatures.csv\n"
          ]
        }
      ],
      "source": [
        "from google.colab import files\n",
        "uploaded = files.upload()"
      ]
    },
    {
      "cell_type": "code",
      "execution_count": 2,
      "metadata": {
        "colab": {
          "base_uri": "https://localhost:8080/",
          "height": 423
        },
        "id": "gmwuR_qSkJvo",
        "outputId": "632bb97e-7325-433c-ea8c-170c2bff8ff4"
      },
      "outputs": [
        {
          "data": {
            "text/html": [
              "<div>\n",
              "<style scoped>\n",
              "    .dataframe tbody tr th:only-of-type {\n",
              "        vertical-align: middle;\n",
              "    }\n",
              "\n",
              "    .dataframe tbody tr th {\n",
              "        vertical-align: top;\n",
              "    }\n",
              "\n",
              "    .dataframe thead th {\n",
              "        text-align: right;\n",
              "    }\n",
              "</style>\n",
              "<table border=\"1\" class=\"dataframe\">\n",
              "  <thead>\n",
              "    <tr style=\"text-align: right;\">\n",
              "      <th></th>\n",
              "      <th>date</th>\n",
              "      <th>city</th>\n",
              "      <th>country</th>\n",
              "      <th>avg_temp_c</th>\n",
              "    </tr>\n",
              "  </thead>\n",
              "  <tbody>\n",
              "    <tr>\n",
              "      <td>0</td>\n",
              "      <td>1/1/2000</td>\n",
              "      <td>Abidjan</td>\n",
              "      <td>Côte D'Ivoire</td>\n",
              "      <td>27.293</td>\n",
              "    </tr>\n",
              "    <tr>\n",
              "      <td>1</td>\n",
              "      <td>2/1/2000</td>\n",
              "      <td>Abidjan</td>\n",
              "      <td>Côte D'Ivoire</td>\n",
              "      <td>27.685</td>\n",
              "    </tr>\n",
              "    <tr>\n",
              "      <td>2</td>\n",
              "      <td>3/1/2000</td>\n",
              "      <td>Abidjan</td>\n",
              "      <td>Côte D'Ivoire</td>\n",
              "      <td>29.061</td>\n",
              "    </tr>\n",
              "    <tr>\n",
              "      <td>3</td>\n",
              "      <td>4/1/2000</td>\n",
              "      <td>Abidjan</td>\n",
              "      <td>Côte D'Ivoire</td>\n",
              "      <td>28.162</td>\n",
              "    </tr>\n",
              "    <tr>\n",
              "      <td>4</td>\n",
              "      <td>5/1/2000</td>\n",
              "      <td>Abidjan</td>\n",
              "      <td>Côte D'Ivoire</td>\n",
              "      <td>27.547</td>\n",
              "    </tr>\n",
              "    <tr>\n",
              "      <td>...</td>\n",
              "      <td>...</td>\n",
              "      <td>...</td>\n",
              "      <td>...</td>\n",
              "      <td>...</td>\n",
              "    </tr>\n",
              "    <tr>\n",
              "      <td>13994</td>\n",
              "      <td>3/1/2011</td>\n",
              "      <td>Seoul</td>\n",
              "      <td>South Korea</td>\n",
              "      <td>3.368</td>\n",
              "    </tr>\n",
              "    <tr>\n",
              "      <td>13995</td>\n",
              "      <td>4/1/2011</td>\n",
              "      <td>Seoul</td>\n",
              "      <td>South Korea</td>\n",
              "      <td>9.605</td>\n",
              "    </tr>\n",
              "    <tr>\n",
              "      <td>13996</td>\n",
              "      <td>5/1/2011</td>\n",
              "      <td>Seoul</td>\n",
              "      <td>South Korea</td>\n",
              "      <td>16.563</td>\n",
              "    </tr>\n",
              "    <tr>\n",
              "      <td>13997</td>\n",
              "      <td>6/1/2011</td>\n",
              "      <td>Seoul</td>\n",
              "      <td>South Korea</td>\n",
              "      <td>20.182</td>\n",
              "    </tr>\n",
              "    <tr>\n",
              "      <td>13998</td>\n",
              "      <td>7/1/2011</td>\n",
              "      <td>Seoul</td>\n",
              "      <td>South Korea</td>\n",
              "      <td>23.659</td>\n",
              "    </tr>\n",
              "  </tbody>\n",
              "</table>\n",
              "<p>13999 rows × 4 columns</p>\n",
              "</div>"
            ],
            "text/plain": [
              "           date     city        country  avg_temp_c\n",
              "0      1/1/2000  Abidjan  Côte D'Ivoire      27.293\n",
              "1      2/1/2000  Abidjan  Côte D'Ivoire      27.685\n",
              "2      3/1/2000  Abidjan  Côte D'Ivoire      29.061\n",
              "3      4/1/2000  Abidjan  Côte D'Ivoire      28.162\n",
              "4      5/1/2000  Abidjan  Côte D'Ivoire      27.547\n",
              "...         ...      ...            ...         ...\n",
              "13994  3/1/2011    Seoul    South Korea       3.368\n",
              "13995  4/1/2011    Seoul    South Korea       9.605\n",
              "13996  5/1/2011    Seoul    South Korea      16.563\n",
              "13997  6/1/2011    Seoul    South Korea      20.182\n",
              "13998  7/1/2011    Seoul    South Korea      23.659\n",
              "\n",
              "[13999 rows x 4 columns]"
            ]
          },
          "execution_count": 2,
          "metadata": {},
          "output_type": "execute_result"
        }
      ],
      "source": [
        "temperatures = pd.read_csv('04. temperatures.csv')\n",
        "temperatures.drop(columns=['Unnamed: 0'], inplace=True)\n",
        "temperatures"
      ]
    },
    {
      "cell_type": "markdown",
      "metadata": {
        "id": "pd9oiD3Ek6y6"
      },
      "source": [
        "1. Look at temperatures.\n",
        "2. Set the index of temperatures to \"city\", assigning to temperatures_ind.\n",
        "3. Look at temperatures_ind. How is it different from temperatures?\n",
        "4. Reset the index of temperatures_ind, keeping its contents.\n",
        "5. Reset the index of temperatures_ind, dropping its contents."
      ]
    },
    {
      "cell_type": "code",
      "execution_count": 6,
      "metadata": {
        "colab": {
          "base_uri": "https://localhost:8080/"
        },
        "id": "NRuRnLAskPYm",
        "outputId": "0afb222d-3d8b-4b7e-e30b-4cd200799610"
      },
      "outputs": [
        {
          "name": "stdout",
          "output_type": "stream",
          "text": [
            "           date     city        country  avg_temp_c\n",
            "0      1/1/2000  Abidjan  Côte D'Ivoire      27.293\n",
            "1      2/1/2000  Abidjan  Côte D'Ivoire      27.685\n",
            "2      3/1/2000  Abidjan  Côte D'Ivoire      29.061\n",
            "3      4/1/2000  Abidjan  Côte D'Ivoire      28.162\n",
            "4      5/1/2000  Abidjan  Côte D'Ivoire      27.547\n",
            "...         ...      ...            ...         ...\n",
            "13994  3/1/2011    Seoul    South Korea       3.368\n",
            "13995  4/1/2011    Seoul    South Korea       9.605\n",
            "13996  5/1/2011    Seoul    South Korea      16.563\n",
            "13997  6/1/2011    Seoul    South Korea      20.182\n",
            "13998  7/1/2011    Seoul    South Korea      23.659\n",
            "\n",
            "[13999 rows x 4 columns]\n",
            "             date        country  avg_temp_c\n",
            "city                                        \n",
            "Abidjan  1/1/2000  Côte D'Ivoire      27.293\n",
            "Abidjan  2/1/2000  Côte D'Ivoire      27.685\n",
            "Abidjan  3/1/2000  Côte D'Ivoire      29.061\n",
            "Abidjan  4/1/2000  Côte D'Ivoire      28.162\n",
            "Abidjan  5/1/2000  Côte D'Ivoire      27.547\n",
            "...           ...            ...         ...\n",
            "Seoul    3/1/2011    South Korea       3.368\n",
            "Seoul    4/1/2011    South Korea       9.605\n",
            "Seoul    5/1/2011    South Korea      16.563\n",
            "Seoul    6/1/2011    South Korea      20.182\n",
            "Seoul    7/1/2011    South Korea      23.659\n",
            "\n",
            "[13999 rows x 3 columns]\n",
            "<bound method DataFrame.reset_index of            date     city        country  avg_temp_c\n",
            "0      1/1/2000  Abidjan  Côte D'Ivoire      27.293\n",
            "1      2/1/2000  Abidjan  Côte D'Ivoire      27.685\n",
            "2      3/1/2000  Abidjan  Côte D'Ivoire      29.061\n",
            "3      4/1/2000  Abidjan  Côte D'Ivoire      28.162\n",
            "4      5/1/2000  Abidjan  Côte D'Ivoire      27.547\n",
            "...         ...      ...            ...         ...\n",
            "13994  3/1/2011    Seoul    South Korea       3.368\n",
            "13995  4/1/2011    Seoul    South Korea       9.605\n",
            "13996  5/1/2011    Seoul    South Korea      16.563\n",
            "13997  6/1/2011    Seoul    South Korea      20.182\n",
            "13998  7/1/2011    Seoul    South Korea      23.659\n",
            "\n",
            "[13999 rows x 4 columns]>\n",
            "<bound method DataFrame.reset_index of            date     city        country  avg_temp_c\n",
            "0      1/1/2000  Abidjan  Côte D'Ivoire      27.293\n",
            "1      2/1/2000  Abidjan  Côte D'Ivoire      27.685\n",
            "2      3/1/2000  Abidjan  Côte D'Ivoire      29.061\n",
            "3      4/1/2000  Abidjan  Côte D'Ivoire      28.162\n",
            "4      5/1/2000  Abidjan  Côte D'Ivoire      27.547\n",
            "...         ...      ...            ...         ...\n",
            "13994  3/1/2011    Seoul    South Korea       3.368\n",
            "13995  4/1/2011    Seoul    South Korea       9.605\n",
            "13996  5/1/2011    Seoul    South Korea      16.563\n",
            "13997  6/1/2011    Seoul    South Korea      20.182\n",
            "13998  7/1/2011    Seoul    South Korea      23.659\n",
            "\n",
            "[13999 rows x 4 columns]>\n"
          ]
        }
      ],
      "source": [
        "# Look at temperatures\n",
        "print(temperatures)\n",
        "\n",
        "# Index temperatures by city\n",
        "temperatures_ind = temperatures.set_index('city')\n",
        "\n",
        "# Look at temperatures_ind\n",
        "print(temperatures_ind)\n",
        "\n",
        "# Reset the index, keeping its contents\n",
        "print(temperatures.reset_index)\n",
        "\n",
        "# Reset the index, dropping its contents\n",
        "print(temperatures.reset_index)"
      ]
    },
    {
      "cell_type": "markdown",
      "metadata": {
        "id": "3tdGx_KllCUi"
      },
      "source": [
        "1. Create a list called cities that contains \"Moscow\" and \"Saint Petersburg\".\n",
        "2. Use [] subsetting to filter temperatures for rows where the city column takes a value in the cities list.\n",
        "3. Use .loc[] subsetting to filter temperatures_ind for rows where the city is in the cities list."
      ]
    },
    {
      "cell_type": "code",
      "execution_count": 7,
      "metadata": {
        "colab": {
          "base_uri": "https://localhost:8080/"
        },
        "id": "S5QS105XlE5i",
        "outputId": "4dbfd4b5-0a4f-4ba7-a9fc-89f33cd0bcb0"
      },
      "outputs": [
        {
          "ename": "KeyError",
          "evalue": "\"None of [Index(['Moscow', 'Saint Petersburg'], dtype='object')] are in the [columns]\"",
          "output_type": "error",
          "traceback": [
            "\u001b[1;31m---------------------------------------------------------------------------\u001b[0m",
            "\u001b[1;31mKeyError\u001b[0m                                  Traceback (most recent call last)",
            "\u001b[1;32m<ipython-input-7-1d8926f74874>\u001b[0m in \u001b[0;36m<module>\u001b[1;34m\u001b[0m\n\u001b[0;32m      3\u001b[0m \u001b[1;33m\u001b[0m\u001b[0m\n\u001b[0;32m      4\u001b[0m \u001b[1;31m# Subset temperatures using square brackets\u001b[0m\u001b[1;33m\u001b[0m\u001b[1;33m\u001b[0m\u001b[1;33m\u001b[0m\u001b[0m\n\u001b[1;32m----> 5\u001b[1;33m \u001b[0mprint\u001b[0m\u001b[1;33m(\u001b[0m\u001b[0mtemperatures\u001b[0m\u001b[1;33m[\u001b[0m\u001b[0mcities\u001b[0m\u001b[1;33m]\u001b[0m\u001b[1;33m)\u001b[0m\u001b[1;33m\u001b[0m\u001b[1;33m\u001b[0m\u001b[0m\n\u001b[0m\u001b[0;32m      6\u001b[0m \u001b[1;33m\u001b[0m\u001b[0m\n\u001b[0;32m      7\u001b[0m \u001b[1;31m# Subset temperatures_ind using .loc[]\u001b[0m\u001b[1;33m\u001b[0m\u001b[1;33m\u001b[0m\u001b[1;33m\u001b[0m\u001b[0m\n",
            "\u001b[1;32m~\\AppData\\Local\\Continuum\\anaconda3\\lib\\site-packages\\pandas\\core\\frame.py\u001b[0m in \u001b[0;36m__getitem__\u001b[1;34m(self, key)\u001b[0m\n\u001b[0;32m   2984\u001b[0m             \u001b[1;32mif\u001b[0m \u001b[0mis_iterator\u001b[0m\u001b[1;33m(\u001b[0m\u001b[0mkey\u001b[0m\u001b[1;33m)\u001b[0m\u001b[1;33m:\u001b[0m\u001b[1;33m\u001b[0m\u001b[1;33m\u001b[0m\u001b[0m\n\u001b[0;32m   2985\u001b[0m                 \u001b[0mkey\u001b[0m \u001b[1;33m=\u001b[0m \u001b[0mlist\u001b[0m\u001b[1;33m(\u001b[0m\u001b[0mkey\u001b[0m\u001b[1;33m)\u001b[0m\u001b[1;33m\u001b[0m\u001b[1;33m\u001b[0m\u001b[0m\n\u001b[1;32m-> 2986\u001b[1;33m             \u001b[0mindexer\u001b[0m \u001b[1;33m=\u001b[0m \u001b[0mself\u001b[0m\u001b[1;33m.\u001b[0m\u001b[0mloc\u001b[0m\u001b[1;33m.\u001b[0m\u001b[0m_convert_to_indexer\u001b[0m\u001b[1;33m(\u001b[0m\u001b[0mkey\u001b[0m\u001b[1;33m,\u001b[0m \u001b[0maxis\u001b[0m\u001b[1;33m=\u001b[0m\u001b[1;36m1\u001b[0m\u001b[1;33m,\u001b[0m \u001b[0mraise_missing\u001b[0m\u001b[1;33m=\u001b[0m\u001b[1;32mTrue\u001b[0m\u001b[1;33m)\u001b[0m\u001b[1;33m\u001b[0m\u001b[1;33m\u001b[0m\u001b[0m\n\u001b[0m\u001b[0;32m   2987\u001b[0m \u001b[1;33m\u001b[0m\u001b[0m\n\u001b[0;32m   2988\u001b[0m         \u001b[1;31m# take() does not accept boolean indexers\u001b[0m\u001b[1;33m\u001b[0m\u001b[1;33m\u001b[0m\u001b[1;33m\u001b[0m\u001b[0m\n",
            "\u001b[1;32m~\\AppData\\Local\\Continuum\\anaconda3\\lib\\site-packages\\pandas\\core\\indexing.py\u001b[0m in \u001b[0;36m_convert_to_indexer\u001b[1;34m(self, obj, axis, is_setter, raise_missing)\u001b[0m\n\u001b[0;32m   1283\u001b[0m                 \u001b[1;31m# When setting, missing keys are not allowed, even with .loc:\u001b[0m\u001b[1;33m\u001b[0m\u001b[1;33m\u001b[0m\u001b[1;33m\u001b[0m\u001b[0m\n\u001b[0;32m   1284\u001b[0m                 \u001b[0mkwargs\u001b[0m \u001b[1;33m=\u001b[0m \u001b[1;33m{\u001b[0m\u001b[1;34m\"raise_missing\"\u001b[0m\u001b[1;33m:\u001b[0m \u001b[1;32mTrue\u001b[0m \u001b[1;32mif\u001b[0m \u001b[0mis_setter\u001b[0m \u001b[1;32melse\u001b[0m \u001b[0mraise_missing\u001b[0m\u001b[1;33m}\u001b[0m\u001b[1;33m\u001b[0m\u001b[1;33m\u001b[0m\u001b[0m\n\u001b[1;32m-> 1285\u001b[1;33m                 \u001b[1;32mreturn\u001b[0m \u001b[0mself\u001b[0m\u001b[1;33m.\u001b[0m\u001b[0m_get_listlike_indexer\u001b[0m\u001b[1;33m(\u001b[0m\u001b[0mobj\u001b[0m\u001b[1;33m,\u001b[0m \u001b[0maxis\u001b[0m\u001b[1;33m,\u001b[0m \u001b[1;33m**\u001b[0m\u001b[0mkwargs\u001b[0m\u001b[1;33m)\u001b[0m\u001b[1;33m[\u001b[0m\u001b[1;36m1\u001b[0m\u001b[1;33m]\u001b[0m\u001b[1;33m\u001b[0m\u001b[1;33m\u001b[0m\u001b[0m\n\u001b[0m\u001b[0;32m   1286\u001b[0m         \u001b[1;32melse\u001b[0m\u001b[1;33m:\u001b[0m\u001b[1;33m\u001b[0m\u001b[1;33m\u001b[0m\u001b[0m\n\u001b[0;32m   1287\u001b[0m             \u001b[1;32mtry\u001b[0m\u001b[1;33m:\u001b[0m\u001b[1;33m\u001b[0m\u001b[1;33m\u001b[0m\u001b[0m\n",
            "\u001b[1;32m~\\AppData\\Local\\Continuum\\anaconda3\\lib\\site-packages\\pandas\\core\\indexing.py\u001b[0m in \u001b[0;36m_get_listlike_indexer\u001b[1;34m(self, key, axis, raise_missing)\u001b[0m\n\u001b[0;32m   1090\u001b[0m \u001b[1;33m\u001b[0m\u001b[0m\n\u001b[0;32m   1091\u001b[0m         self._validate_read_indexer(\n\u001b[1;32m-> 1092\u001b[1;33m             \u001b[0mkeyarr\u001b[0m\u001b[1;33m,\u001b[0m \u001b[0mindexer\u001b[0m\u001b[1;33m,\u001b[0m \u001b[0mo\u001b[0m\u001b[1;33m.\u001b[0m\u001b[0m_get_axis_number\u001b[0m\u001b[1;33m(\u001b[0m\u001b[0maxis\u001b[0m\u001b[1;33m)\u001b[0m\u001b[1;33m,\u001b[0m \u001b[0mraise_missing\u001b[0m\u001b[1;33m=\u001b[0m\u001b[0mraise_missing\u001b[0m\u001b[1;33m\u001b[0m\u001b[1;33m\u001b[0m\u001b[0m\n\u001b[0m\u001b[0;32m   1093\u001b[0m         )\n\u001b[0;32m   1094\u001b[0m         \u001b[1;32mreturn\u001b[0m \u001b[0mkeyarr\u001b[0m\u001b[1;33m,\u001b[0m \u001b[0mindexer\u001b[0m\u001b[1;33m\u001b[0m\u001b[1;33m\u001b[0m\u001b[0m\n",
            "\u001b[1;32m~\\AppData\\Local\\Continuum\\anaconda3\\lib\\site-packages\\pandas\\core\\indexing.py\u001b[0m in \u001b[0;36m_validate_read_indexer\u001b[1;34m(self, key, indexer, axis, raise_missing)\u001b[0m\n\u001b[0;32m   1175\u001b[0m                 raise KeyError(\n\u001b[0;32m   1176\u001b[0m                     \"None of [{key}] are in the [{axis}]\".format(\n\u001b[1;32m-> 1177\u001b[1;33m                         \u001b[0mkey\u001b[0m\u001b[1;33m=\u001b[0m\u001b[0mkey\u001b[0m\u001b[1;33m,\u001b[0m \u001b[0maxis\u001b[0m\u001b[1;33m=\u001b[0m\u001b[0mself\u001b[0m\u001b[1;33m.\u001b[0m\u001b[0mobj\u001b[0m\u001b[1;33m.\u001b[0m\u001b[0m_get_axis_name\u001b[0m\u001b[1;33m(\u001b[0m\u001b[0maxis\u001b[0m\u001b[1;33m)\u001b[0m\u001b[1;33m\u001b[0m\u001b[1;33m\u001b[0m\u001b[0m\n\u001b[0m\u001b[0;32m   1178\u001b[0m                     )\n\u001b[0;32m   1179\u001b[0m                 )\n",
            "\u001b[1;31mKeyError\u001b[0m: \"None of [Index(['Moscow', 'Saint Petersburg'], dtype='object')] are in the [columns]\""
          ]
        }
      ],
      "source": [
        "# Make a list of cities to subset on\n",
        "cities = [\"Moscow\", \"Saint Petersburg\"]\n",
        "\n",
        "# Subset temperatures using square brackets\n",
        "print(temperatures)\n",
        "\n",
        "# Subset temperatures_ind using .loc[]\n",
        "print(temperatures.loc[____])"
      ]
    },
    {
      "cell_type": "markdown",
      "metadata": {
        "id": "bVIDBB4tlJE-"
      },
      "source": [
        "1. Set the index of temperatures to the \"country\" and \"city\" columns, and assign this to temperatures_ind.\n",
        "2. Specify two country/city pairs to keep: \"Brazil\"/\"Rio De Janeiro\" and \"Pakistan\"/\"Lahore\", assigning to rows_to_keep.\n",
        "3. Print and subset temperatures_ind for rows_to_keep using .loc[]."
      ]
    },
    {
      "cell_type": "code",
      "execution_count": 13,
      "metadata": {
        "colab": {
          "base_uri": "https://localhost:8080/"
        },
        "id": "DmEwSPTFlLdh",
        "outputId": "29e2440e-1069-461f-93e4-e97a99e7a793"
      },
      "outputs": [
        {
          "name": "stdout",
          "output_type": "stream",
          "text": [
            "                             date  avg_temp_c\n",
            "country  city                                \n",
            "Brazil   Rio De Janeiro  1/1/2000      25.974\n",
            "         Rio De Janeiro  2/1/2000      26.699\n",
            "         Rio De Janeiro  3/1/2000      26.270\n",
            "         Rio De Janeiro  4/1/2000      25.750\n",
            "         Rio De Janeiro  5/1/2000      24.356\n",
            "...                           ...         ...\n",
            "Pakistan Lahore          5/1/2013      33.457\n",
            "         Lahore          6/1/2013      34.456\n",
            "         Lahore          7/1/2013      33.279\n",
            "         Lahore          8/1/2013      31.511\n",
            "         Lahore          9/1/2013         NaN\n",
            "\n",
            "[330 rows x 2 columns]\n"
          ]
        }
      ],
      "source": [
        "# Index temperatures by country & city\n",
        "temperatures_ind = temperatures.set_index(['country','city'])\n",
        "\n",
        "# List of tuples: Brazil, Rio De Janeiro & Pakistan, Lahore\n",
        "rows_to_keep = [('Brazil', 'Rio De Janeiro'), ('Pakistan','Lahore')]\n",
        "\n",
        "# Subset for rows to keep\n",
        "print(temperatures_ind.loc[rows_to_keep])"
      ]
    },
    {
      "cell_type": "markdown",
      "metadata": {
        "id": "juLSLkjmlXXW"
      },
      "source": [
        "1. Sort temperatures_ind by the index values.\n",
        "2. Sort temperatures_ind by the index values at the \"city\" level.\n",
        "3. Sort temperatures_ind by ascending country then descending city."
      ]
    },
    {
      "cell_type": "code",
      "execution_count": 24,
      "metadata": {
        "colab": {
          "base_uri": "https://localhost:8080/"
        },
        "id": "Rvp74s8nlZsN",
        "outputId": "627d9cde-c9fc-429a-e904-9093f10719c1"
      },
      "outputs": [
        {
          "name": "stdout",
          "output_type": "stream",
          "text": [
            "                        date  avg_temp_c\n",
            "country     city                        \n",
            "Afghanistan Kabul   1/1/2000       3.326\n",
            "            Kabul   2/1/2000       3.454\n",
            "            Kabul   3/1/2000       9.612\n",
            "            Kabul   4/1/2000      17.925\n",
            "            Kabul   5/1/2000      24.658\n",
            "...                      ...         ...\n",
            "Zimbabwe    Harare  5/1/2013      18.298\n",
            "            Harare  6/1/2013      17.020\n",
            "            Harare  7/1/2013      16.299\n",
            "            Harare  8/1/2013      19.232\n",
            "            Harare  9/1/2013         NaN\n",
            "\n",
            "[13999 rows x 2 columns]\n",
            "                             date  avg_temp_c\n",
            "country       city                           \n",
            "Côte D'Ivoire Abidjan    1/1/2000      27.293\n",
            "              Abidjan    2/1/2000      27.685\n",
            "              Abidjan    3/1/2000      29.061\n",
            "              Abidjan    4/1/2000      28.162\n",
            "              Abidjan    5/1/2000      27.547\n",
            "...                           ...         ...\n",
            "Brazil        São Paulo  5/1/2013      18.317\n",
            "              São Paulo  6/1/2013      18.124\n",
            "              São Paulo  7/1/2013      16.849\n",
            "              São Paulo  8/1/2013      18.215\n",
            "              São Paulo  9/1/2013         NaN\n",
            "\n",
            "[13999 rows x 2 columns]\n",
            "                        date  avg_temp_c\n",
            "country     city                        \n",
            "Afghanistan Kabul   1/1/2000       3.326\n",
            "            Kabul   2/1/2000       3.454\n",
            "            Kabul   3/1/2000       9.612\n",
            "            Kabul   4/1/2000      17.925\n",
            "            Kabul   5/1/2000      24.658\n",
            "...                      ...         ...\n",
            "Zimbabwe    Harare  5/1/2013      18.298\n",
            "            Harare  6/1/2013      17.020\n",
            "            Harare  7/1/2013      16.299\n",
            "            Harare  8/1/2013      19.232\n",
            "            Harare  9/1/2013         NaN\n",
            "\n",
            "[13999 rows x 2 columns]\n"
          ]
        }
      ],
      "source": [
        "# Sort temperatures_ind by index values\n",
        "print(temperatures_ind.sort_index())\n",
        "\n",
        "# Sort temperatures_ind by index values at the city level\n",
        "print(temperatures_ind.sort_index(level='city', ascending=True))\n",
        "\n",
        "# Sort temperatures_ind by country then descending city\n",
        "print(temperatures_ind.sort_index(level=['country','city'], ascending=[True, False]))"
      ]
    },
    {
      "cell_type": "markdown",
      "metadata": {
        "id": "TXAmRRybleDN"
      },
      "source": [
        "1. Sort the index of temperatures_ind.\n",
        "2. Use slicing with .loc[ ] to get these subsets:\n",
        "*   from Pakistan to Russia.\n",
        "*   from Lahore to Moscow. (This will return nonsense.)\n",
        "*   from Pakistan, Lahore to Russia, Moscow."
      ]
    },
    {
      "cell_type": "code",
      "execution_count": 32,
      "metadata": {
        "colab": {
          "base_uri": "https://localhost:8080/"
        },
        "id": "d6UI0T5Ylvkn",
        "outputId": "4580baa8-d639-4d54-d976-28d5629744c2"
      },
      "outputs": [
        {
          "name": "stdout",
          "output_type": "stream",
          "text": [
            "                               date  avg_temp_c\n",
            "country  city                                  \n",
            "Pakistan Faisalabad        1/1/2000      12.792\n",
            "         Faisalabad        2/1/2000      14.339\n",
            "         Faisalabad        3/1/2000      20.309\n",
            "         Faisalabad        4/1/2000      29.072\n",
            "         Faisalabad        5/1/2000      34.845\n",
            "...                             ...         ...\n",
            "Russia   Saint Petersburg  5/1/2013      12.355\n",
            "         Saint Petersburg  6/1/2013      17.185\n",
            "         Saint Petersburg  7/1/2013      17.234\n",
            "         Saint Petersburg  8/1/2013      17.153\n",
            "         Saint Petersburg  9/1/2013         NaN\n",
            "\n",
            "[1155 rows x 2 columns]\n",
            "                        date  avg_temp_c\n",
            "country city                            \n",
            "Mexico  Mexico      1/1/2000      12.694\n",
            "        Mexico      2/1/2000      14.677\n",
            "        Mexico      3/1/2000      17.376\n",
            "        Mexico      4/1/2000      18.294\n",
            "        Mexico      5/1/2000      18.562\n",
            "...                      ...         ...\n",
            "Morocco Casablanca  5/1/2013      19.217\n",
            "        Casablanca  6/1/2013      23.649\n",
            "        Casablanca  7/1/2013      27.488\n",
            "        Casablanca  8/1/2013      27.952\n",
            "        Casablanca  9/1/2013         NaN\n",
            "\n",
            "[330 rows x 2 columns]\n",
            "                     date  avg_temp_c\n",
            "country  city                        \n",
            "Pakistan Lahore  1/1/2000      12.792\n",
            "         Lahore  2/1/2000      14.339\n",
            "         Lahore  3/1/2000      20.309\n",
            "         Lahore  4/1/2000      29.072\n",
            "         Lahore  5/1/2000      34.845\n",
            "...                   ...         ...\n",
            "Russia   Moscow  5/1/2013      16.152\n",
            "         Moscow  6/1/2013      18.718\n",
            "         Moscow  7/1/2013      18.136\n",
            "         Moscow  8/1/2013      17.485\n",
            "         Moscow  9/1/2013         NaN\n",
            "\n",
            "[660 rows x 2 columns]\n"
          ]
        }
      ],
      "source": [
        "# Sort the index of temperatures_ind\n",
        "temperatures_srt = temperatures_ind.sort_index()\n",
        "\n",
        "# Subset rows from Pakistan to Russia\n",
        "print(temperatures_srt.loc['Pakistan':'Russia'])\n",
        "\n",
        "# Try to subset rows from Lahore to Moscow\n",
        "print(temperatures_srt.loc['Lahore':'Moscow'])\n",
        "\n",
        "# Subset rows from Pakistan, Lahore to Russia, Moscow\n",
        "print(temperatures_srt.loc[('Pakistan','Lahore'):('Russia','Moscow')])"
      ]
    },
    {
      "cell_type": "markdown",
      "metadata": {
        "id": "72ItYf_zlz9O"
      },
      "source": [
        "1. Use .loc[ ] slicing to subset rows from India, Hyderabad to Iraq, Baghdad.\n",
        "2. Use .loc[ ] slicing to subset columns from date to avg_temp_c.\n",
        "3. Slice in both directions at once from Hyderabad to Baghdad, and date to avg_temp_c."
      ]
    },
    {
      "cell_type": "code",
      "execution_count": 32,
      "metadata": {
        "colab": {
          "base_uri": "https://localhost:8080/"
        },
        "id": "k42tOmBul5R8",
        "outputId": "3615b948-4718-42f7-ea58-3c1ebd962426"
      },
      "outputs": [
        {
          "name": "stdout",
          "output_type": "stream",
          "text": [
            "                         date  avg_temp_c\n",
            "country city                             \n",
            "India   Hyderabad  2000-01-01      23.779\n",
            "        Hyderabad  2000-02-01      25.826\n",
            "        Hyderabad  2000-03-01      28.821\n",
            "        Hyderabad  2000-04-01      32.698\n",
            "        Hyderabad  2000-05-01      32.438\n",
            "...                       ...         ...\n",
            "Iraq    Baghdad    2013-05-01      28.673\n",
            "        Baghdad    2013-06-01      33.803\n",
            "        Baghdad    2013-07-01      36.392\n",
            "        Baghdad    2013-08-01      35.463\n",
            "        Baghdad    2013-09-01         NaN\n",
            "\n",
            "[2145 rows x 2 columns]\n",
            "                          date  avg_temp_c\n",
            "country     city                          \n",
            "Afghanistan Kabul   2000-01-01       3.326\n",
            "            Kabul   2000-02-01       3.454\n",
            "            Kabul   2000-03-01       9.612\n",
            "            Kabul   2000-04-01      17.925\n",
            "            Kabul   2000-05-01      24.658\n",
            "...                        ...         ...\n",
            "Zimbabwe    Harare  2013-05-01      18.298\n",
            "            Harare  2013-06-01      17.020\n",
            "            Harare  2013-07-01      16.299\n",
            "            Harare  2013-08-01      19.232\n",
            "            Harare  2013-09-01         NaN\n",
            "\n",
            "[16500 rows x 2 columns]\n",
            "                         date  avg_temp_c\n",
            "country city                             \n",
            "India   Hyderabad  2000-01-01      23.779\n",
            "        Hyderabad  2000-02-01      25.826\n",
            "        Hyderabad  2000-03-01      28.821\n",
            "        Hyderabad  2000-04-01      32.698\n",
            "        Hyderabad  2000-05-01      32.438\n",
            "...                       ...         ...\n",
            "Iraq    Baghdad    2013-05-01      28.673\n",
            "        Baghdad    2013-06-01      33.803\n",
            "        Baghdad    2013-07-01      36.392\n",
            "        Baghdad    2013-08-01      35.463\n",
            "        Baghdad    2013-09-01         NaN\n",
            "\n",
            "[2145 rows x 2 columns]\n"
          ]
        }
      ],
      "source": [
        "# Subset rows from India, Hyderabad to Iraq, Baghdad\n",
        "print(____)\n",
        "\n",
        "# Subset columns from date to avg_temp_c\n",
        "print(____)\n",
        "\n",
        "# Subset in both directions at once\n",
        "print(____)"
      ]
    },
    {
      "cell_type": "markdown",
      "metadata": {
        "id": "oFZurYnzl9a3"
      },
      "source": [
        "1. Use Boolean conditions, not .isin() or .loc[], and the full date \"yyyy-mm-dd\", to subset temperatures for rows in 2010 and 2011 and print the results.\n",
        "2. Set the index to the date column and sort it.\n",
        "3. Use .loc[] to subset temperatures_ind for rows in 2010 and 2011.\n",
        "4. Use .loc[] to subset temperatures_ind for rows from Aug 2010 to Feb 2011."
      ]
    },
    {
      "cell_type": "code",
      "execution_count": 33,
      "metadata": {
        "colab": {
          "base_uri": "https://localhost:8080/"
        },
        "id": "v_gX-golmBjI",
        "outputId": "01b307f5-45bc-4a5e-f5e7-b6cc411066ce"
      },
      "outputs": [
        {
          "name": "stdout",
          "output_type": "stream",
          "text": [
            "             date     city        country  avg_temp_c\n",
            "120    2010-01-01  Abidjan  Côte D'Ivoire      28.270\n",
            "121    2010-02-01  Abidjan  Côte D'Ivoire      29.262\n",
            "122    2010-03-01  Abidjan  Côte D'Ivoire      29.596\n",
            "123    2010-04-01  Abidjan  Côte D'Ivoire      29.068\n",
            "124    2010-05-01  Abidjan  Côte D'Ivoire      28.258\n",
            "...           ...      ...            ...         ...\n",
            "16474  2011-08-01     Xian          China      23.069\n",
            "16475  2011-09-01     Xian          China      16.775\n",
            "16476  2011-10-01     Xian          China      12.587\n",
            "16477  2011-11-01     Xian          China       7.543\n",
            "16478  2011-12-01     Xian          China      -0.490\n",
            "\n",
            "[2400 rows x 4 columns]\n",
            "                  city    country  avg_temp_c\n",
            "date                                         \n",
            "2010-01-01  Faisalabad   Pakistan      11.810\n",
            "2010-01-01   Melbourne  Australia      20.016\n",
            "2010-01-01   Chongqing      China       7.921\n",
            "2010-01-01   São Paulo     Brazil      23.738\n",
            "2010-01-01   Guangzhou      China      14.136\n",
            "...                ...        ...         ...\n",
            "2010-12-01     Jakarta  Indonesia      26.602\n",
            "2010-12-01       Gizeh      Egypt      16.530\n",
            "2010-12-01      Nagpur      India      19.120\n",
            "2010-12-01      Sydney  Australia      19.559\n",
            "2010-12-01    Salvador     Brazil      26.265\n",
            "\n",
            "[1200 rows x 3 columns]\n",
            "                     city        country  avg_temp_c\n",
            "date                                                \n",
            "2010-08-01       Calcutta          India      30.226\n",
            "2010-08-01           Pune          India      24.941\n",
            "2010-08-01          Izmir         Turkey      28.352\n",
            "2010-08-01        Tianjin          China      25.543\n",
            "2010-08-01         Manila    Philippines      27.101\n",
            "...                   ...            ...         ...\n",
            "2011-01-01  Dar Es Salaam       Tanzania      28.541\n",
            "2011-01-01        Nairobi          Kenya      17.768\n",
            "2011-01-01    Addis Abeba       Ethiopia      17.708\n",
            "2011-01-01        Nanjing          China       0.144\n",
            "2011-01-01       New York  United States      -4.463\n",
            "\n",
            "[600 rows x 3 columns]\n"
          ]
        }
      ],
      "source": [
        "# Use Boolean conditions to subset temperatures for rows in 2010 and 2011\n",
        "temperatures_bool = ____[(____ >= ____) & (____ <= ____)]\n",
        "print(temperatures_bool)\n",
        "\n",
        "# Set date as the index and sort the index\n",
        "temperatures_ind = temperatures.____.____\n",
        "\n",
        "# Use .loc[] to subset temperatures_ind for rows in 2010 and 2011\n",
        "print(____)\n",
        "\n",
        "# Use .loc[] to subset temperatures_ind for rows from Aug 2010 to Feb 2011\n",
        "print(____)"
      ]
    },
    {
      "cell_type": "markdown",
      "metadata": {
        "id": "E4IJYEmVmJDl"
      },
      "source": [
        "Use .iloc[] on temperatures to take subsets.\n",
        "\n",
        "1. Get the 23rd row, 2nd column (index positions 22 and 1).\n",
        "2. Get the first 5 rows (index positions 0 to 5).\n",
        "3. Get all rows, columns 3 and 4 (index positions 2 to 4).\n",
        "4. Get the first 5 rows, columns 3 and 4."
      ]
    },
    {
      "cell_type": "code",
      "execution_count": 34,
      "metadata": {
        "colab": {
          "base_uri": "https://localhost:8080/"
        },
        "id": "PLANdlapmHoN",
        "outputId": "e47e14d8-a032-4de3-ec9d-fc712a1987e6"
      },
      "outputs": [
        {
          "name": "stdout",
          "output_type": "stream",
          "text": [
            "Abidjan\n",
            "         date     city        country  avg_temp_c\n",
            "0  2000-01-01  Abidjan  Côte D'Ivoire      27.293\n",
            "1  2000-02-01  Abidjan  Côte D'Ivoire      27.685\n",
            "2  2000-03-01  Abidjan  Côte D'Ivoire      29.061\n",
            "3  2000-04-01  Abidjan  Côte D'Ivoire      28.162\n",
            "4  2000-05-01  Abidjan  Côte D'Ivoire      27.547\n",
            "             country  avg_temp_c\n",
            "0      Côte D'Ivoire      27.293\n",
            "1      Côte D'Ivoire      27.685\n",
            "2      Côte D'Ivoire      29.061\n",
            "3      Côte D'Ivoire      28.162\n",
            "4      Côte D'Ivoire      27.547\n",
            "...              ...         ...\n",
            "16495          China      18.979\n",
            "16496          China      23.522\n",
            "16497          China      25.251\n",
            "16498          China      24.528\n",
            "16499          China         NaN\n",
            "\n",
            "[16500 rows x 2 columns]\n",
            "         country  avg_temp_c\n",
            "0  Côte D'Ivoire      27.293\n",
            "1  Côte D'Ivoire      27.685\n",
            "2  Côte D'Ivoire      29.061\n",
            "3  Côte D'Ivoire      28.162\n",
            "4  Côte D'Ivoire      27.547\n"
          ]
        }
      ],
      "source": [
        "# Get 23rd row, 2nd column (index 22, 1)\n",
        "print(____)\n",
        "\n",
        "# Use slicing to get the first 5 rows\n",
        "print(____)\n",
        "\n",
        "# Use slicing to get columns 3 to 4\n",
        "print(____)\n",
        "\n",
        "# Use slicing in both directions at once\n",
        "print(____)"
      ]
    },
    {
      "cell_type": "markdown",
      "metadata": {
        "id": "jVlCnzDsmUtR"
      },
      "source": [
        "1. Add a year column to temperatures, from the year component of the date column.\n",
        "2. Make a pivot table of the avg_temp_c column, with country and city as rows, and year as columns. Assign to temp_by_country_city_vs_year, and look at the result."
      ]
    },
    {
      "cell_type": "code",
      "execution_count": 35,
      "metadata": {
        "colab": {
          "base_uri": "https://localhost:8080/"
        },
        "id": "qJ4QpjJDmUYI",
        "outputId": "f6af0a04-ee72-419c-d808-6b8c1d227b24"
      },
      "outputs": [
        {
          "name": "stdout",
          "output_type": "stream",
          "text": [
            "year                            2000-01-01  2000-02-01  ...  2013-08-01  2013-09-01\n",
            "country       city                                      ...                        \n",
            "Afghanistan   Kabul                  3.326       3.454  ...      24.974         NaN\n",
            "Angola        Luanda                25.077      25.493  ...      21.130         NaN\n",
            "Australia     Melbourne             18.527      22.095  ...      10.441         NaN\n",
            "              Sydney                18.470      20.713  ...      16.126         NaN\n",
            "Bangladesh    Dhaka                 18.829      20.947  ...      29.154         NaN\n",
            "...                                    ...         ...  ...         ...         ...\n",
            "United States Chicago                0.137       4.083  ...      22.230      19.977\n",
            "              Los Angeles           10.772      10.262  ...      24.232      23.301\n",
            "              New York              -3.168      -0.162  ...      21.001      17.408\n",
            "Vietnam       Ho Chi Minh City      26.647      26.672  ...      28.314         NaN\n",
            "Zimbabwe      Harare                22.119      21.569  ...      19.232         NaN\n",
            "\n",
            "[100 rows x 165 columns]\n"
          ]
        }
      ],
      "source": [
        "# Add a year column to temperatures using pd.datetime\n",
        "____\n",
        "\n",
        "# Pivot avg_temp_c by country and city vs year\n",
        "temp_by_country_city_vs_year = ____\n",
        "\n",
        "# See the result\n",
        "print(temp_by_country_city_vs_year)"
      ]
    },
    {
      "cell_type": "markdown",
      "metadata": {
        "id": "n22Rk26om71C"
      },
      "source": [
        "Use .loc[] on temp_by_country_city_vs_year to take subsets.\n",
        "\n",
        "1. From Egypt to India.\n",
        "2. From Egypt, Cairo to India, Delhi.\n",
        "3. From Egypt, Cairo to India, Delhi, and 2005 to 2010."
      ]
    },
    {
      "cell_type": "code",
      "execution_count": 36,
      "metadata": {
        "colab": {
          "base_uri": "https://localhost:8080/"
        },
        "id": "Z8woItzum9vY",
        "outputId": "6042bf7d-89be-4c88-fabf-b6f5309c04be"
      },
      "outputs": [
        {
          "name": "stdout",
          "output_type": "stream",
          "text": [
            "year                  2000-01-01  2000-02-01  ...  2013-08-01  2013-09-01\n",
            "country  city                                 ...                        \n",
            "Egypt    Alexandria       13.579      14.300  ...      27.453         NaN\n",
            "         Cairo            12.669      13.728  ...      28.588         NaN\n",
            "         Gizeh            12.669      13.728  ...      28.588         NaN\n",
            "Ethiopia Addis Abeba      17.391      19.183  ...      19.005         NaN\n",
            "France   Paris             3.845       6.587  ...      19.235         NaN\n",
            "Germany  Berlin            1.324       4.718  ...      19.335         NaN\n",
            "India    Ahmadabad        20.781      21.246  ...      27.512         NaN\n",
            "         Bangalore        23.673      25.351  ...      25.236         NaN\n",
            "         Bombay           25.599      24.076  ...      26.953         NaN\n",
            "         Calcutta         19.196      21.275  ...      29.539         NaN\n",
            "         Delhi            15.201      16.388  ...      29.900         NaN\n",
            "         Hyderabad        23.779      25.826  ...      26.923         NaN\n",
            "         Jaipur           16.837      17.592  ...      28.505         NaN\n",
            "         Kanpur           15.152      16.919  ...      29.250         NaN\n",
            "         Lakhnau          15.152      16.919  ...      29.250         NaN\n",
            "         Madras           25.143      26.705  ...      30.513         NaN\n",
            "         Nagpur           20.086      21.229  ...      25.930         NaN\n",
            "         New Delhi        15.201      16.388  ...      29.900         NaN\n",
            "         Pune             21.620      22.414  ...      24.444         NaN\n",
            "         Surat            21.588      22.293  ...      27.187         NaN\n",
            "\n",
            "[20 rows x 165 columns]\n",
            "year                  2000-01-01  2000-02-01  ...  2013-08-01  2013-09-01\n",
            "country  city                                 ...                        \n",
            "Egypt    Cairo            12.669      13.728  ...      28.588         NaN\n",
            "         Gizeh            12.669      13.728  ...      28.588         NaN\n",
            "Ethiopia Addis Abeba      17.391      19.183  ...      19.005         NaN\n",
            "France   Paris             3.845       6.587  ...      19.235         NaN\n",
            "Germany  Berlin            1.324       4.718  ...      19.335         NaN\n",
            "India    Ahmadabad        20.781      21.246  ...      27.512         NaN\n",
            "         Bangalore        23.673      25.351  ...      25.236         NaN\n",
            "         Bombay           25.599      24.076  ...      26.953         NaN\n",
            "         Calcutta         19.196      21.275  ...      29.539         NaN\n",
            "         Delhi            15.201      16.388  ...      29.900         NaN\n",
            "\n",
            "[10 rows x 165 columns]\n",
            "year                  2005-01-01  2005-02-01  ...  2010-11-01  2010-12-01\n",
            "country  city                                 ...                        \n",
            "Egypt    Cairo            14.030      14.640  ...      21.258      16.530\n",
            "         Gizeh            14.030      14.640  ...      21.258      16.530\n",
            "Ethiopia Addis Abeba      17.940      19.785  ...      17.571      17.080\n",
            "France   Paris             5.053       2.884  ...       6.744       0.182\n",
            "Germany  Berlin            3.103      -0.236  ...       5.283      -4.412\n",
            "India    Ahmadabad        18.898      21.815  ...      25.340      20.183\n",
            "         Bangalore        23.972      25.618  ...      24.021      22.719\n",
            "         Bombay           24.447      24.707  ...      28.883      25.460\n",
            "         Calcutta         19.341      23.576  ...      25.437      19.603\n",
            "         Delhi            14.383      17.669  ...      21.757      15.393\n",
            "\n",
            "[10 rows x 72 columns]\n"
          ]
        }
      ],
      "source": [
        "# Subset for Egypt to India\n",
        "print(temp_by_country_city_vs_year.loc[\"Egypt\" : 'India'])\n",
        "\n",
        "# Subset for Egypt, Cairo to India, Delhi\n",
        "print(temp_by_country_city_vs_year.loc[('Egypt', 'Cairo'):('India', 'Delhi')])\n",
        "\n",
        "# Subset in both directions at once\n",
        "print(temp_by_country_city_vs_year.loc[('Egypt', 'Cairo'):('India', 'Delhi'), '2005':'2010'])"
      ]
    },
    {
      "cell_type": "markdown",
      "metadata": {
        "id": "RBeMtZ-BnC0B"
      },
      "source": []
    }
  ],
  "metadata": {
    "colab": {
      "name": "06. Slicing and Indexing DataFrames Exercises.ipynb",
      "provenance": []
    },
    "kernelspec": {
      "display_name": "Python 3",
      "name": "python3"
    },
    "language_info": {
      "codemirror_mode": {
        "name": "ipython",
        "version": 3
      },
      "file_extension": ".py",
      "mimetype": "text/x-python",
      "name": "python",
      "nbconvert_exporter": "python",
      "pygments_lexer": "ipython3",
      "version": "3.7.4"
    }
  },
  "nbformat": 4,
  "nbformat_minor": 0
}
