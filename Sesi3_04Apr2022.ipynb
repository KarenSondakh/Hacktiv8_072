{
 "cells": [
  {
   "cell_type": "code",
   "execution_count": 3,
   "metadata": {},
   "outputs": [
    {
     "name": "stdout",
     "output_type": "stream",
     "text": [
      "Selamat datang di Hacktiv8\n"
     ]
    }
   ],
   "source": [
    "#Sesi3 - 04 April 2022: Function, Basic Module and Package\n",
    "\n",
    "#Function wihout input and output\n",
    "def salam():\n",
    "    print('Selamat datang di Hacktiv8')\n",
    "\n",
    "salam()"
   ]
  },
  {
   "cell_type": "code",
   "execution_count": 28,
   "metadata": {},
   "outputs": [
    {
     "name": "stdout",
     "output_type": "stream",
     "text": [
      "Helo perkenalkan nama saya Karen, dan usia saya 40\n",
      "Senang bertemu dengan anda!\n",
      "Helo perkenalkan nama saya Budi, dan usia saya 27\n",
      "Senang bertemu dengan anda!\n"
     ]
    }
   ],
   "source": [
    "#Function with input but wo output\n",
    "def salamBalik(nama,usia):\n",
    "    print('Helo perkenalkan nama saya {}, dan usia saya {}'.format(nama,usia))\n",
    "    print('Senang bertemu dengan anda!')\n",
    "\n",
    "salamBalik('Karen',40)\n",
    "salamBalik('Budi',27)"
   ]
  },
  {
   "cell_type": "code",
   "execution_count": 9,
   "metadata": {},
   "outputs": [
    {
     "name": "stdout",
     "output_type": "stream",
     "text": [
      "Helo perkenalkan nama saya Unknown, dan usia saya 0\n"
     ]
    }
   ],
   "source": [
    "#Function with default parameter simple\n",
    "def salamBalik(nama='Unknown', usia=0):\n",
    "    print('Helo perkenalkan nama saya {}, dan usia saya {}'.format(nama,usia))\n",
    "salamBalik()"
   ]
  },
  {
   "cell_type": "code",
   "execution_count": 41,
   "metadata": {},
   "outputs": [
    {
     "name": "stdout",
     "output_type": "stream",
     "text": [
      "Saya berusia 25\n",
      "Nice to meet you\n",
      "Nama saya Budi\n",
      "Nice to meet you\n",
      "Nama saya Karen, dan usia saya 25.\n",
      "Nice to meet you\n"
     ]
    }
   ],
   "source": [
    "#Function with default parameter\n",
    "def salamBalik(nama='Unknown', usia=0):\n",
    "    if(nama=='Unknown' and usia>0):\n",
    "        print('Saya berusia {}'.format(usia))\n",
    "    elif(nama!='Unknown' and usia==0):\n",
    "        print('Nama saya {}'.format(nama))\n",
    "    elif(nama!='Unknown' and usia>0):\n",
    "        print('Nama saya {}, dan usia saya {}.'.format(nama,usia))\n",
    "    print('Nice to meet you')\n",
    "\n",
    "salamBalik(usia=25)\n",
    "salamBalik('Budi')\n",
    "salamBalik('Karen',25)\n",
    "#salamBalik(input('Nama anda: '),int(input('Usia anda: ')))"
   ]
  },
  {
   "cell_type": "code",
   "execution_count": 10,
   "metadata": {},
   "outputs": [
    {
     "data": {
      "text/plain": [
       "3"
      ]
     },
     "execution_count": 10,
     "metadata": {},
     "output_type": "execute_result"
    }
   ],
   "source": [
    "#Function with input and output\n",
    "def tambah(angka1, angka2):\n",
    "    return angka1+angka2\n",
    "tambah(1,2)"
   ]
  },
  {
   "cell_type": "code",
   "execution_count": 42,
   "metadata": {},
   "outputs": [
    {
     "name": "stdout",
     "output_type": "stream",
     "text": [
      "3\n",
      "2\n",
      "1\n",
      "0\n"
     ]
    }
   ],
   "source": [
    "#Recursive Function\n",
    "def countdown(counter):\n",
    "    print(counter)\n",
    "    counter-=1\n",
    "\n",
    "    if(counter>=0):\n",
    "        countdown(counter)\n",
    "countdown(3)"
   ]
  },
  {
   "cell_type": "code",
   "execution_count": 16,
   "metadata": {},
   "outputs": [
    {
     "name": "stdout",
     "output_type": "stream",
     "text": [
      "<map object at 0x0000019EC67561C8> <class 'map'>\n",
      "[2, 4, 6, 8, 10]\n",
      "[2, 4, 6, 8, 10]\n"
     ]
    }
   ],
   "source": [
    "#MAP Function\n",
    "list1=[1,2,3,4,5]\n",
    "\n",
    "#using Def\n",
    "def kali2(angka):\n",
    "    return angka*2\n",
    "\n",
    "hasilMap= map(kali2, list1)\n",
    "print(hasilMap, type(hasilMap))\n",
    "\n",
    "hasilMapList=list(hasilMap)\n",
    "print(hasilMapList)\n",
    "\n",
    "#usingLambda instead of kali2\n",
    "hasilMapList1=list(map(lambda angka: angka*2, list1))\n",
    "print(hasilMapList1)"
   ]
  },
  {
   "cell_type": "code",
   "execution_count": 21,
   "metadata": {},
   "outputs": [
    {
     "data": {
      "text/plain": [
       "list"
      ]
     },
     "execution_count": 21,
     "metadata": {},
     "output_type": "execute_result"
    }
   ],
   "source": [
    "#contoh append\n",
    "a=[] #list kosong\n",
    "type(a)\n"
   ]
  },
  {
   "cell_type": "code",
   "execution_count": 22,
   "metadata": {},
   "outputs": [
    {
     "name": "stdout",
     "output_type": "stream",
     "text": [
      "[0, 1, 2, 3, 4, 5, 6, 7, 8, 9]\n"
     ]
    },
    {
     "data": {
      "text/plain": [
       "list"
      ]
     },
     "execution_count": 22,
     "metadata": {},
     "output_type": "execute_result"
    }
   ],
   "source": [
    "for i in range (10):\n",
    "    a.append(i) #nambahin i di akhir list\n",
    "print(a)\n",
    "type(a)"
   ]
  },
  {
   "cell_type": "code",
   "execution_count": 55,
   "metadata": {},
   "outputs": [
    {
     "name": "stdout",
     "output_type": "stream",
     "text": [
      "['Angka1', 'Angka2', 'Angka3', 'Angka4', 'Angka5']\n",
      "['Angka1', 'Angka2', 'Angka3', 'Angka4', 'Angka5']\n"
     ]
    }
   ],
   "source": [
    "#MAP Function ex.2\n",
    "def mapDuplikat(fn,collection):\n",
    "    newCollection=[]\n",
    "    for item in collection:\n",
    "        newCollection.append(fn(item))\n",
    "    \n",
    "    return newCollection\n",
    "\n",
    "list1=[1,2,3,4,5]\n",
    "def ubah(angka):\n",
    "    return 'Angka{}'.format(angka)\n",
    "\n",
    "newList=mapDuplikat(ubah,list1)\n",
    "print(newList)\n",
    "print(mapDuplikat(lambda angka : 'Angka{}'.format(angka),list1))\n"
   ]
  },
  {
   "cell_type": "code",
   "execution_count": 49,
   "metadata": {},
   "outputs": [
    {
     "name": "stdout",
     "output_type": "stream",
     "text": [
      "<filter object at 0x0000019EC6789488> <class 'filter'>\n",
      "[2, 4]\n",
      "[2, 4]\n"
     ]
    }
   ],
   "source": [
    "#Filter Function ex.1\n",
    "list1=[1,2,3,4,5]\n",
    "def angkaGenap(angka):\n",
    "    return angka %2==0\n",
    "hasilFilter=filter(angkaGenap, list1)\n",
    "print(hasilFilter, type(hasilFilter))\n",
    "\n",
    "hasilFilterList=list(hasilFilter)\n",
    "print(hasilFilterList)\n",
    "\n",
    "hasilFilterList1=list(filter(lambda angka: angka%2==0, list1))\n",
    "print(hasilFilterList1)"
   ]
  },
  {
   "cell_type": "code",
   "execution_count": 50,
   "metadata": {},
   "outputs": [
    {
     "name": "stdout",
     "output_type": "stream",
     "text": [
      "[2, 4]\n",
      "[2, 4]\n"
     ]
    }
   ],
   "source": [
    "#Filter Function ex.2\n",
    "def filterDuplikat(fn, collection):\n",
    "    newCollection=[]\n",
    "    for item in collection:\n",
    "        if(fn(item)):\n",
    "            newCollection.append(item)\n",
    "    return newCollection\n",
    "\n",
    "list1=[1,2,3,4,5]\n",
    "def angkaGenap(angka):\n",
    "    return angka%2==0\n",
    "\n",
    "newList=filterDuplikat(angkaGenap, list1)\n",
    "print(newList)\n",
    "\n",
    "print(filterDuplikat(lambda angka: angka%2==0, list1))"
   ]
  },
  {
   "cell_type": "code",
   "execution_count": 70,
   "metadata": {},
   "outputs": [
    {
     "name": "stdout",
     "output_type": "stream",
     "text": [
      "List numbers= [0, 1, 3, 5, 32, 41, 89, 150]\n",
      "Minimum value= 0\n",
      "Maximum value= 150\n"
     ]
    }
   ],
   "source": [
    "#Soal1 Find Min and Max Value\n",
    "\n",
    "numbers=[41,5,1,3,89,32,0,150]\n",
    "numbers.sort()\n",
    "print('List numbers= {}'.format(numbers))\n",
    "minValue=numbers[0] #pakai index 0 pada list setelah sort untuk menunjukkan min value\n",
    "print('Minimum value= {}'.format(minValue))\n",
    "maxValue=numbers[-1] #pakai index -1 pada list setelah sort untuk menunjukkan max value - inverse\n",
    "print('Maximum value= {}'.format(maxValue))\n"
   ]
  },
  {
   "cell_type": "code",
   "execution_count": 96,
   "metadata": {},
   "outputs": [
    {
     "name": "stdout",
     "output_type": "stream",
     "text": [
      "List numbers= [41, 5, 1, 3, 89, 32, 0, 150]\n",
      "Minimum value= 0\n",
      "Maximum value= 150\n"
     ]
    }
   ],
   "source": [
    "#Soal1 Find Min and Max Value wo. Build in Function in Python\n",
    "\n",
    "numbers=[41,5,1,3,89,32,0,150]\n",
    "minVal=numbers[0]\n",
    "maxVal=numbers[0]\n",
    "\n",
    "for num in numbers:\n",
    "    if(num<minVal):\n",
    "        minVal=num\n",
    "    if(num>maxVal):\n",
    "        maxVal=num\n",
    "\n",
    "print('List numbers= {}'.format(numbers))\n",
    "print('Minimum value= {}'.format(minVal))\n",
    "print('Maximum value= {}'.format(maxVal))"
   ]
  },
  {
   "cell_type": "code",
   "execution_count": 72,
   "metadata": {},
   "outputs": [
    {
     "name": "stdout",
     "output_type": "stream",
     "text": [
      "List sebelum di sort [41, 5, 1, 3, 89, 32]\n",
      "List setelah di sort [1, 3, 5, 32, 41, 89]\n"
     ]
    }
   ],
   "source": [
    "#Soal2 Sort Ascending\n",
    "numList=[41,5,1,3,89,32]\n",
    "print('List sebelum di sort {}'.format(numList))\n",
    "numList.sort()\n",
    "print('List setelah di sort {}'.format(numList))"
   ]
  },
  {
   "cell_type": "code",
   "execution_count": 76,
   "metadata": {},
   "outputs": [
    {
     "name": "stdout",
     "output_type": "stream",
     "text": [
      "[1, 3, 5, 32, 41, 89]\n"
     ]
    }
   ],
   "source": [
    "#Soal2 Sort Ascending wo. sort function\n",
    "def listSort (n):\n",
    "    for i in range(len(n)):\n",
    "        for j in range(len(n)):\n",
    "            if n[i]< n[j]:\n",
    "                n[j],n[i]=n[i],n[j]\n",
    "    return n\n",
    "\n",
    "listToSort=[41,5,1,3,89,32]\n",
    "print(listSort(listToSort))"
   ]
  },
  {
   "cell_type": "code",
   "execution_count": 100,
   "metadata": {},
   "outputs": [
    {
     "name": "stdout",
     "output_type": "stream",
     "text": [
      "\n",
      "        Selamat Datang di Pasar Buah\n",
      "\n",
      "        List Menu:\n",
      "            1. Menampilkan Daftar Buah\n",
      "            2. Menambah Buah\n",
      "            3. Menghapus Buah\n",
      "            4. Membeli Buah\n",
      "            5. Exit Program\n",
      "\n",
      "Daftar Buah \n",
      "\n",
      "     Name  Stocks  Price\n",
      "0    Apel      20  10000\n",
      "1   Jeruk      15  15000\n",
      "2  Anggur      25  20000\n"
     ]
    }
   ],
   "source": [
    "#Soal3 Pasar Buah\n",
    "print('''\n",
    "        Selamat Datang di Pasar Buah\n",
    "\n",
    "        List Menu:\n",
    "            1. Menampilkan Daftar Buah\n",
    "            2. Menambah Buah\n",
    "            3. Menghapus Buah\n",
    "            4. Membeli Buah\n",
    "            5. Exit Program\n",
    "''')\n",
    "listBuah=[['Apel', 20,10000],['Jeruk',15,15000], ['Anggur',25,20000]]\n",
    "angkaMenu=int(input('Masukkan angka Menu yang ingin dijalankan: '))\n",
    "if angkaMenu==1:\n",
    "    print('Daftar Buah \\n')\n",
    "    for i in range(len(listBuah)):\n",
    "        df=pd.DataFrame(listBuah, columns=['Name', 'Stocks', 'Price'])\n",
    "    print(df)\n",
    "\n",
    "#elif angkaMenu==2:\n",
    "    #buahBaru=input('Masukkan Nama Buah  :')\n",
    "    #listBuah.append(buahBaru)\n",
    "    #print('Daftar Buah \\n')\n",
    "    #for i in range(len(listBuah)):\n",
    "        #df=pd.DataFrame(listBuah, columns=['Name', 'Stocks', 'Price'])\n",
    "    #print(df)\n",
    "    #stockBuahBaru=int(input('Masukkan Stock Buah    :'))\n",
    "    #hargaBuahBaru=int(input('Masukkan Harga Buah    :'))\n",
    "    \n",
    "\n",
    "else:\n",
    "    print(\"Terima kasih sudah mampir\")"
   ]
  },
  {
   "cell_type": "code",
   "execution_count": 2,
   "metadata": {},
   "outputs": [
    {
     "name": "stdout",
     "output_type": "stream",
     "text": [
      "['Ganjil', 'Ganjil', 'Ganjil']\n"
     ]
    }
   ],
   "source": [
    "#Sesi3 Homework Function\n",
    "#Soal1 Map\n",
    "list1=[1,1,1]\n",
    "\n",
    "#using Def\n",
    "def ganjilGenap(list1):\n",
    "    if list1%2==0:\n",
    "        return 'Genap'\n",
    "    else:\n",
    "        return 'Ganjil'\n",
    "    #return list1%2\n",
    "\n",
    "hasilMap= map(ganjilGenap, list1)\n",
    "hasilMapList=list(hasilMap)\n",
    "print(hasilMapList)\n",
    "\n",
    "#apakah bisa kita input list?"
   ]
  },
  {
   "cell_type": "code",
   "execution_count": 103,
   "metadata": {},
   "outputs": [
    {
     "name": "stdout",
     "output_type": "stream",
     "text": [
      "[9500, 9800, 10300]\n"
     ]
    }
   ],
   "source": [
    "#Soal2 Filter\n",
    "def listSort (n):\n",
    "    for i in range(len(n)):\n",
    "        for j in range(len(n)):\n",
    "            if n[i]< n[j]:\n",
    "                n[j],n[i]=n[i],n[j]\n",
    "    return n\n",
    "\n",
    "listToSort=[9100,9800,9500,10300,9300]\n",
    "x=2\n",
    "#x=int(input())\n",
    "y=5\n",
    "#y=int(input())\n",
    "print(listSort(listToSort)[x:y])\n",
    "\n",
    "#How to make it automatically select the top 3"
   ]
  },
  {
   "cell_type": "code",
   "execution_count": null,
   "metadata": {},
   "outputs": [],
   "source": []
  }
 ],
 "metadata": {
  "interpreter": {
   "hash": "fbef7dcae0d704a86a71542a44f0bbbde23672c402c6784b41197cb209f6f152"
  },
  "kernelspec": {
   "display_name": "Python 3 (ipykernel)",
   "language": "python",
   "name": "python3"
  },
  "language_info": {
   "codemirror_mode": {
    "name": "ipython",
    "version": 3
   },
   "file_extension": ".py",
   "mimetype": "text/x-python",
   "name": "python",
   "nbconvert_exporter": "python",
   "pygments_lexer": "ipython3",
   "version": "3.9.7"
  }
 },
 "nbformat": 4,
 "nbformat_minor": 2
}
