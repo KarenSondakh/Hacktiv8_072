{
 "cells": [
  {
   "cell_type": "code",
   "execution_count": 7,
   "id": "cab3f55c",
   "metadata": {},
   "outputs": [
    {
     "name": "stdout",
     "output_type": "stream",
     "text": [
      "Hello\n"
     ]
    }
   ],
   "source": [
    "print ('Hello')"
   ]
  },
  {
   "cell_type": "code",
   "execution_count": 6,
   "id": "582ec468-e53f-4912-8502-de2e2fa82c79",
   "metadata": {},
   "outputs": [
    {
     "name": "stdout",
     "output_type": "stream",
     "text": [
      "Umur:  8\n"
     ]
    }
   ],
   "source": [
    "x= int(input('Umur: '))\n",
    "if x >=17:\n",
    "    print(\"Proceed buat SIM\")"
   ]
  },
  {
   "cell_type": "code",
   "execution_count": 8,
   "id": "301b262c-ee23-4d7f-8d99-78ce8fb2d692",
   "metadata": {},
   "outputs": [
    {
     "name": "stdout",
     "output_type": "stream",
     "text": [
      "Umur:  18\n"
     ]
    },
    {
     "name": "stdout",
     "output_type": "stream",
     "text": [
      "Proceed buat SIM\n"
     ]
    }
   ],
   "source": [
    "x= int(input('Umur: '))\n",
    "if x >=17:\n",
    "    print(\"Proceed buat SIM\")\n",
    "else:\n",
    "    print (\"Umur belum mencukupi untuk membuat SIM\")"
   ]
  },
  {
   "cell_type": "code",
   "execution_count": 16,
   "id": "2c311703-f63e-43ca-8c77-6131b030ad7e",
   "metadata": {},
   "outputs": [
    {
     "name": "stdout",
     "output_type": "stream",
     "text": [
      "Nilai:  89\n"
     ]
    },
    {
     "name": "stdout",
     "output_type": "stream",
     "text": [
      "Grade B\n"
     ]
    }
   ],
   "source": [
    "x= int(input('Nilai: '))\n",
    "if x>90:\n",
    "    print('Grade A')\n",
    "elif x >= 80 and x <=89:\n",
    "    print('Grade B')\n",
    "elif x >= 70 and x <=79:\n",
    "    print('Grade C')\n",
    "elif x >= 60 and x<=69:\n",
    "    print ('Grade D')\n",
    "else:\n",
    "    print('Grade F')"
   ]
  },
  {
   "cell_type": "code",
   "execution_count": 23,
   "id": "4153787e-14e1-4647-b1b5-eba6c250bea0",
   "metadata": {},
   "outputs": [
    {
     "name": "stdout",
     "output_type": "stream",
     "text": [
      "Enter a number:  5\n"
     ]
    },
    {
     "name": "stdout",
     "output_type": "stream",
     "text": [
      "5 is Odd\n"
     ]
    }
   ],
   "source": [
    "#Soal1\n",
    "x=int(input('Enter a number: '))\n",
    "if (x % 2)==0:\n",
    "    print('{} is Even'.format(x))\n",
    "else:\n",
    "    print('{} is Odd'.format(x))"
   ]
  },
  {
   "cell_type": "code",
   "execution_count": 31,
   "id": "c0077c45-2ac9-42bc-981d-e448956b25d2",
   "metadata": {},
   "outputs": [
    {
     "name": "stdout",
     "output_type": "stream",
     "text": [
      "Nilai Berat Anda (kg):  67\n",
      "Nilai Tinggi Anda (m):  1.78\n"
     ]
    },
    {
     "name": "stdout",
     "output_type": "stream",
     "text": [
      "Nilai IMT Anda: 21.146319909102385\n",
      "BB Ideal\n"
     ]
    }
   ],
   "source": [
    "#Soal2\n",
    "massa= int(input('Nilai Berat Anda (kg): '))\n",
    "tinggi =float(input('Nilai Tinggi Anda (m): '))\n",
    "x=massa/(tinggi**2)\n",
    "print('Nilai IMT Anda: {}'.format(x))\n",
    "if x>39.9:\n",
    "    print('BB Obesitas')\n",
    "elif x >= 30 and x <=39.9:\n",
    "    print('BB Sangat Berlebih')\n",
    "elif x >= 25 and x <=29.9:\n",
    "    print('BB Berlebih')\n",
    "elif x >= 18.5 and x<=24.9:\n",
    "    print ('BB Ideal')\n",
    "else:\n",
    "    print('BB Kurang')"
   ]
  },
  {
   "cell_type": "code",
   "execution_count": 44,
   "id": "51dc41b6-85e6-4437-b6cc-941679f1040b",
   "metadata": {},
   "outputs": [
    {
     "name": "stdout",
     "output_type": "stream",
     "text": [
      "Berapa Apel:  1\n",
      "Berapa Jeruk:  1\n",
      "Berapa Anggur:  1\n"
     ]
    },
    {
     "name": "stdout",
     "output_type": "stream",
     "text": [
      "\n",
      "Detail Belanja\n",
      "\n",
      "Apel: 1 x 10000 = 10000\n",
      "Jeruk: 1 x 15000 = 15000 \n",
      "Anggur: 1 x 20000 = 20000\n",
      "\n",
      "Total: 45000\n",
      "\n"
     ]
    },
    {
     "name": "stdout",
     "output_type": "stream",
     "text": [
      "Jumlah uang:  5000\n"
     ]
    },
    {
     "name": "stdout",
     "output_type": "stream",
     "text": [
      "Transaksi dibatalkan\n",
      "Uangnya kurang sebesar: 40000\n"
     ]
    }
   ],
   "source": [
    "#Soal3\n",
    "hargaApel=10000\n",
    "hargaJeruk=15000\n",
    "hargaAnggur=20000\n",
    "\n",
    "jumlahApel= int(input('Berapa Apel: '))\n",
    "jumlahJeruk= int(input('Berapa Jeruk: '))\n",
    "jumlahAnggur= int(input('Berapa Anggur: '))\n",
    "\n",
    "totalHargaApel= hargaApel*jumlahApel\n",
    "totalHargaJeruk= hargaJeruk*jumlahJeruk\n",
    "totalHargaAnggur= hargaAnggur*jumlahAnggur\n",
    "\n",
    "totalBelanja= totalHargaApel+totalHargaJeruk+totalHargaAnggur\n",
    "\n",
    "print ('''\n",
    "Detail Belanja\n",
    "\n",
    "Apel: {jmlApel} x {hrgApel} = {totalHrgApel}\n",
    "Jeruk: {jmlJeruk} x {hrgJeruk} = {totalHrgJeruk} \n",
    "Anggur: {jmlAnggur} x {hrgAnggur} = {totalHrgAnggur}\n",
    "\n",
    "Total Belanja: {totalHarga}\n",
    "'''.format(jmlApel=jumlahApel, hrgApel=hargaApel, totalHrgApel=totalHargaApel,\n",
    "          jmlJeruk=jumlahJeruk, hrgJeruk=hargaJeruk, totalHrgJeruk=totalHargaJeruk,\n",
    "          jmlAnggur=jumlahAnggur, hrgAnggur=hargaAnggur, totalHrgAnggur=totalHargaAnggur,\n",
    "          totalHarga=totalBelanja))\n",
    "\n",
    "jumlahUang =int(input('Jumlah uang: '))\n",
    "if jumlahUang>totalBelanja:\n",
    "    print('Transaksi Berhasil')\n",
    "    uangKembalian= jumlahUang-totalBelanja\n",
    "    print('Uang kembali anda: {}'.format(uangKembalian))\n",
    "else:\n",
    "    print('Transaksi dibatalkan')\n",
    "    uangKurang= totalBelanja-jumlahUang\n",
    "    print('Uangnya kurang sebesar: {}'.format(uangKurang))"
   ]
  },
  {
   "cell_type": "code",
   "execution_count": 2,
   "id": "709d839c-ec4e-4a68-8968-85534e6349f5",
   "metadata": {},
   "outputs": [
    {
     "name": "stdout",
     "output_type": "stream",
     "text": [
      "1\n",
      "2\n",
      "3\n",
      "4\n",
      "5\n",
      "6\n",
      "7\n",
      "8\n",
      "9\n"
     ]
    }
   ],
   "source": [
    "#While Loop\n",
    "x=1\n",
    "while x <10:\n",
    "    print(x)\n",
    "    x+=1"
   ]
  },
  {
   "cell_type": "code",
   "execution_count": 3,
   "id": "88e63b67",
   "metadata": {},
   "outputs": [
    {
     "name": "stdout",
     "output_type": "stream",
     "text": [
      "0\n",
      "1\n",
      "2\n",
      "3\n",
      "4\n",
      "5\n",
      "6\n",
      "7\n",
      "8\n",
      "9\n"
     ]
    }
   ],
   "source": [
    "#For Loop\n",
    "for i in range (0,10,1):\n",
    "    print(i)"
   ]
  },
  {
   "cell_type": "code",
   "execution_count": 5,
   "id": "7b76fb1d",
   "metadata": {},
   "outputs": [
    {
     "name": "stdout",
     "output_type": "stream",
     "text": [
      "k\n",
      "a\n",
      "r\n",
      "e\n",
      "n\n"
     ]
    }
   ],
   "source": [
    "for i in 'karen':\n",
    "    print(i)"
   ]
  },
  {
   "cell_type": "code",
   "execution_count": 1,
   "id": "e4bc5704",
   "metadata": {},
   "outputs": [
    {
     "name": "stdout",
     "output_type": "stream",
     "text": [
      "\n",
      "*****\n",
      "****\n",
      "***\n",
      "**\n",
      "*\n",
      "**\n",
      "***\n",
      "****\n",
      "*****\n",
      "\n"
     ]
    }
   ],
   "source": [
    "#Soal1 print bentuk1\n",
    "#function to print bentuk1\n",
    "def bentuk1(n):\n",
    "    print('')\n",
    "    j=0\n",
    "\n",
    "    #loop to print upper half\n",
    "    #inverse diamond pattern\n",
    "    for i in range (0,n):\n",
    "        for j in range(i,n):\n",
    "            print('*', end='')\n",
    "        print('')\n",
    "    \n",
    "    #loop to print below half\n",
    "    #half diamond pattern\n",
    "    for i in range(0, n-1):\n",
    "        for j in range (0,i+2):\n",
    "            print('*',end='')\n",
    "        print('')\n",
    "    print('')\n",
    "\n",
    "n=5\n",
    "bentuk1(n)"
   ]
  },
  {
   "cell_type": "code",
   "execution_count": 2,
   "id": "7622b0bf",
   "metadata": {},
   "outputs": [
    {
     "name": "stdout",
     "output_type": "stream",
     "text": [
      "    *\n",
      "   ***\n",
      "  *****\n",
      " *******\n",
      "*********\n",
      " *******\n",
      "  *****\n",
      "   ***\n",
      "    *\n"
     ]
    }
   ],
   "source": [
    "#Soal1 print bentuk2\n",
    "#Create function to print bentuk2\n",
    "def bentuk2(rows):\n",
    "    n=0\n",
    "    for i in range(1, rows+1):\n",
    "        #Loop to print spaces\n",
    "        for j in range (1, (rows-i)+1):\n",
    "            print(end=\" \")\n",
    "\n",
    "        #Loop to print star\n",
    "        while n!=(2*i-1):\n",
    "            print('*',end= \"\")\n",
    "            n=n+1\n",
    "        n=0\n",
    "        print()\n",
    "    k=1\n",
    "    n=1\n",
    "    for i in range (1,rows):\n",
    "        for j in range(1,k+1):\n",
    "            print(end= ' ')\n",
    "        k=k+1\n",
    "        \n",
    "        while n<=(2* (rows-i)-1):\n",
    "            print('*', end='')\n",
    "            n=n+1\n",
    "        n=1\n",
    "        print()\n",
    "        \n",
    "rows=5\n",
    "bentuk2(rows)"
   ]
  },
  {
   "cell_type": "code",
   "execution_count": 4,
   "id": "35eaa955",
   "metadata": {},
   "outputs": [
    {
     "name": "stdout",
     "output_type": "stream",
     "text": [
      "\n",
      "Detail Belanja\n",
      "\n",
      "Apel: 5 x 10000 = 50000\n",
      "Jeruk: 7 x 15000 = 105000 \n",
      "Anggur: 6 x 20000 = 120000\n",
      "\n",
      "Total Belanja: 275000\n",
      "\n",
      "Transaksi dibatalkan\n",
      "Uangnya kurang sebesar: 35000\n"
     ]
    }
   ],
   "source": [
    "#Soal2 Proses Menentukan Jumlah Buah\n",
    "#Using IF\n",
    "hargaApel=10000\n",
    "hargaJeruk=15000\n",
    "hargaAnggur=20000\n",
    "\n",
    "jumlahApel= int(input('Masukan Jumlah Apel: '))\n",
    "jumlahJeruk= int(input('Masukan Jumlah Jeruk: '))\n",
    "jumlahAnggur= int(input('Masukan Jumlah Anggur: '))\n",
    "\n",
    "stokApel=8\n",
    "stokJeruk=7\n",
    "stokAnggur=6\n",
    "\n",
    "#Cek Stok Apel\n",
    "if jumlahApel <= stokApel:\n",
    "    jumlahApel=jumlahApel\n",
    "else:\n",
    "    print('Jumlah yang dimasukkan terlalu banyak')\n",
    "    print('Stok Apel tinggal: {}'.format (stokApel))\n",
    "    jumlahApel=0\n",
    "\n",
    "#Cek Stok Jeruk\n",
    "if jumlahJeruk <= stokJeruk:\n",
    "    jumlahJeruk=jumlahJeruk\n",
    "else:\n",
    "    print('Jumlah yang dimasukkan terlalu banyak')\n",
    "    print('Stok Jeruk tinggal: {}'.format (stokJeruk))\n",
    "    jumlahJeruk=0\n",
    "\n",
    "#Cek Stok Anggur\n",
    "if jumlahAnggur <= stokAnggur:\n",
    "    jumlahAnggur=jumlahAnggur\n",
    "else:\n",
    "    print('Jumlah yang dimasukkan terlalu banyak')\n",
    "    print('Stok Anggur tinggal: {}'.format (stokAnggur))\n",
    "    jumlahAnggur=0\n",
    "\n",
    "totalHargaApel= hargaApel*jumlahApel\n",
    "totalHargaJeruk= hargaJeruk*jumlahJeruk\n",
    "totalHargaAnggur= hargaAnggur*jumlahAnggur\n",
    "\n",
    "totalBelanja= totalHargaApel+totalHargaJeruk+totalHargaAnggur\n",
    "\n",
    "print ('''\n",
    "Detail Belanja\n",
    "\n",
    "Apel: {jmlApel} x {hrgApel} = {totalHrgApel}\n",
    "Jeruk: {jmlJeruk} x {hrgJeruk} = {totalHrgJeruk} \n",
    "Anggur: {jmlAnggur} x {hrgAnggur} = {totalHrgAnggur}\n",
    "\n",
    "Total Belanja: {totalHarga}\n",
    "'''.format(jmlApel=jumlahApel, hrgApel=hargaApel, totalHrgApel=totalHargaApel,\n",
    "          jmlJeruk=jumlahJeruk, hrgJeruk=hargaJeruk, totalHrgJeruk=totalHargaJeruk,\n",
    "          jmlAnggur=jumlahAnggur, hrgAnggur=hargaAnggur, totalHrgAnggur=totalHargaAnggur,\n",
    "          totalHarga=totalBelanja))\n",
    "\n",
    "jumlahUang =int(input('Jumlah uang: '))\n",
    "if jumlahUang>totalBelanja:\n",
    "    print('Transaksi Berhasil')\n",
    "    uangKembalian= jumlahUang-totalBelanja\n",
    "    print('Uang kembali anda: {}'.format(uangKembalian))\n",
    "else:\n",
    "    print('Transaksi dibatalkan')\n",
    "    uangKurang= totalBelanja-jumlahUang\n",
    "    print('Uangnya kurang sebesar: {}'.format(uangKurang))"
   ]
  },
  {
   "cell_type": "code",
   "execution_count": 3,
   "id": "63ee5f47",
   "metadata": {},
   "outputs": [
    {
     "name": "stdout",
     "output_type": "stream",
     "text": [
      "Jumlah yang dimasukkan terlalu banyak\n",
      "Stok Jeruk tinggal: 7\n",
      "Jumlah yang dimasukkan terlalu banyak\n",
      "Stok Jeruk tinggal: 7\n",
      "Jumlah yang dimasukkan terlalu banyak\n",
      "Stok Anggur tinggal: 6\n",
      "\n",
      "Detail Belanja\n",
      "\n",
      "Apel: 5 x 10000 = 50000\n",
      "Jeruk: 7 x 15000 = 105000 \n",
      "Anggur: 6 x 20000 = 120000\n",
      "\n",
      "Total Belanja: 275000\n",
      "\n",
      "Transaksi dibatalkan\n",
      "Uang anda kurang sebesar: 35000\n",
      "Transaksi Berhasil\n",
      "Uang kembali anda: 5000\n",
      "Terima Kasih\n"
     ]
    }
   ],
   "source": [
    "#Soal2 Proses Menentukan Jumlah Buah\n",
    "#Using While\n",
    "hargaApel=10000\n",
    "hargaJeruk=15000\n",
    "hargaAnggur=20000\n",
    "\n",
    "stokApel=8\n",
    "stokJeruk=7\n",
    "stokAnggur=6\n",
    "\n",
    "#Cek Stok Apel\n",
    "jumlahApel= int(input('Masukan Jumlah Apel: '))\n",
    "while jumlahApel > stokApel:\n",
    "    print('Jumlah yang dimasukkan terlalu banyak')\n",
    "    print('Stok Apel tinggal: {}'.format (stokApel))\n",
    "    jumlahApel= int(input('Masukan Jumlah Apel: '))\n",
    "\n",
    "#Cek Stok Jeruk\n",
    "jumlahJeruk= int(input('Masukan Jumlah Jeruk: '))\n",
    "while jumlahJeruk > stokJeruk:\n",
    "    print('Jumlah yang dimasukkan terlalu banyak')\n",
    "    print('Stok Jeruk tinggal: {}'.format (stokJeruk))\n",
    "    jumlahJeruk= int(input('Masukan Jumlah Jeruk: '))  \n",
    "\n",
    "#Cek Stok Anggur\n",
    "jumlahAnggur= int(input('Masukan Jumlah Anggur: '))\n",
    "while jumlahAnggur > stokAnggur:\n",
    "    print('Jumlah yang dimasukkan terlalu banyak')\n",
    "    print('Stok Anggur tinggal: {}'.format (stokAnggur))\n",
    "    jumlahAnggur= int(input('Masukan Jumlah Anggur: '))   \n",
    "\n",
    "totalHargaApel= hargaApel*jumlahApel\n",
    "totalHargaJeruk= hargaJeruk*jumlahJeruk\n",
    "totalHargaAnggur= hargaAnggur*jumlahAnggur\n",
    "\n",
    "totalBelanja= totalHargaApel+totalHargaJeruk+totalHargaAnggur\n",
    "\n",
    "print ('''\n",
    "Detail Belanja\n",
    "\n",
    "Apel: {jmlApel} x {hrgApel} = {totalHrgApel}\n",
    "Jeruk: {jmlJeruk} x {hrgJeruk} = {totalHrgJeruk} \n",
    "Anggur: {jmlAnggur} x {hrgAnggur} = {totalHrgAnggur}\n",
    "\n",
    "Total Belanja: {totalHarga}\n",
    "'''.format(jmlApel=jumlahApel, hrgApel=hargaApel, totalHrgApel=totalHargaApel,\n",
    "          jmlJeruk=jumlahJeruk, hrgJeruk=hargaJeruk, totalHrgJeruk=totalHargaJeruk,\n",
    "          jmlAnggur=jumlahAnggur, hrgAnggur=hargaAnggur, totalHrgAnggur=totalHargaAnggur,\n",
    "          totalHarga=totalBelanja))\n",
    "\n",
    "jumlahUang =int(input('Jumlah uang: '))\n",
    "while jumlahUang<totalBelanja:\n",
    "    print('Transaksi dibatalkan')\n",
    "    uangKurang= totalBelanja-jumlahUang\n",
    "    print('Uang anda kurang sebesar: {}'.format(uangKurang))\n",
    "    jumlahUang =int(input('Jumlah uang: '))\n",
    "\n",
    "print('Transaksi Berhasil')\n",
    "uangKembalian= jumlahUang-totalBelanja\n",
    "print('Uang kembali anda: {}'.format(uangKembalian))\n",
    "print('Terima Kasih')"
   ]
  },
  {
   "cell_type": "code",
   "execution_count": null,
   "id": "a2cad016",
   "metadata": {},
   "outputs": [],
   "source": []
  }
 ],
 "metadata": {
  "kernelspec": {
   "display_name": "Python 3 (ipykernel)",
   "language": "python",
   "name": "python3"
  },
  "language_info": {
   "codemirror_mode": {
    "name": "ipython",
    "version": 3
   },
   "file_extension": ".py",
   "mimetype": "text/x-python",
   "name": "python",
   "nbconvert_exporter": "python",
   "pygments_lexer": "ipython3",
   "version": "3.7.4"
  }
 },
 "nbformat": 4,
 "nbformat_minor": 5
}
