{
 "cells": [
  {
   "cell_type": "code",
   "execution_count": 6,
   "id": "d7beb96e",
   "metadata": {},
   "outputs": [
    {
     "name": "stdout",
     "output_type": "stream",
     "text": [
      "Selamat Pagi!\n"
     ]
    }
   ],
   "source": [
    "#Dibawah ini contoh penggunaan function print\n",
    "print('Selamat Pagi!') #Text Selamat! akan muncul di terminal"
   ]
  },
  {
   "cell_type": "code",
   "execution_count": 7,
   "id": "09dbfdd5",
   "metadata": {},
   "outputs": [
    {
     "name": "stdout",
     "output_type": "stream",
     "text": [
      "Terima kasih sudah datang\n"
     ]
    }
   ],
   "source": [
    "#VARIABLE Example\n",
    "pesan= 'Terima kasih sudah datang'\n",
    "print(pesan)"
   ]
  },
  {
   "cell_type": "code",
   "execution_count": 15,
   "id": "05ea3b85",
   "metadata": {},
   "outputs": [],
   "source": [
    "#library math\n",
    "import math"
   ]
  },
  {
   "cell_type": "code",
   "execution_count": 16,
   "id": "6ba6f15f",
   "metadata": {},
   "outputs": [
    {
     "name": "stdout",
     "output_type": "stream",
     "text": [
      "<class 'int'>\n",
      "100.0\n"
     ]
    }
   ],
   "source": [
    "x=10\n",
    "print(type(x))\n",
    "print(math.pow(x,2))"
   ]
  },
  {
   "cell_type": "code",
   "execution_count": 21,
   "id": "74e96533",
   "metadata": {},
   "outputs": [],
   "source": [
    "y='Halo Karen'\n",
    "\n",
    "panjangString = len(y) #mengetahui jumlah character\n",
    "indexDunia = y.index('Karen') #mengetahui posisi karakter, hitungan mulai dari 0\n",
    "hasilSplit=y.split(' ')#memecah string menjadi beberapa bagian dengan karakter yg kita tentukan sebagai pembatas"
   ]
  },
  {
   "cell_type": "code",
   "execution_count": 22,
   "id": "9fc4a9c0",
   "metadata": {},
   "outputs": [
    {
     "name": "stdout",
     "output_type": "stream",
     "text": [
      "Masukkan nama Anda: Karen\n",
      "Hi Karen, selamat datang di Hacktiv8\n"
     ]
    }
   ],
   "source": [
    "x=input(\"Masukkan nama Anda: \")\n",
    "print(\"Hi {}, selamat datang di Hacktiv8\".format(x))"
   ]
  },
  {
   "cell_type": "code",
   "execution_count": null,
   "id": "b27cc2ac",
   "metadata": {},
   "outputs": [],
   "source": []
  }
 ],
 "metadata": {
  "kernelspec": {
   "display_name": "Python 3",
   "language": "python",
   "name": "python3"
  },
  "language_info": {
   "codemirror_mode": {
    "name": "ipython",
    "version": 3
   },
   "file_extension": ".py",
   "mimetype": "text/x-python",
   "name": "python",
   "nbconvert_exporter": "python",
   "pygments_lexer": "ipython3",
   "version": "3.7.4"
  }
 },
 "nbformat": 4,
 "nbformat_minor": 5
}
