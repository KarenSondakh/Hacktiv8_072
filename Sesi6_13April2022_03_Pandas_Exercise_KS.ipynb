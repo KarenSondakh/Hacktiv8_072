{
 "cells": [
  {
   "cell_type": "markdown",
   "metadata": {
    "id": "N02cn9Rhrip-"
   },
   "source": [
    "# Pandas Exercise\n",
    "\n",
    "We have a data about spotify top 100 songs in 2018 from kaggle.\n",
    "\n",
    "Data Description :\n",
    "\n",
    "*   Spotify URI for the song\n",
    "*   Name of the song\n",
    "*   Artist(s) of the song\n",
    "*   Audio features for the song (such as danceability, tempo, key etc.) : \n",
    "     1. danceability : Danceability describes how suitable a track is for dancing based on a combination of musical elements including tempo, rhythm stability, beat strength, and overall regularity. A value of 0.0 is least danceable and 1.0 is most danceable.\n",
    "     \n",
    "     2. tempo : The overall estimated tempo of a track in beats per minute (BPM). In musical terminology, tempo is the speed or pace of a given piece and derives directly from the average beat duration.\n",
    "     \n",
    "     3. duration_ms : The duration of the track in milliseconds.\n",
    "\n",
    "\n",
    "\n"
   ]
  },
  {
   "cell_type": "code",
   "execution_count": 6,
   "metadata": {
    "id": "GwHJrxaYvyRX"
   },
   "outputs": [],
   "source": [
    "import pandas as pd\n",
    "import numpy as np"
   ]
  },
  {
   "cell_type": "code",
   "execution_count": 7,
   "metadata": {
    "id": "91ICqjjXrlB5"
   },
   "outputs": [],
   "source": [
    "data = pd.read_csv('02. top2018.csv')"
   ]
  },
  {
   "cell_type": "code",
   "execution_count": 8,
   "metadata": {
    "colab": {
     "base_uri": "https://localhost:8080/",
     "height": 195
    },
    "id": "2kXyu6-tvvyI",
    "outputId": "97408b49-c23e-44ba-e956-9c09a68fe90c"
   },
   "outputs": [
    {
     "data": {
      "text/html": [
       "<div>\n",
       "<style scoped>\n",
       "    .dataframe tbody tr th:only-of-type {\n",
       "        vertical-align: middle;\n",
       "    }\n",
       "\n",
       "    .dataframe tbody tr th {\n",
       "        vertical-align: top;\n",
       "    }\n",
       "\n",
       "    .dataframe thead th {\n",
       "        text-align: right;\n",
       "    }\n",
       "</style>\n",
       "<table border=\"1\" class=\"dataframe\">\n",
       "  <thead>\n",
       "    <tr style=\"text-align: right;\">\n",
       "      <th></th>\n",
       "      <th>id</th>\n",
       "      <th>name</th>\n",
       "      <th>artists</th>\n",
       "      <th>danceability</th>\n",
       "      <th>energy</th>\n",
       "      <th>key</th>\n",
       "      <th>loudness</th>\n",
       "      <th>mode</th>\n",
       "      <th>speechiness</th>\n",
       "      <th>acousticness</th>\n",
       "      <th>instrumentalness</th>\n",
       "      <th>liveness</th>\n",
       "      <th>valence</th>\n",
       "      <th>tempo</th>\n",
       "      <th>duration_ms</th>\n",
       "      <th>time_signature</th>\n",
       "    </tr>\n",
       "  </thead>\n",
       "  <tbody>\n",
       "    <tr>\n",
       "      <td>0</td>\n",
       "      <td>6DCZcSspjsKoFjzjrWoCd</td>\n",
       "      <td>God's Plan</td>\n",
       "      <td>Drake</td>\n",
       "      <td>0.754</td>\n",
       "      <td>0.449</td>\n",
       "      <td>7</td>\n",
       "      <td>-9.211</td>\n",
       "      <td>1</td>\n",
       "      <td>0.1090</td>\n",
       "      <td>0.0332</td>\n",
       "      <td>0.000083</td>\n",
       "      <td>0.552</td>\n",
       "      <td>0.357</td>\n",
       "      <td>77.169</td>\n",
       "      <td>198973</td>\n",
       "      <td>4</td>\n",
       "    </tr>\n",
       "    <tr>\n",
       "      <td>1</td>\n",
       "      <td>3ee8Jmje8o58CHK66QrVC</td>\n",
       "      <td>SAD!</td>\n",
       "      <td>XXXTENTACION</td>\n",
       "      <td>0.740</td>\n",
       "      <td>0.613</td>\n",
       "      <td>8</td>\n",
       "      <td>-4.880</td>\n",
       "      <td>1</td>\n",
       "      <td>0.1450</td>\n",
       "      <td>0.2580</td>\n",
       "      <td>0.003720</td>\n",
       "      <td>0.123</td>\n",
       "      <td>0.473</td>\n",
       "      <td>75.023</td>\n",
       "      <td>166606</td>\n",
       "      <td>4</td>\n",
       "    </tr>\n",
       "    <tr>\n",
       "      <td>2</td>\n",
       "      <td>0e7ipj03S05BNilyu5bRz</td>\n",
       "      <td>rockstar (feat. 21 Savage)</td>\n",
       "      <td>Post Malone</td>\n",
       "      <td>0.587</td>\n",
       "      <td>0.535</td>\n",
       "      <td>5</td>\n",
       "      <td>-6.090</td>\n",
       "      <td>0</td>\n",
       "      <td>0.0898</td>\n",
       "      <td>0.1170</td>\n",
       "      <td>0.000066</td>\n",
       "      <td>0.131</td>\n",
       "      <td>0.140</td>\n",
       "      <td>159.847</td>\n",
       "      <td>218147</td>\n",
       "      <td>4</td>\n",
       "    </tr>\n",
       "    <tr>\n",
       "      <td>3</td>\n",
       "      <td>3swc6WTsr7rl9DqQKQA55</td>\n",
       "      <td>Psycho (feat. Ty Dolla $ign)</td>\n",
       "      <td>Post Malone</td>\n",
       "      <td>0.739</td>\n",
       "      <td>0.559</td>\n",
       "      <td>8</td>\n",
       "      <td>-8.011</td>\n",
       "      <td>1</td>\n",
       "      <td>0.1170</td>\n",
       "      <td>0.5800</td>\n",
       "      <td>0.000000</td>\n",
       "      <td>0.112</td>\n",
       "      <td>0.439</td>\n",
       "      <td>140.124</td>\n",
       "      <td>221440</td>\n",
       "      <td>4</td>\n",
       "    </tr>\n",
       "    <tr>\n",
       "      <td>4</td>\n",
       "      <td>2G7V7zsVDxg1yRsu7Ew9R</td>\n",
       "      <td>In My Feelings</td>\n",
       "      <td>Drake</td>\n",
       "      <td>0.835</td>\n",
       "      <td>0.626</td>\n",
       "      <td>1</td>\n",
       "      <td>-5.833</td>\n",
       "      <td>1</td>\n",
       "      <td>0.1250</td>\n",
       "      <td>0.0589</td>\n",
       "      <td>0.000060</td>\n",
       "      <td>0.396</td>\n",
       "      <td>0.350</td>\n",
       "      <td>91.030</td>\n",
       "      <td>217925</td>\n",
       "      <td>4</td>\n",
       "    </tr>\n",
       "  </tbody>\n",
       "</table>\n",
       "</div>"
      ],
      "text/plain": [
       "                      id                          name       artists  \\\n",
       "0  6DCZcSspjsKoFjzjrWoCd                    God's Plan         Drake   \n",
       "1  3ee8Jmje8o58CHK66QrVC                          SAD!  XXXTENTACION   \n",
       "2  0e7ipj03S05BNilyu5bRz    rockstar (feat. 21 Savage)   Post Malone   \n",
       "3  3swc6WTsr7rl9DqQKQA55  Psycho (feat. Ty Dolla $ign)   Post Malone   \n",
       "4  2G7V7zsVDxg1yRsu7Ew9R                In My Feelings         Drake   \n",
       "\n",
       "   danceability  energy  key  loudness  mode  speechiness  acousticness  \\\n",
       "0         0.754   0.449    7    -9.211     1       0.1090        0.0332   \n",
       "1         0.740   0.613    8    -4.880     1       0.1450        0.2580   \n",
       "2         0.587   0.535    5    -6.090     0       0.0898        0.1170   \n",
       "3         0.739   0.559    8    -8.011     1       0.1170        0.5800   \n",
       "4         0.835   0.626    1    -5.833     1       0.1250        0.0589   \n",
       "\n",
       "   instrumentalness  liveness  valence    tempo  duration_ms  time_signature  \n",
       "0          0.000083     0.552    0.357   77.169       198973               4  \n",
       "1          0.003720     0.123    0.473   75.023       166606               4  \n",
       "2          0.000066     0.131    0.140  159.847       218147               4  \n",
       "3          0.000000     0.112    0.439  140.124       221440               4  \n",
       "4          0.000060     0.396    0.350   91.030       217925               4  "
      ]
     },
     "execution_count": 8,
     "metadata": {},
     "output_type": "execute_result"
    }
   ],
   "source": [
    "data.head()"
   ]
  },
  {
   "cell_type": "markdown",
   "metadata": {
    "id": "lt2n1KsJ0YZg"
   },
   "source": [
    "## 1. Show Top 10 artists with the largest presence in the top 100 spotify songs in 2018"
   ]
  },
  {
   "cell_type": "code",
   "execution_count": 22,
   "metadata": {
    "colab": {
     "base_uri": "https://localhost:8080/",
     "height": 210
    },
    "id": "HDvEeXhc0eS5",
    "outputId": "46d61a18-a4f2-40f7-f66b-37a4882baceb"
   },
   "outputs": [
    {
     "data": {
      "text/plain": [
       "artists\n",
       "Post Malone        6\n",
       "XXXTENTACION       6\n",
       "Drake              4\n",
       "Ed Sheeran         3\n",
       "Marshmello         3\n",
       "Dua Lipa           2\n",
       "Imagine Dragons    2\n",
       "Ozuna              2\n",
       "Selena Gomez       2\n",
       "Clean Bandit       2\n",
       "Name: id, dtype: int64"
      ]
     },
     "execution_count": 22,
     "metadata": {},
     "output_type": "execute_result"
    }
   ],
   "source": [
    "artist=data.groupby('artists').count()\n",
    "artist.sort_values ('id', ascending=False, inplace=True)\n",
    "artist['id'].head(10)"
   ]
  },
  {
   "cell_type": "markdown",
   "metadata": {
    "id": "M5Cq14lvzOid"
   },
   "source": [
    "## 2. What is the longest duration of the top 100 spotify songs in 2018 ?"
   ]
  },
  {
   "cell_type": "code",
   "execution_count": 23,
   "metadata": {
    "colab": {
     "base_uri": "https://localhost:8080/",
     "height": 34
    },
    "id": "5D9Fqy6wv1wf",
    "outputId": "0dc336a0-5cce-4b50-f1ab-9d8dcde974c6"
   },
   "outputs": [
    {
     "data": {
      "text/plain": [
       "417920"
      ]
     },
     "execution_count": 23,
     "metadata": {},
     "output_type": "execute_result"
    }
   ],
   "source": [
    "data['duration_ms'].max()"
   ]
  },
  {
   "cell_type": "markdown",
   "metadata": {
    "id": "7N5CLPHlzp_8"
   },
   "source": [
    "## 3. Who and what songs has the longest duration of the top 100 spotify songs in 2018 ?"
   ]
  },
  {
   "cell_type": "code",
   "execution_count": 27,
   "metadata": {
    "colab": {
     "base_uri": "https://localhost:8080/",
     "height": 77
    },
    "id": "X-qIfFC-zgDO",
    "outputId": "15365c47-963b-4a7f-fe07-e0973bd2a321"
   },
   "outputs": [
    {
     "data": {
      "text/html": [
       "<div>\n",
       "<style scoped>\n",
       "    .dataframe tbody tr th:only-of-type {\n",
       "        vertical-align: middle;\n",
       "    }\n",
       "\n",
       "    .dataframe tbody tr th {\n",
       "        vertical-align: top;\n",
       "    }\n",
       "\n",
       "    .dataframe thead th {\n",
       "        text-align: right;\n",
       "    }\n",
       "</style>\n",
       "<table border=\"1\" class=\"dataframe\">\n",
       "  <thead>\n",
       "    <tr style=\"text-align: right;\">\n",
       "      <th></th>\n",
       "      <th>artists</th>\n",
       "      <th>name</th>\n",
       "    </tr>\n",
       "  </thead>\n",
       "  <tbody>\n",
       "    <tr>\n",
       "      <td>21</td>\n",
       "      <td>Nio Garcia</td>\n",
       "      <td>Te Bot? - Remix</td>\n",
       "    </tr>\n",
       "  </tbody>\n",
       "</table>\n",
       "</div>"
      ],
      "text/plain": [
       "       artists             name\n",
       "21  Nio Garcia  Te Bot? - Remix"
      ]
     },
     "execution_count": 27,
     "metadata": {},
     "output_type": "execute_result"
    }
   ],
   "source": [
    "data.sort_values('duration_ms', ascending= False, inplace=True)\n",
    "data[['artists','name']].head(1)"
   ]
  },
  {
   "cell_type": "markdown",
   "metadata": {
    "id": "ZC4SimXD4GTm"
   },
   "source": [
    "## 4. Show the total duration from the artists in the top 100 spotify songs in 2018 !"
   ]
  },
  {
   "cell_type": "code",
   "execution_count": 44,
   "metadata": {
    "colab": {
     "base_uri": "https://localhost:8080/",
     "height": 1000
    },
    "id": "Bp5ni4Iu2vrz",
    "outputId": "9121167b-5458-4010-be83-ae140644bb27"
   },
   "outputs": [
    {
     "data": {
      "text/html": [
       "<div>\n",
       "<style scoped>\n",
       "    .dataframe tbody tr th:only-of-type {\n",
       "        vertical-align: middle;\n",
       "    }\n",
       "\n",
       "    .dataframe tbody tr th {\n",
       "        vertical-align: top;\n",
       "    }\n",
       "\n",
       "    .dataframe thead th {\n",
       "        text-align: right;\n",
       "    }\n",
       "</style>\n",
       "<table border=\"1\" class=\"dataframe\">\n",
       "  <thead>\n",
       "    <tr style=\"text-align: right;\">\n",
       "      <th></th>\n",
       "      <th>duration_ms</th>\n",
       "    </tr>\n",
       "    <tr>\n",
       "      <th>artists</th>\n",
       "      <th></th>\n",
       "    </tr>\n",
       "  </thead>\n",
       "  <tbody>\n",
       "    <tr>\n",
       "      <td>Post Malone</td>\n",
       "      <td>1342027</td>\n",
       "    </tr>\n",
       "    <tr>\n",
       "      <td>Drake</td>\n",
       "      <td>866259</td>\n",
       "    </tr>\n",
       "    <tr>\n",
       "      <td>XXXTENTACION</td>\n",
       "      <td>784703</td>\n",
       "    </tr>\n",
       "    <tr>\n",
       "      <td>Ed Sheeran</td>\n",
       "      <td>756663</td>\n",
       "    </tr>\n",
       "    <tr>\n",
       "      <td>Marshmello</td>\n",
       "      <td>597734</td>\n",
       "    </tr>\n",
       "    <tr>\n",
       "      <td>...</td>\n",
       "      <td>...</td>\n",
       "    </tr>\n",
       "    <tr>\n",
       "      <td>Portugal. The Man</td>\n",
       "      <td>163253</td>\n",
       "    </tr>\n",
       "    <tr>\n",
       "      <td>Loud Luxury</td>\n",
       "      <td>163216</td>\n",
       "    </tr>\n",
       "    <tr>\n",
       "      <td>Dennis Lloyd</td>\n",
       "      <td>156600</td>\n",
       "    </tr>\n",
       "    <tr>\n",
       "      <td>Lil Baby</td>\n",
       "      <td>142273</td>\n",
       "    </tr>\n",
       "    <tr>\n",
       "      <td>Bazzi</td>\n",
       "      <td>131064</td>\n",
       "    </tr>\n",
       "  </tbody>\n",
       "</table>\n",
       "<p>70 rows × 1 columns</p>\n",
       "</div>"
      ],
      "text/plain": [
       "                   duration_ms\n",
       "artists                       \n",
       "Post Malone            1342027\n",
       "Drake                   866259\n",
       "XXXTENTACION            784703\n",
       "Ed Sheeran              756663\n",
       "Marshmello              597734\n",
       "...                        ...\n",
       "Portugal. The Man       163253\n",
       "Loud Luxury             163216\n",
       "Dennis Lloyd            156600\n",
       "Lil Baby                142273\n",
       "Bazzi                   131064\n",
       "\n",
       "[70 rows x 1 columns]"
      ]
     },
     "execution_count": 44,
     "metadata": {},
     "output_type": "execute_result"
    }
   ],
   "source": [
    "duration=data[['artists','duration_ms']].groupby('artists').sum().sort_values('duration_ms', ascending=False)\n",
    "duration"
   ]
  },
  {
   "cell_type": "markdown",
   "metadata": {
    "id": "Vq5_w00U4qBZ"
   },
   "source": [
    "## 5. Who artists has the average fastest tempo in the top 100 spotify song 2018 ?"
   ]
  },
  {
   "cell_type": "code",
   "execution_count": 43,
   "metadata": {
    "colab": {
     "base_uri": "https://localhost:8080/",
     "height": 1000
    },
    "id": "6RXEarxi4c1h",
    "outputId": "8950d7ba-a2f8-4426-c1a2-80cabf7aff0c"
   },
   "outputs": [
    {
     "data": {
      "text/html": [
       "<div>\n",
       "<style scoped>\n",
       "    .dataframe tbody tr th:only-of-type {\n",
       "        vertical-align: middle;\n",
       "    }\n",
       "\n",
       "    .dataframe tbody tr th {\n",
       "        vertical-align: top;\n",
       "    }\n",
       "\n",
       "    .dataframe thead th {\n",
       "        text-align: right;\n",
       "    }\n",
       "</style>\n",
       "<table border=\"1\" class=\"dataframe\">\n",
       "  <thead>\n",
       "    <tr style=\"text-align: right;\">\n",
       "      <th></th>\n",
       "      <th>tempo</th>\n",
       "    </tr>\n",
       "    <tr>\n",
       "      <th>artists</th>\n",
       "      <th></th>\n",
       "    </tr>\n",
       "  </thead>\n",
       "  <tbody>\n",
       "    <tr>\n",
       "      <td>Maluma</td>\n",
       "      <td>198.075</td>\n",
       "    </tr>\n",
       "    <tr>\n",
       "      <td>Keala Settle</td>\n",
       "      <td>191.702</td>\n",
       "    </tr>\n",
       "    <tr>\n",
       "      <td>Nicky Jam</td>\n",
       "      <td>180.073</td>\n",
       "    </tr>\n",
       "    <tr>\n",
       "      <td>ZAYN</td>\n",
       "      <td>180.043</td>\n",
       "    </tr>\n",
       "    <tr>\n",
       "      <td>Piso 21</td>\n",
       "      <td>170.019</td>\n",
       "    </tr>\n",
       "    <tr>\n",
       "      <td>...</td>\n",
       "      <td>...</td>\n",
       "    </tr>\n",
       "    <tr>\n",
       "      <td>benny blanco</td>\n",
       "      <td>89.391</td>\n",
       "    </tr>\n",
       "    <tr>\n",
       "      <td>G-Eazy</td>\n",
       "      <td>87.908</td>\n",
       "    </tr>\n",
       "    <tr>\n",
       "      <td>Juice WRLD</td>\n",
       "      <td>83.903</td>\n",
       "    </tr>\n",
       "    <tr>\n",
       "      <td>Natti Natasha</td>\n",
       "      <td>79.997</td>\n",
       "    </tr>\n",
       "    <tr>\n",
       "      <td>Portugal. The Man</td>\n",
       "      <td>79.028</td>\n",
       "    </tr>\n",
       "  </tbody>\n",
       "</table>\n",
       "<p>70 rows × 1 columns</p>\n",
       "</div>"
      ],
      "text/plain": [
       "                     tempo\n",
       "artists                   \n",
       "Maluma             198.075\n",
       "Keala Settle       191.702\n",
       "Nicky Jam          180.073\n",
       "ZAYN               180.043\n",
       "Piso 21            170.019\n",
       "...                    ...\n",
       "benny blanco        89.391\n",
       "G-Eazy              87.908\n",
       "Juice WRLD          83.903\n",
       "Natti Natasha       79.997\n",
       "Portugal. The Man   79.028\n",
       "\n",
       "[70 rows x 1 columns]"
      ]
     },
     "execution_count": 43,
     "metadata": {},
     "output_type": "execute_result"
    }
   ],
   "source": [
    "tempo=data[['artists','tempo']].groupby('artists').mean().sort_values('tempo', ascending=False)\n",
    "tempo\n"
   ]
  },
  {
   "cell_type": "markdown",
   "metadata": {
    "id": "CRPyKlxl6o8s"
   },
   "source": [
    "## 6. Who artists has the average danceable songs in the top 100 spotify song 2018 ?"
   ]
  },
  {
   "cell_type": "code",
   "execution_count": 42,
   "metadata": {
    "colab": {
     "base_uri": "https://localhost:8080/",
     "height": 1000
    },
    "id": "0e-lg7HI6sFf",
    "outputId": "e7c961ba-e2af-4a00-ecd2-78dcf5e4d568"
   },
   "outputs": [
    {
     "data": {
      "text/html": [
       "<div>\n",
       "<style scoped>\n",
       "    .dataframe tbody tr th:only-of-type {\n",
       "        vertical-align: middle;\n",
       "    }\n",
       "\n",
       "    .dataframe tbody tr th {\n",
       "        vertical-align: top;\n",
       "    }\n",
       "\n",
       "    .dataframe thead th {\n",
       "        text-align: right;\n",
       "    }\n",
       "</style>\n",
       "<table border=\"1\" class=\"dataframe\">\n",
       "  <thead>\n",
       "    <tr style=\"text-align: right;\">\n",
       "      <th></th>\n",
       "      <th>danceability</th>\n",
       "    </tr>\n",
       "    <tr>\n",
       "      <th>artists</th>\n",
       "      <th></th>\n",
       "    </tr>\n",
       "  </thead>\n",
       "  <tbody>\n",
       "    <tr>\n",
       "      <td>Lil Baby</td>\n",
       "      <td>0.964</td>\n",
       "    </tr>\n",
       "    <tr>\n",
       "      <td>6ix9ine</td>\n",
       "      <td>0.931</td>\n",
       "    </tr>\n",
       "    <tr>\n",
       "      <td>BlocBoy JB</td>\n",
       "      <td>0.922</td>\n",
       "    </tr>\n",
       "    <tr>\n",
       "      <td>Wolfine</td>\n",
       "      <td>0.909</td>\n",
       "    </tr>\n",
       "    <tr>\n",
       "      <td>Nio Garcia</td>\n",
       "      <td>0.903</td>\n",
       "    </tr>\n",
       "    <tr>\n",
       "      <td>...</td>\n",
       "      <td>...</td>\n",
       "    </tr>\n",
       "    <tr>\n",
       "      <td>DJ Khaled</td>\n",
       "      <td>0.552</td>\n",
       "    </tr>\n",
       "    <tr>\n",
       "      <td>Juice WRLD</td>\n",
       "      <td>0.511</td>\n",
       "    </tr>\n",
       "    <tr>\n",
       "      <td>Billie Eilish</td>\n",
       "      <td>0.351</td>\n",
       "    </tr>\n",
       "    <tr>\n",
       "      <td>Keala Settle</td>\n",
       "      <td>0.284</td>\n",
       "    </tr>\n",
       "    <tr>\n",
       "      <td>ZAYN</td>\n",
       "      <td>0.258</td>\n",
       "    </tr>\n",
       "  </tbody>\n",
       "</table>\n",
       "<p>70 rows × 1 columns</p>\n",
       "</div>"
      ],
      "text/plain": [
       "               danceability\n",
       "artists                    \n",
       "Lil Baby              0.964\n",
       "6ix9ine               0.931\n",
       "BlocBoy JB            0.922\n",
       "Wolfine               0.909\n",
       "Nio Garcia            0.903\n",
       "...                     ...\n",
       "DJ Khaled             0.552\n",
       "Juice WRLD            0.511\n",
       "Billie Eilish         0.351\n",
       "Keala Settle          0.284\n",
       "ZAYN                  0.258\n",
       "\n",
       "[70 rows x 1 columns]"
      ]
     },
     "execution_count": 42,
     "metadata": {},
     "output_type": "execute_result"
    }
   ],
   "source": [
    "dance=data[['artists','danceability']].groupby('artists').mean().sort_values('danceability', ascending=False)\n",
    "dance"
   ]
  },
  {
   "cell_type": "markdown",
   "metadata": {
    "id": "vEefRQlk5PYz"
   },
   "source": [
    "## 7. Can we achieve the information from the last 3 exercise in just 1 line ?"
   ]
  },
  {
   "cell_type": "code",
   "execution_count": 52,
   "metadata": {
    "colab": {
     "base_uri": "https://localhost:8080/",
     "height": 1000
    },
    "id": "t7EOyQju5Sos",
    "outputId": "4b19635f-85e7-4d8a-d60d-5214f393fe14"
   },
   "outputs": [
    {
     "data": {
      "text/html": [
       "<div>\n",
       "<style scoped>\n",
       "    .dataframe tbody tr th:only-of-type {\n",
       "        vertical-align: middle;\n",
       "    }\n",
       "\n",
       "    .dataframe tbody tr th {\n",
       "        vertical-align: top;\n",
       "    }\n",
       "\n",
       "    .dataframe thead th {\n",
       "        text-align: right;\n",
       "    }\n",
       "</style>\n",
       "<table border=\"1\" class=\"dataframe\">\n",
       "  <thead>\n",
       "    <tr style=\"text-align: right;\">\n",
       "      <th></th>\n",
       "      <th>duration_ms</th>\n",
       "      <th>tempo</th>\n",
       "      <th>danceability</th>\n",
       "    </tr>\n",
       "    <tr>\n",
       "      <th>artists</th>\n",
       "      <th></th>\n",
       "      <th></th>\n",
       "      <th></th>\n",
       "    </tr>\n",
       "  </thead>\n",
       "  <tbody>\n",
       "    <tr>\n",
       "      <td>5 Seconds of Summer</td>\n",
       "      <td>203418.000000</td>\n",
       "      <td>120.274</td>\n",
       "      <td>0.596000</td>\n",
       "    </tr>\n",
       "    <tr>\n",
       "      <td>6ix9ine</td>\n",
       "      <td>179405.000000</td>\n",
       "      <td>125.978</td>\n",
       "      <td>0.931000</td>\n",
       "    </tr>\n",
       "    <tr>\n",
       "      <td>Anitta</td>\n",
       "      <td>193456.000000</td>\n",
       "      <td>166.008</td>\n",
       "      <td>0.775000</td>\n",
       "    </tr>\n",
       "    <tr>\n",
       "      <td>Anne-Marie</td>\n",
       "      <td>186987.000000</td>\n",
       "      <td>96.133</td>\n",
       "      <td>0.697000</td>\n",
       "    </tr>\n",
       "    <tr>\n",
       "      <td>Ariana Grande</td>\n",
       "      <td>201733.500000</td>\n",
       "      <td>133.512</td>\n",
       "      <td>0.650500</td>\n",
       "    </tr>\n",
       "    <tr>\n",
       "      <td>...</td>\n",
       "      <td>...</td>\n",
       "      <td>...</td>\n",
       "      <td>...</td>\n",
       "    </tr>\n",
       "    <tr>\n",
       "      <td>XXXTENTACION</td>\n",
       "      <td>130783.833333</td>\n",
       "      <td>110.496</td>\n",
       "      <td>0.788833</td>\n",
       "    </tr>\n",
       "    <tr>\n",
       "      <td>ZAYN</td>\n",
       "      <td>239000.000000</td>\n",
       "      <td>180.043</td>\n",
       "      <td>0.258000</td>\n",
       "    </tr>\n",
       "    <tr>\n",
       "      <td>Zac Efron</td>\n",
       "      <td>217440.000000</td>\n",
       "      <td>125.046</td>\n",
       "      <td>0.684000</td>\n",
       "    </tr>\n",
       "    <tr>\n",
       "      <td>Zedd</td>\n",
       "      <td>184732.000000</td>\n",
       "      <td>107.010</td>\n",
       "      <td>0.753000</td>\n",
       "    </tr>\n",
       "    <tr>\n",
       "      <td>benny blanco</td>\n",
       "      <td>173800.000000</td>\n",
       "      <td>89.391</td>\n",
       "      <td>0.560000</td>\n",
       "    </tr>\n",
       "  </tbody>\n",
       "</table>\n",
       "<p>70 rows × 3 columns</p>\n",
       "</div>"
      ],
      "text/plain": [
       "                       duration_ms    tempo  danceability\n",
       "artists                                                  \n",
       "5 Seconds of Summer  203418.000000  120.274      0.596000\n",
       "6ix9ine              179405.000000  125.978      0.931000\n",
       "Anitta               193456.000000  166.008      0.775000\n",
       "Anne-Marie           186987.000000   96.133      0.697000\n",
       "Ariana Grande        201733.500000  133.512      0.650500\n",
       "...                            ...      ...           ...\n",
       "XXXTENTACION         130783.833333  110.496      0.788833\n",
       "ZAYN                 239000.000000  180.043      0.258000\n",
       "Zac Efron            217440.000000  125.046      0.684000\n",
       "Zedd                 184732.000000  107.010      0.753000\n",
       "benny blanco         173800.000000   89.391      0.560000\n",
       "\n",
       "[70 rows x 3 columns]"
      ]
     },
     "execution_count": 52,
     "metadata": {},
     "output_type": "execute_result"
    }
   ],
   "source": [
    "data[['artists','duration_ms','tempo','danceability']].groupby('artists').mean()"
   ]
  },
  {
   "cell_type": "code",
   "execution_count": null,
   "metadata": {
    "id": "i0FSjihD5n3T"
   },
   "outputs": [],
   "source": []
  }
 ],
 "metadata": {
  "colab": {
   "collapsed_sections": [],
   "name": "2. Pandas Exercise",
   "provenance": []
  },
  "kernelspec": {
   "display_name": "Python 3",
   "language": "python",
   "name": "python3"
  },
  "language_info": {
   "codemirror_mode": {
    "name": "ipython",
    "version": 3
   },
   "file_extension": ".py",
   "mimetype": "text/x-python",
   "name": "python",
   "nbconvert_exporter": "python",
   "pygments_lexer": "ipython3",
   "version": "3.8.6"
  }
 },
 "nbformat": 4,
 "nbformat_minor": 4
}
