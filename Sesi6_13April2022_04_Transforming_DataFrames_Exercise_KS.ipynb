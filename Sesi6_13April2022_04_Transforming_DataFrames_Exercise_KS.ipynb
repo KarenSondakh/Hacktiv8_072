{
  "cells": [
    {
      "cell_type": "code",
      "execution_count": 8,
      "metadata": {
        "id": "aFeAVj_hwI28"
      },
      "outputs": [
        {
          "name": "stdout",
          "output_type": "stream",
          "text": [
            "               region       state  individuals  family_members  state_pop\n",
            "0  East South Central     Alabama         2570             864    4887681\n",
            "1             Pacific      Alaska         1434             582     735139\n",
            "2            Mountain     Arizona         7259            2606    7158024\n",
            "3  West South Central    Arkansas         2280             432    3009733\n",
            "4             Pacific  California       109008           20964   39461588\n",
            "<class 'pandas.core.frame.DataFrame'>\n",
            "RangeIndex: 51 entries, 0 to 50\n",
            "Data columns (total 5 columns):\n",
            "region            51 non-null object\n",
            "state             51 non-null object\n",
            "individuals       51 non-null int64\n",
            "family_members    51 non-null int64\n",
            "state_pop         51 non-null int64\n",
            "dtypes: int64(3), object(2)\n",
            "memory usage: 2.1+ KB\n",
            "None\n",
            "(51, 5)\n",
            "         individuals  family_members     state_pop\n",
            "count      51.000000       51.000000  5.100000e+01\n",
            "mean     7225.784314     3504.882353  6.405637e+06\n",
            "std     15991.025083     7805.411811  7.327258e+06\n",
            "min       434.000000       75.000000  5.776010e+05\n",
            "25%      1446.500000      592.000000  1.777414e+06\n",
            "50%      3082.000000     1482.000000  4.461153e+06\n",
            "75%      6781.500000     3196.000000  7.340946e+06\n",
            "max    109008.000000    52070.000000  3.946159e+07\n"
          ]
        }
      ],
      "source": [
        "# Import pandas using the alias pd\n",
        "import pandas as pd\n",
        "import numpy as np\n",
        "import matplotlib.pyplot as plt\n",
        "import seaborn as sns\n",
        "\n",
        "homelessness = pd.read_csv('01. homelessness.csv')\n",
        "homelessness.drop(columns=['Unnamed: 0'], inplace=True)\n",
        "homelessness\n",
        "\n",
        "# Print the head of the homelessness data\n",
        "print(homelessness.head())\n",
        "\n",
        "# Print information about homelessness\n",
        "print(homelessness.info())\n",
        "\n",
        "# Print the shape of homelessness\n",
        "print(homelessness.shape)\n",
        "\n",
        "# Print a description of homelessness\n",
        "print(homelessness.describe())"
      ]
    },
    {
      "cell_type": "code",
      "execution_count": 13,
      "metadata": {
        "id": "fm5saUItwcFd"
      },
      "outputs": [
        {
          "name": "stdout",
          "output_type": "stream",
          "text": [
            "[['East South Central' 'Alabama' 2570 864 4887681]\n",
            " ['Pacific' 'Alaska' 1434 582 735139]\n",
            " ['Mountain' 'Arizona' 7259 2606 7158024]\n",
            " ['West South Central' 'Arkansas' 2280 432 3009733]\n",
            " ['Pacific' 'California' 109008 20964 39461588]\n",
            " ['Mountain' 'Colorado' 7607 3250 5691287]\n",
            " ['New England' 'Connecticut' 2280 1696 3571520]\n",
            " ['South Atlantic' 'Delaware' 708 374 965479]\n",
            " ['South Atlantic' 'District of Columbia' 3770 3134 701547]\n",
            " ['South Atlantic' 'Florida' 21443 9587 21244317]\n",
            " ['South Atlantic' 'Georgia' 6943 2556 10511131]\n",
            " ['Pacific' 'Hawaii' 4131 2399 1420593]\n",
            " ['Mountain' 'Idaho' 1297 715 1750536]\n",
            " ['East North Central' 'Illinois' 6752 3891 12723071]\n",
            " ['East North Central' 'Indiana' 3776 1482 6695497]\n",
            " ['West North Central' 'Iowa' 1711 1038 3148618]\n",
            " ['West North Central' 'Kansas' 1443 773 2911359]\n",
            " ['East South Central' 'Kentucky' 2735 953 4461153]\n",
            " ['West South Central' 'Louisiana' 2540 519 4659690]\n",
            " ['New England' 'Maine' 1450 1066 1339057]\n",
            " ['South Atlantic' 'Maryland' 4914 2230 6035802]\n",
            " ['New England' 'Massachusetts' 6811 13257 6882635]\n",
            " ['East North Central' 'Michigan' 5209 3142 9984072]\n",
            " ['West North Central' 'Minnesota' 3993 3250 5606249]\n",
            " ['East South Central' 'Mississippi' 1024 328 2981020]\n",
            " ['West North Central' 'Missouri' 3776 2107 6121623]\n",
            " ['Mountain' 'Montana' 983 422 1060665]\n",
            " ['West North Central' 'Nebraska' 1745 676 1925614]\n",
            " ['Mountain' 'Nevada' 7058 486 3027341]\n",
            " ['New England' 'New Hampshire' 835 615 1353465]\n",
            " ['Mid-Atlantic' 'New Jersey' 6048 3350 8886025]\n",
            " ['Mountain' 'New Mexico' 1949 602 2092741]\n",
            " ['Mid-Atlantic' 'New York' 39827 52070 19530351]\n",
            " ['South Atlantic' 'North Carolina' 6451 2817 10381615]\n",
            " ['West North Central' 'North Dakota' 467 75 758080]\n",
            " ['East North Central' 'Ohio' 6929 3320 11676341]\n",
            " ['West South Central' 'Oklahoma' 2823 1048 3940235]\n",
            " ['Pacific' 'Oregon' 11139 3337 4181886]\n",
            " ['Mid-Atlantic' 'Pennsylvania' 8163 5349 12800922]\n",
            " ['New England' 'Rhode Island' 747 354 1058287]\n",
            " ['South Atlantic' 'South Carolina' 3082 851 5084156]\n",
            " ['West North Central' 'South Dakota' 836 323 878698]\n",
            " ['East South Central' 'Tennessee' 6139 1744 6771631]\n",
            " ['West South Central' 'Texas' 19199 6111 28628666]\n",
            " ['Mountain' 'Utah' 1904 972 3153550]\n",
            " ['New England' 'Vermont' 780 511 624358]\n",
            " ['South Atlantic' 'Virginia' 3928 2047 8501286]\n",
            " ['Pacific' 'Washington' 16424 5880 7523869]\n",
            " ['South Atlantic' 'West Virginia' 1021 222 1804291]\n",
            " ['East North Central' 'Wisconsin' 2740 2167 5807406]\n",
            " ['Mountain' 'Wyoming' 434 205 577601]]\n",
            "Index(['region', 'state', 'individuals', 'family_members', 'state_pop'], dtype='object')\n",
            "RangeIndex(start=0, stop=51, step=1)\n"
          ]
        }
      ],
      "source": [
        "# Print the values of homelessness\n",
        "print(homelessness.values)\n",
        "\n",
        "# Print the column index of homelessness\n",
        "print(homelessness.columns)\n",
        "\n",
        "# Print the row index of homelessness\n",
        "print(homelessness.index)"
      ]
    },
    {
      "cell_type": "markdown",
      "metadata": {
        "id": "C2RxFTVbwurT"
      },
      "source": [
        "1. Sort homelessness by the number of homeless individuals, from smallest to largest, and save this as homelessness_ind.\n",
        "2. Print the head of the sorted DataFrame."
      ]
    },
    {
      "cell_type": "code",
      "execution_count": 15,
      "metadata": {
        "id": "a3ykbCdgwzQV"
      },
      "outputs": [
        {
          "name": "stdout",
          "output_type": "stream",
          "text": [
            "                region         state  individuals  family_members  state_pop\n",
            "50            Mountain       Wyoming          434             205     577601\n",
            "34  West North Central  North Dakota          467              75     758080\n",
            "7       South Atlantic      Delaware          708             374     965479\n",
            "39         New England  Rhode Island          747             354    1058287\n",
            "45         New England       Vermont          780             511     624358\n"
          ]
        }
      ],
      "source": [
        "# Sort homelessness by individual\n",
        "homelessness_ind = homelessness.sort_values('individuals', ascending=True)\n",
        "\n",
        "# Print the top few rows\n",
        "print(homelessness_ind.head())"
      ]
    },
    {
      "cell_type": "markdown",
      "metadata": {
        "id": "DzVp9qvLwyQA"
      },
      "source": [
        "1. Sort homelessness by the number of homeless family_members in descending order, and save this as homelessness_fam.\n",
        "2. Print the head of the sorted DataFrame."
      ]
    },
    {
      "cell_type": "code",
      "execution_count": 17,
      "metadata": {
        "id": "b6XF3IT0w7us"
      },
      "outputs": [
        {
          "name": "stdout",
          "output_type": "stream",
          "text": [
            "                region          state  individuals  family_members  state_pop\n",
            "32        Mid-Atlantic       New York        39827           52070   19530351\n",
            "4              Pacific     California       109008           20964   39461588\n",
            "21         New England  Massachusetts         6811           13257    6882635\n",
            "9       South Atlantic        Florida        21443            9587   21244317\n",
            "43  West South Central          Texas        19199            6111   28628666\n"
          ]
        }
      ],
      "source": [
        "# Sort homelessness by descending family members\n",
        "homelessness_fam = homelessness.sort_values('family_members', ascending=False)\n",
        "\n",
        "# Print the top few rows\n",
        "print(homelessness_fam.head())"
      ]
    },
    {
      "cell_type": "markdown",
      "metadata": {
        "id": "VrycbWLXxju4"
      },
      "source": [
        "1. Sort homelessness first by region (ascending), and then by number of family members (descending). Save this as homelessness_reg_fam.\n",
        "2. Print the head of the sorted DataFrame."
      ]
    },
    {
      "cell_type": "code",
      "execution_count": 27,
      "metadata": {
        "id": "8GxinflQxmL6"
      },
      "outputs": [
        {
          "name": "stdout",
          "output_type": "stream",
          "text": [
            "                region      state  individuals  family_members  state_pop\n",
            "13  East North Central   Illinois         6752            3891   12723071\n",
            "35  East North Central       Ohio         6929            3320   11676341\n",
            "22  East North Central   Michigan         5209            3142    9984072\n",
            "49  East North Central  Wisconsin         2740            2167    5807406\n",
            "14  East North Central    Indiana         3776            1482    6695497\n"
          ]
        }
      ],
      "source": [
        "# Sort homelessness by region, then descending family members\n",
        "homelessness_reg_fam = homelessness.sort_values(['region', 'family_members'], ascending = [True, False])\n",
        "\n",
        "# Print the top few rows\n",
        "print(homelessness_reg_fam.head())"
      ]
    },
    {
      "cell_type": "markdown",
      "metadata": {
        "id": "ysh02Y60xs7n"
      },
      "source": [
        "1. Create a DataFrame called individuals that contains only the individuals column of homelessness.\n",
        "2. Print the head of the result."
      ]
    },
    {
      "cell_type": "code",
      "execution_count": 29,
      "metadata": {
        "id": "N9kvbr1fxwQV"
      },
      "outputs": [
        {
          "name": "stdout",
          "output_type": "stream",
          "text": [
            "0      2570\n",
            "1      1434\n",
            "2      7259\n",
            "3      2280\n",
            "4    109008\n",
            "Name: individuals, dtype: int64\n"
          ]
        }
      ],
      "source": [
        "# Select the individuals column\n",
        "individuals = homelessness['individuals']\n",
        "\n",
        "# Print the head of the result\n",
        "print(individuals.head())"
      ]
    },
    {
      "cell_type": "markdown",
      "metadata": {
        "id": "kjcynwqKyprN"
      },
      "source": [
        "1. Create a DataFrame called state_fam that contains only the state and family_members columns of homelessness, in that order.\n",
        "2. Print the head of the result."
      ]
    },
    {
      "cell_type": "code",
      "execution_count": 32,
      "metadata": {
        "id": "cmOO0FXNyuLY"
      },
      "outputs": [
        {
          "name": "stdout",
          "output_type": "stream",
          "text": [
            "        state  family_members\n",
            "0     Alabama             864\n",
            "1      Alaska             582\n",
            "2     Arizona            2606\n",
            "3    Arkansas             432\n",
            "4  California           20964\n"
          ]
        }
      ],
      "source": [
        "# Select the state and family_members columns\n",
        "state_fam = homelessness[['state','family_members']]\n",
        "\n",
        "# Print the head of the result\n",
        "print(state_fam.head())"
      ]
    },
    {
      "cell_type": "markdown",
      "metadata": {
        "id": "HDL0tEKpywNU"
      },
      "source": [
        "1. Create a DataFrame called ind_state that contains the individuals and state columns of homelessness, in that order.\n",
        "2. Print the head of the result."
      ]
    },
    {
      "cell_type": "code",
      "execution_count": 33,
      "metadata": {
        "id": "9CGyZMlPy17L"
      },
      "outputs": [
        {
          "name": "stdout",
          "output_type": "stream",
          "text": [
            "   individuals       state\n",
            "0         2570     Alabama\n",
            "1         1434      Alaska\n",
            "2         7259     Arizona\n",
            "3         2280    Arkansas\n",
            "4       109008  California\n"
          ]
        }
      ],
      "source": [
        "# Select only the individuals and state columns, in that order\n",
        "ind_state = homelessness[['individuals','state']]\n",
        "\n",
        "# Print the head of the result\n",
        "print(ind_state.head())"
      ]
    },
    {
      "cell_type": "markdown",
      "metadata": {
        "id": "jRHrSM92zYH5"
      },
      "source": [
        "Filter homelessness for cases where the number of individuals is greater than ten thousand, assigning to ind_gt_10k. View the printed result."
      ]
    },
    {
      "cell_type": "code",
      "execution_count": 35,
      "metadata": {
        "id": "Gb2mfRaYzbvk"
      },
      "outputs": [
        {
          "name": "stdout",
          "output_type": "stream",
          "text": [
            "                region       state  individuals  family_members  state_pop\n",
            "4              Pacific  California       109008           20964   39461588\n",
            "9       South Atlantic     Florida        21443            9587   21244317\n",
            "32        Mid-Atlantic    New York        39827           52070   19530351\n",
            "37             Pacific      Oregon        11139            3337    4181886\n",
            "43  West South Central       Texas        19199            6111   28628666\n",
            "47             Pacific  Washington        16424            5880    7523869\n"
          ]
        }
      ],
      "source": [
        "# Filter for rows where individuals is greater than 10000\n",
        "ind_gt_10k = homelessness[homelessness['individuals']>10000]\n",
        "\n",
        "# See the result\n",
        "print(ind_gt_10k)"
      ]
    },
    {
      "cell_type": "markdown",
      "metadata": {
        "id": "ON9JYsLnzcPF"
      },
      "source": [
        "Filter homelessness for cases where the USA Census region is \"Mountain\", assigning to mountain_reg. View the printed result."
      ]
    },
    {
      "cell_type": "code",
      "execution_count": 38,
      "metadata": {
        "id": "MrVVVJwMzhaI"
      },
      "outputs": [
        {
          "name": "stdout",
          "output_type": "stream",
          "text": [
            "      region       state  individuals  family_members  state_pop\n",
            "2   Mountain     Arizona         7259            2606    7158024\n",
            "5   Mountain    Colorado         7607            3250    5691287\n",
            "12  Mountain       Idaho         1297             715    1750536\n",
            "26  Mountain     Montana          983             422    1060665\n",
            "28  Mountain      Nevada         7058             486    3027341\n",
            "31  Mountain  New Mexico         1949             602    2092741\n",
            "44  Mountain        Utah         1904             972    3153550\n",
            "50  Mountain     Wyoming          434             205     577601\n"
          ]
        }
      ],
      "source": [
        "# Filter for rows where region is Mountain\n",
        "mountain_reg = homelessness[homelessness['region']=='Mountain']\n",
        "\n",
        "# See the result\n",
        "print(mountain_reg)"
      ]
    },
    {
      "cell_type": "markdown",
      "metadata": {
        "id": "DDQQp1oWziHx"
      },
      "source": [
        "Filter homelessness for cases where the number of family_members is less than one thousand and the region is \"Pacific\", assigning to fam_lt_1k_pac. View the printed result."
      ]
    },
    {
      "cell_type": "code",
      "execution_count": 42,
      "metadata": {
        "id": "8YRcU-HszlCU"
      },
      "outputs": [
        {
          "name": "stdout",
          "output_type": "stream",
          "text": [
            "    region   state  individuals  family_members  state_pop\n",
            "1  Pacific  Alaska         1434             582     735139\n"
          ]
        }
      ],
      "source": [
        "# Filter for rows where family_members is less than 1000 \n",
        "# and region is Pacific\n",
        "fam_lt_1k_pac = homelessness[(homelessness['family_members']<1000) & (homelessness['region']=='Pacific')]\n",
        "\n",
        "# See the result\n",
        "print(fam_lt_1k_pac)"
      ]
    },
    {
      "cell_type": "markdown",
      "metadata": {
        "id": "yGDc3wEIzpE8"
      },
      "source": [
        "Filter homelessness for cases where the USA census region is \"South Atlantic\" or it is \"Mid-Atlantic\", assigning to south_mid_atlantic. View the printed result"
      ]
    },
    {
      "cell_type": "code",
      "execution_count": 48,
      "metadata": {
        "id": "nk8O0I2PzrLV"
      },
      "outputs": [
        {
          "name": "stdout",
          "output_type": "stream",
          "text": [
            "            region                 state  individuals  family_members  \\\n",
            "7   South Atlantic              Delaware          708             374   \n",
            "8   South Atlantic  District of Columbia         3770            3134   \n",
            "9   South Atlantic               Florida        21443            9587   \n",
            "10  South Atlantic               Georgia         6943            2556   \n",
            "20  South Atlantic              Maryland         4914            2230   \n",
            "30    Mid-Atlantic            New Jersey         6048            3350   \n",
            "32    Mid-Atlantic              New York        39827           52070   \n",
            "33  South Atlantic        North Carolina         6451            2817   \n",
            "38    Mid-Atlantic          Pennsylvania         8163            5349   \n",
            "40  South Atlantic        South Carolina         3082             851   \n",
            "46  South Atlantic              Virginia         3928            2047   \n",
            "48  South Atlantic         West Virginia         1021             222   \n",
            "\n",
            "    state_pop  \n",
            "7      965479  \n",
            "8      701547  \n",
            "9    21244317  \n",
            "10   10511131  \n",
            "20    6035802  \n",
            "30    8886025  \n",
            "32   19530351  \n",
            "33   10381615  \n",
            "38   12800922  \n",
            "40    5084156  \n",
            "46    8501286  \n",
            "48    1804291  \n"
          ]
        }
      ],
      "source": [
        "# Subset for rows in South Atlantic or Mid-Atlantic regions\n",
        "south_mid_atlantic = homelessness[(homelessness['region'] == 'South Atlantic') | (homelessness['region'] == 'Mid-Atlantic')]\n",
        "\n",
        "# See the result\n",
        "print(south_mid_atlantic)"
      ]
    },
    {
      "cell_type": "markdown",
      "metadata": {
        "id": "jjBCm7kAzs5u"
      },
      "source": [
        "Filter homelessness for cases where the USA census state is in the list of Mojave states, canu, assigning to mojave_homelessness. View the printed result."
      ]
    },
    {
      "cell_type": "code",
      "execution_count": 53,
      "metadata": {
        "id": "F45HAHppzvKf"
      },
      "outputs": [
        {
          "name": "stdout",
          "output_type": "stream",
          "text": [
            "      region       state  individuals  family_members  state_pop\n",
            "2   Mountain     Arizona         7259            2606    7158024\n",
            "4    Pacific  California       109008           20964   39461588\n",
            "28  Mountain      Nevada         7058             486    3027341\n",
            "44  Mountain        Utah         1904             972    3153550\n"
          ]
        }
      ],
      "source": [
        "# The Mojave Desert states\n",
        "canu = [\"California\", \"Arizona\", \"Nevada\", \"Utah\"]\n",
        "\n",
        "# Filter for rows in the Mojave Desert states\n",
        "mojave_homelessness = homelessness[homelessness['state'].isin(canu)]\n",
        "\n",
        "# See the result\n",
        "print(mojave_homelessness)"
      ]
    },
    {
      "cell_type": "markdown",
      "metadata": {
        "id": "-HUNhiw2zzvO"
      },
      "source": [
        "1. Add a new column to homelessness, named total, containing the sum of the individuals and family_members columns.\n",
        "2. Add another column to homelessness, named p_individuals, containing the proportion of homeless people in each state who are individuals."
      ]
    },
    {
      "cell_type": "code",
      "execution_count": 60,
      "metadata": {
        "id": "Cc9kHD-Szw9S"
      },
      "outputs": [
        {
          "name": "stdout",
          "output_type": "stream",
          "text": [
            "                region                 state  individuals  family_members  \\\n",
            "0   East South Central               Alabama         2570             864   \n",
            "1              Pacific                Alaska         1434             582   \n",
            "2             Mountain               Arizona         7259            2606   \n",
            "3   West South Central              Arkansas         2280             432   \n",
            "4              Pacific            California       109008           20964   \n",
            "5             Mountain              Colorado         7607            3250   \n",
            "6          New England           Connecticut         2280            1696   \n",
            "7       South Atlantic              Delaware          708             374   \n",
            "8       South Atlantic  District of Columbia         3770            3134   \n",
            "9       South Atlantic               Florida        21443            9587   \n",
            "10      South Atlantic               Georgia         6943            2556   \n",
            "11             Pacific                Hawaii         4131            2399   \n",
            "12            Mountain                 Idaho         1297             715   \n",
            "13  East North Central              Illinois         6752            3891   \n",
            "14  East North Central               Indiana         3776            1482   \n",
            "15  West North Central                  Iowa         1711            1038   \n",
            "16  West North Central                Kansas         1443             773   \n",
            "17  East South Central              Kentucky         2735             953   \n",
            "18  West South Central             Louisiana         2540             519   \n",
            "19         New England                 Maine         1450            1066   \n",
            "20      South Atlantic              Maryland         4914            2230   \n",
            "21         New England         Massachusetts         6811           13257   \n",
            "22  East North Central              Michigan         5209            3142   \n",
            "23  West North Central             Minnesota         3993            3250   \n",
            "24  East South Central           Mississippi         1024             328   \n",
            "25  West North Central              Missouri         3776            2107   \n",
            "26            Mountain               Montana          983             422   \n",
            "27  West North Central              Nebraska         1745             676   \n",
            "28            Mountain                Nevada         7058             486   \n",
            "29         New England         New Hampshire          835             615   \n",
            "30        Mid-Atlantic            New Jersey         6048            3350   \n",
            "31            Mountain            New Mexico         1949             602   \n",
            "32        Mid-Atlantic              New York        39827           52070   \n",
            "33      South Atlantic        North Carolina         6451            2817   \n",
            "34  West North Central          North Dakota          467              75   \n",
            "35  East North Central                  Ohio         6929            3320   \n",
            "36  West South Central              Oklahoma         2823            1048   \n",
            "37             Pacific                Oregon        11139            3337   \n",
            "38        Mid-Atlantic          Pennsylvania         8163            5349   \n",
            "39         New England          Rhode Island          747             354   \n",
            "40      South Atlantic        South Carolina         3082             851   \n",
            "41  West North Central          South Dakota          836             323   \n",
            "42  East South Central             Tennessee         6139            1744   \n",
            "43  West South Central                 Texas        19199            6111   \n",
            "44            Mountain                  Utah         1904             972   \n",
            "45         New England               Vermont          780             511   \n",
            "46      South Atlantic              Virginia         3928            2047   \n",
            "47             Pacific            Washington        16424            5880   \n",
            "48      South Atlantic         West Virginia         1021             222   \n",
            "49  East North Central             Wisconsin         2740            2167   \n",
            "50            Mountain               Wyoming          434             205   \n",
            "\n",
            "    state_pop   total  p_individuals  \n",
            "0     4887681    3434       0.748398  \n",
            "1      735139    2016       0.711310  \n",
            "2     7158024    9865       0.735834  \n",
            "3     3009733    2712       0.840708  \n",
            "4    39461588  129972       0.838704  \n",
            "5     5691287   10857       0.700654  \n",
            "6     3571520    3976       0.573441  \n",
            "7      965479    1082       0.654344  \n",
            "8      701547    6904       0.546060  \n",
            "9    21244317   31030       0.691041  \n",
            "10   10511131    9499       0.730919  \n",
            "11    1420593    6530       0.632619  \n",
            "12    1750536    2012       0.644632  \n",
            "13   12723071   10643       0.634408  \n",
            "14    6695497    5258       0.718144  \n",
            "15    3148618    2749       0.622408  \n",
            "16    2911359    2216       0.651173  \n",
            "17    4461153    3688       0.741594  \n",
            "18    4659690    3059       0.830337  \n",
            "19    1339057    2516       0.576312  \n",
            "20    6035802    7144       0.687850  \n",
            "21    6882635   20068       0.339396  \n",
            "22    9984072    8351       0.623758  \n",
            "23    5606249    7243       0.551291  \n",
            "24    2981020    1352       0.757396  \n",
            "25    6121623    5883       0.641849  \n",
            "26    1060665    1405       0.699644  \n",
            "27    1925614    2421       0.720777  \n",
            "28    3027341    7544       0.935578  \n",
            "29    1353465    1450       0.575862  \n",
            "30    8886025    9398       0.643541  \n",
            "31    2092741    2551       0.764014  \n",
            "32   19530351   91897       0.433387  \n",
            "33   10381615    9268       0.696051  \n",
            "34     758080     542       0.861624  \n",
            "35   11676341   10249       0.676066  \n",
            "36    3940235    3871       0.729269  \n",
            "37    4181886   14476       0.769481  \n",
            "38   12800922   13512       0.604130  \n",
            "39    1058287    1101       0.678474  \n",
            "40    5084156    3933       0.783626  \n",
            "41     878698    1159       0.721311  \n",
            "42    6771631    7883       0.778764  \n",
            "43   28628666   25310       0.758554  \n",
            "44    3153550    2876       0.662031  \n",
            "45     624358    1291       0.604183  \n",
            "46    8501286    5975       0.657406  \n",
            "47    7523869   22304       0.736370  \n",
            "48    1804291    1243       0.821400  \n",
            "49    5807406    4907       0.558386  \n",
            "50     577601     639       0.679186  \n"
          ]
        }
      ],
      "source": [
        "# Add total col as sum of individuals and family_members\n",
        "homelessness['total']= homelessness['individuals']+ homelessness['family_members']\n",
        "\n",
        "# Add p_individuals col as proportion of individuals\n",
        "homelessness['p_individuals']= homelessness['individuals']/ homelessness['total']\n",
        "\n",
        "# See the result\n",
        "print(homelessness)"
      ]
    },
    {
      "cell_type": "markdown",
      "metadata": {
        "id": "nU1T0AwEz5dR"
      },
      "source": [
        "1. Add a column to homelessness, indiv_per_10k, containing the number of homeless individuals per ten thousand people in each state.\n",
        "2. Subset rows where indiv_per_10k is higher than 20, assigning to high_homelessness.\n",
        "3. Sort high_homelessness by descending indiv_per_10k, assigning to high_homelessness_srt.\n",
        "4. Select only the state and indiv_per_10k columns of high_homelessness_srt and save as result. Look at the result."
      ]
    },
    {
      "cell_type": "code",
      "execution_count": 62,
      "metadata": {
        "id": "IybcAnQ2z5DU"
      },
      "outputs": [
        {
          "name": "stdout",
          "output_type": "stream",
          "text": [
            "                   state  indiv_per_10k\n",
            "8   District of Columbia      53.738381\n",
            "11                Hawaii      29.079406\n",
            "4             California      27.623825\n",
            "37                Oregon      26.636307\n",
            "28                Nevada      23.314189\n",
            "47            Washington      21.829195\n",
            "32              New York      20.392363\n"
          ]
        }
      ],
      "source": [
        "# Create indiv_per_10k col as homeless individuals per 10k state pop\n",
        "homelessness[\"indiv_per_10k\"] = 10000 * homelessness['individuals'] / homelessness['state_pop'] \n",
        "\n",
        "# Subset rows for indiv_per_10k greater than 20\n",
        "high_homelessness = homelessness[homelessness[\"indiv_per_10k\"]>20]\n",
        "\n",
        "# Sort high_homelessness by descending indiv_per_10k\n",
        "high_homelessness_srt = high_homelessness.sort_values('indiv_per_10k', ascending= False)\n",
        "\n",
        "# From high_homelessness_srt, select the state and indiv_per_10k cols\n",
        "result = high_homelessness_srt[['state', 'indiv_per_10k']]\n",
        "\n",
        "# See the result\n",
        "print(result)"
      ]
    },
    {
      "cell_type": "code",
      "execution_count": null,
      "metadata": {},
      "outputs": [],
      "source": []
    }
  ],
  "metadata": {
    "colab": {
      "name": "04. Transforming DataFrames Exercise.ipynb",
      "provenance": []
    },
    "kernelspec": {
      "display_name": "Python 3",
      "name": "python3"
    },
    "language_info": {
      "name": "python"
    }
  },
  "nbformat": 4,
  "nbformat_minor": 0
}
